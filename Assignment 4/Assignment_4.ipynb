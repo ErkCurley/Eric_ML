{
  "nbformat": 4,
  "nbformat_minor": 0,
  "metadata": {
    "colab": {
      "name": "Assignment 4.ipynb",
      "provenance": [],
      "collapsed_sections": []
    },
    "kernelspec": {
      "name": "python3",
      "display_name": "Python 3"
    }
  },
  "cells": [
    {
      "cell_type": "markdown",
      "metadata": {
        "id": "BqAvIGaPyS30"
      },
      "source": [
        "First we import the data from github and create a copy of the data which we will use for analysis(remove NAN values). We want a copy of the original data so we can impute values later."
      ]
    },
    {
      "cell_type": "code",
      "metadata": {
        "id": "3TaeFhv7o3LK"
      },
      "source": [
        "from sklearn import preprocessing\n",
        "from sklearn.cluster import KMeans\n",
        "from sklearn import metrics \n",
        "from scipy.spatial.distance import cdist \n",
        "import matplotlib.pyplot as plt\n",
        "import numpy as np\n",
        "import pandas as pd\n",
        "import math\n",
        "\n",
        "url = \"https://raw.githubusercontent.com/ErkCurley/Eric_ML/master/Assignment%204/Universities.csv\"\n",
        "data = pd.read_csv(url)\n",
        "\n",
        "unis = data\n"
      ],
      "execution_count": 1,
      "outputs": []
    },
    {
      "cell_type": "markdown",
      "metadata": {
        "id": "6Ktrzu3FyjkK"
      },
      "source": [
        "Next we can view the column names, which will make it easier to drop specific columns for the analysis"
      ]
    },
    {
      "cell_type": "code",
      "metadata": {
        "id": "4Hx-21U5pxTC",
        "outputId": "b6100388-2b1c-4fd0-83c1-db8cd5c08353",
        "colab": {
          "base_uri": "https://localhost:8080/"
        }
      },
      "source": [
        "for col in unis.columns: \n",
        "    print(col) "
      ],
      "execution_count": 2,
      "outputs": [
        {
          "output_type": "stream",
          "text": [
            "College Name\n",
            "State\n",
            "Public (1)/ Private (2)\n",
            "# appli. rec'd\n",
            "# appl. accepted\n",
            "# new stud. enrolled\n",
            "% new stud. from top 10%\n",
            "% new stud. from top 25%\n",
            "# FT undergrad\n",
            "# PT undergrad\n",
            "in-state tuition\n",
            "out-of-state tuition\n",
            "room\n",
            "board\n",
            "add. fees\n",
            "estim. book costs\n",
            "estim. personal $\n",
            "% fac. w/PHD\n",
            "stud./fac. ratio\n",
            "Graduation rate\n"
          ],
          "name": "stdout"
        }
      ]
    },
    {
      "cell_type": "markdown",
      "metadata": {
        "id": "vZ5N-c0eysN4"
      },
      "source": [
        "Here we can see that College Name, State, and Public/Private are all non-continuous datatypes"
      ]
    },
    {
      "cell_type": "code",
      "metadata": {
        "id": "nG943dzxp73v",
        "outputId": "a5e0c960-e09a-4164-f07a-1574c8b8b91f",
        "colab": {
          "base_uri": "https://localhost:8080/"
        }
      },
      "source": [
        "unis.dtypes"
      ],
      "execution_count": 3,
      "outputs": [
        {
          "output_type": "execute_result",
          "data": {
            "text/plain": [
              "College Name                 object\n",
              "State                        object\n",
              "Public (1)/ Private (2)       int64\n",
              "# appli. rec'd              float64\n",
              "# appl. accepted            float64\n",
              "# new stud. enrolled        float64\n",
              "% new stud. from top 10%    float64\n",
              "% new stud. from top 25%    float64\n",
              "# FT undergrad              float64\n",
              "# PT undergrad              float64\n",
              "in-state tuition            float64\n",
              "out-of-state tuition        float64\n",
              "room                        float64\n",
              "board                       float64\n",
              "add. fees                   float64\n",
              "estim. book costs           float64\n",
              "estim. personal $           float64\n",
              "% fac. w/PHD                float64\n",
              "stud./fac. ratio            float64\n",
              "Graduation rate             float64\n",
              "dtype: object"
            ]
          },
          "metadata": {
            "tags": []
          },
          "execution_count": 3
        }
      ]
    },
    {
      "cell_type": "code",
      "metadata": {
        "id": "NymIXocSpUHj",
        "outputId": "808356cb-531e-4c39-b153-1935137ce97e",
        "colab": {
          "base_uri": "https://localhost:8080/",
          "height": 922
        }
      },
      "source": [
        "unis"
      ],
      "execution_count": 4,
      "outputs": [
        {
          "output_type": "execute_result",
          "data": {
            "text/html": [
              "<div>\n",
              "<style scoped>\n",
              "    .dataframe tbody tr th:only-of-type {\n",
              "        vertical-align: middle;\n",
              "    }\n",
              "\n",
              "    .dataframe tbody tr th {\n",
              "        vertical-align: top;\n",
              "    }\n",
              "\n",
              "    .dataframe thead th {\n",
              "        text-align: right;\n",
              "    }\n",
              "</style>\n",
              "<table border=\"1\" class=\"dataframe\">\n",
              "  <thead>\n",
              "    <tr style=\"text-align: right;\">\n",
              "      <th></th>\n",
              "      <th>College Name</th>\n",
              "      <th>State</th>\n",
              "      <th>Public (1)/ Private (2)</th>\n",
              "      <th># appli. rec'd</th>\n",
              "      <th># appl. accepted</th>\n",
              "      <th># new stud. enrolled</th>\n",
              "      <th>% new stud. from top 10%</th>\n",
              "      <th>% new stud. from top 25%</th>\n",
              "      <th># FT undergrad</th>\n",
              "      <th># PT undergrad</th>\n",
              "      <th>in-state tuition</th>\n",
              "      <th>out-of-state tuition</th>\n",
              "      <th>room</th>\n",
              "      <th>board</th>\n",
              "      <th>add. fees</th>\n",
              "      <th>estim. book costs</th>\n",
              "      <th>estim. personal $</th>\n",
              "      <th>% fac. w/PHD</th>\n",
              "      <th>stud./fac. ratio</th>\n",
              "      <th>Graduation rate</th>\n",
              "    </tr>\n",
              "  </thead>\n",
              "  <tbody>\n",
              "    <tr>\n",
              "      <th>0</th>\n",
              "      <td>Alaska Pacific University</td>\n",
              "      <td>AK</td>\n",
              "      <td>2</td>\n",
              "      <td>193.0</td>\n",
              "      <td>146.0</td>\n",
              "      <td>55.0</td>\n",
              "      <td>16.0</td>\n",
              "      <td>44.0</td>\n",
              "      <td>249.0</td>\n",
              "      <td>869.0</td>\n",
              "      <td>7560.0</td>\n",
              "      <td>7560.0</td>\n",
              "      <td>1620.0</td>\n",
              "      <td>2500.0</td>\n",
              "      <td>130.0</td>\n",
              "      <td>800.0</td>\n",
              "      <td>1500.0</td>\n",
              "      <td>76.0</td>\n",
              "      <td>11.9</td>\n",
              "      <td>15.0</td>\n",
              "    </tr>\n",
              "    <tr>\n",
              "      <th>1</th>\n",
              "      <td>University of Alaska at Fairbanks</td>\n",
              "      <td>AK</td>\n",
              "      <td>1</td>\n",
              "      <td>1852.0</td>\n",
              "      <td>1427.0</td>\n",
              "      <td>928.0</td>\n",
              "      <td>NaN</td>\n",
              "      <td>NaN</td>\n",
              "      <td>3885.0</td>\n",
              "      <td>4519.0</td>\n",
              "      <td>1742.0</td>\n",
              "      <td>5226.0</td>\n",
              "      <td>1800.0</td>\n",
              "      <td>1790.0</td>\n",
              "      <td>155.0</td>\n",
              "      <td>650.0</td>\n",
              "      <td>2304.0</td>\n",
              "      <td>67.0</td>\n",
              "      <td>10.0</td>\n",
              "      <td>NaN</td>\n",
              "    </tr>\n",
              "    <tr>\n",
              "      <th>2</th>\n",
              "      <td>University of Alaska Southeast</td>\n",
              "      <td>AK</td>\n",
              "      <td>1</td>\n",
              "      <td>146.0</td>\n",
              "      <td>117.0</td>\n",
              "      <td>89.0</td>\n",
              "      <td>4.0</td>\n",
              "      <td>24.0</td>\n",
              "      <td>492.0</td>\n",
              "      <td>1849.0</td>\n",
              "      <td>1742.0</td>\n",
              "      <td>5226.0</td>\n",
              "      <td>2514.0</td>\n",
              "      <td>2250.0</td>\n",
              "      <td>34.0</td>\n",
              "      <td>500.0</td>\n",
              "      <td>1162.0</td>\n",
              "      <td>39.0</td>\n",
              "      <td>9.5</td>\n",
              "      <td>39.0</td>\n",
              "    </tr>\n",
              "    <tr>\n",
              "      <th>3</th>\n",
              "      <td>University of Alaska at Anchorage</td>\n",
              "      <td>AK</td>\n",
              "      <td>1</td>\n",
              "      <td>2065.0</td>\n",
              "      <td>1598.0</td>\n",
              "      <td>1162.0</td>\n",
              "      <td>NaN</td>\n",
              "      <td>NaN</td>\n",
              "      <td>6209.0</td>\n",
              "      <td>10537.0</td>\n",
              "      <td>1742.0</td>\n",
              "      <td>5226.0</td>\n",
              "      <td>2600.0</td>\n",
              "      <td>2520.0</td>\n",
              "      <td>114.0</td>\n",
              "      <td>580.0</td>\n",
              "      <td>1260.0</td>\n",
              "      <td>48.0</td>\n",
              "      <td>13.7</td>\n",
              "      <td>NaN</td>\n",
              "    </tr>\n",
              "    <tr>\n",
              "      <th>4</th>\n",
              "      <td>Alabama Agri. &amp; Mech. Univ.</td>\n",
              "      <td>AL</td>\n",
              "      <td>1</td>\n",
              "      <td>2817.0</td>\n",
              "      <td>1920.0</td>\n",
              "      <td>984.0</td>\n",
              "      <td>NaN</td>\n",
              "      <td>NaN</td>\n",
              "      <td>3958.0</td>\n",
              "      <td>305.0</td>\n",
              "      <td>1700.0</td>\n",
              "      <td>3400.0</td>\n",
              "      <td>1108.0</td>\n",
              "      <td>1442.0</td>\n",
              "      <td>155.0</td>\n",
              "      <td>500.0</td>\n",
              "      <td>850.0</td>\n",
              "      <td>53.0</td>\n",
              "      <td>14.3</td>\n",
              "      <td>40.0</td>\n",
              "    </tr>\n",
              "    <tr>\n",
              "      <th>...</th>\n",
              "      <td>...</td>\n",
              "      <td>...</td>\n",
              "      <td>...</td>\n",
              "      <td>...</td>\n",
              "      <td>...</td>\n",
              "      <td>...</td>\n",
              "      <td>...</td>\n",
              "      <td>...</td>\n",
              "      <td>...</td>\n",
              "      <td>...</td>\n",
              "      <td>...</td>\n",
              "      <td>...</td>\n",
              "      <td>...</td>\n",
              "      <td>...</td>\n",
              "      <td>...</td>\n",
              "      <td>...</td>\n",
              "      <td>...</td>\n",
              "      <td>...</td>\n",
              "      <td>...</td>\n",
              "      <td>...</td>\n",
              "    </tr>\n",
              "    <tr>\n",
              "      <th>1297</th>\n",
              "      <td>West Virginia State College</td>\n",
              "      <td>WV</td>\n",
              "      <td>1</td>\n",
              "      <td>1869.0</td>\n",
              "      <td>NaN</td>\n",
              "      <td>957.0</td>\n",
              "      <td>NaN</td>\n",
              "      <td>NaN</td>\n",
              "      <td>2817.0</td>\n",
              "      <td>1939.0</td>\n",
              "      <td>1988.0</td>\n",
              "      <td>4616.0</td>\n",
              "      <td>1500.0</td>\n",
              "      <td>1700.0</td>\n",
              "      <td>50.0</td>\n",
              "      <td>750.0</td>\n",
              "      <td>750.0</td>\n",
              "      <td>38.0</td>\n",
              "      <td>19.2</td>\n",
              "      <td>NaN</td>\n",
              "    </tr>\n",
              "    <tr>\n",
              "      <th>1298</th>\n",
              "      <td>West Virginia University</td>\n",
              "      <td>WV</td>\n",
              "      <td>1</td>\n",
              "      <td>9630.0</td>\n",
              "      <td>7801.0</td>\n",
              "      <td>2881.0</td>\n",
              "      <td>23.0</td>\n",
              "      <td>49.0</td>\n",
              "      <td>14524.0</td>\n",
              "      <td>1053.0</td>\n",
              "      <td>2128.0</td>\n",
              "      <td>6370.0</td>\n",
              "      <td>2284.0</td>\n",
              "      <td>2026.0</td>\n",
              "      <td>NaN</td>\n",
              "      <td>NaN</td>\n",
              "      <td>NaN</td>\n",
              "      <td>83.0</td>\n",
              "      <td>13.4</td>\n",
              "      <td>57.0</td>\n",
              "    </tr>\n",
              "    <tr>\n",
              "      <th>1299</th>\n",
              "      <td>West Virginia Wesleyan College</td>\n",
              "      <td>WV</td>\n",
              "      <td>2</td>\n",
              "      <td>1566.0</td>\n",
              "      <td>1400.0</td>\n",
              "      <td>483.0</td>\n",
              "      <td>28.0</td>\n",
              "      <td>55.0</td>\n",
              "      <td>1509.0</td>\n",
              "      <td>170.0</td>\n",
              "      <td>14200.0</td>\n",
              "      <td>14200.0</td>\n",
              "      <td>1750.0</td>\n",
              "      <td>2025.0</td>\n",
              "      <td>NaN</td>\n",
              "      <td>450.0</td>\n",
              "      <td>1100.0</td>\n",
              "      <td>58.0</td>\n",
              "      <td>16.4</td>\n",
              "      <td>67.0</td>\n",
              "    </tr>\n",
              "    <tr>\n",
              "      <th>1300</th>\n",
              "      <td>Wheeling Jesuit College</td>\n",
              "      <td>WV</td>\n",
              "      <td>2</td>\n",
              "      <td>903.0</td>\n",
              "      <td>755.0</td>\n",
              "      <td>213.0</td>\n",
              "      <td>15.0</td>\n",
              "      <td>49.0</td>\n",
              "      <td>971.0</td>\n",
              "      <td>305.0</td>\n",
              "      <td>10500.0</td>\n",
              "      <td>10500.0</td>\n",
              "      <td>2100.0</td>\n",
              "      <td>2445.0</td>\n",
              "      <td>NaN</td>\n",
              "      <td>600.0</td>\n",
              "      <td>600.0</td>\n",
              "      <td>66.0</td>\n",
              "      <td>14.1</td>\n",
              "      <td>72.0</td>\n",
              "    </tr>\n",
              "    <tr>\n",
              "      <th>1301</th>\n",
              "      <td>University of Wyoming</td>\n",
              "      <td>WY</td>\n",
              "      <td>1</td>\n",
              "      <td>2029.0</td>\n",
              "      <td>1516.0</td>\n",
              "      <td>1073.0</td>\n",
              "      <td>23.0</td>\n",
              "      <td>46.0</td>\n",
              "      <td>7535.0</td>\n",
              "      <td>1488.0</td>\n",
              "      <td>1908.0</td>\n",
              "      <td>5988.0</td>\n",
              "      <td>1462.0</td>\n",
              "      <td>1960.0</td>\n",
              "      <td>300.0</td>\n",
              "      <td>600.0</td>\n",
              "      <td>1500.0</td>\n",
              "      <td>91.0</td>\n",
              "      <td>15.1</td>\n",
              "      <td>45.0</td>\n",
              "    </tr>\n",
              "  </tbody>\n",
              "</table>\n",
              "<p>1302 rows × 20 columns</p>\n",
              "</div>"
            ],
            "text/plain": [
              "                           College Name  ... Graduation rate\n",
              "0             Alaska Pacific University  ...            15.0\n",
              "1     University of Alaska at Fairbanks  ...             NaN\n",
              "2        University of Alaska Southeast  ...            39.0\n",
              "3     University of Alaska at Anchorage  ...             NaN\n",
              "4           Alabama Agri. & Mech. Univ.  ...            40.0\n",
              "...                                 ...  ...             ...\n",
              "1297        West Virginia State College  ...             NaN\n",
              "1298           West Virginia University  ...            57.0\n",
              "1299     West Virginia Wesleyan College  ...            67.0\n",
              "1300            Wheeling Jesuit College  ...            72.0\n",
              "1301              University of Wyoming  ...            45.0\n",
              "\n",
              "[1302 rows x 20 columns]"
            ]
          },
          "metadata": {
            "tags": []
          },
          "execution_count": 4
        }
      ]
    },
    {
      "cell_type": "markdown",
      "metadata": {
        "id": "8cj23ekFy2EF"
      },
      "source": [
        "It's quite simple to drop all rows with NAN values"
      ]
    },
    {
      "cell_type": "code",
      "metadata": {
        "id": "4JWCJFCrqNBC"
      },
      "source": [
        "unis = unis.dropna()"
      ],
      "execution_count": 5,
      "outputs": []
    },
    {
      "cell_type": "markdown",
      "metadata": {
        "id": "rSNk0ql7y8jE"
      },
      "source": [
        "Next we have a list of columns to normalize. I'm using a lambda function to map the values from 0-1"
      ]
    },
    {
      "cell_type": "code",
      "metadata": {
        "id": "-ASkuqzqrWU9",
        "outputId": "44bbee18-9ddd-4461-d058-44e74c00d33d",
        "colab": {
          "base_uri": "https://localhost:8080/"
        }
      },
      "source": [
        "cols_to_norm = [\n",
        "\"# appli. rec'd\",\n",
        "\"# appl. accepted\",\n",
        "\"# new stud. enrolled\",\n",
        "\"% new stud. from top 10%\",\n",
        "\"% new stud. from top 25%\",\n",
        "\"# FT undergrad\",\n",
        "\"# PT undergrad\",\n",
        "\"in-state tuition\",\n",
        "\"out-of-state tuition\",\n",
        "\"room\",\n",
        "\"board\",\n",
        "\"add. fees\",\n",
        "\"estim. book costs\",\n",
        "\"estim. personal $\",\n",
        "\"% fac. w/PHD\",\n",
        "\"stud./fac. ratio\",\n",
        "\"Graduation rate\"]\n",
        "\n",
        "unis[cols_to_norm] = unis[cols_to_norm].apply(lambda x: (x - x.min()) / (x.max() - x.min()))"
      ],
      "execution_count": 6,
      "outputs": [
        {
          "output_type": "stream",
          "text": [
            "/usr/local/lib/python3.6/dist-packages/pandas/core/frame.py:3065: SettingWithCopyWarning: \n",
            "A value is trying to be set on a copy of a slice from a DataFrame.\n",
            "Try using .loc[row_indexer,col_indexer] = value instead\n",
            "\n",
            "See the caveats in the documentation: https://pandas.pydata.org/pandas-docs/stable/user_guide/indexing.html#returning-a-view-versus-a-copy\n",
            "  self[k1] = value[k2]\n"
          ],
          "name": "stderr"
        }
      ]
    },
    {
      "cell_type": "code",
      "metadata": {
        "id": "oSo2KWrHu8LA",
        "outputId": "cb079507-c21d-48fe-c9c6-b6f0262239a3",
        "colab": {
          "base_uri": "https://localhost:8080/",
          "height": 752
        }
      },
      "source": [
        "unis"
      ],
      "execution_count": 7,
      "outputs": [
        {
          "output_type": "execute_result",
          "data": {
            "text/html": [
              "<div>\n",
              "<style scoped>\n",
              "    .dataframe tbody tr th:only-of-type {\n",
              "        vertical-align: middle;\n",
              "    }\n",
              "\n",
              "    .dataframe tbody tr th {\n",
              "        vertical-align: top;\n",
              "    }\n",
              "\n",
              "    .dataframe thead th {\n",
              "        text-align: right;\n",
              "    }\n",
              "</style>\n",
              "<table border=\"1\" class=\"dataframe\">\n",
              "  <thead>\n",
              "    <tr style=\"text-align: right;\">\n",
              "      <th></th>\n",
              "      <th>College Name</th>\n",
              "      <th>State</th>\n",
              "      <th>Public (1)/ Private (2)</th>\n",
              "      <th># appli. rec'd</th>\n",
              "      <th># appl. accepted</th>\n",
              "      <th># new stud. enrolled</th>\n",
              "      <th>% new stud. from top 10%</th>\n",
              "      <th>% new stud. from top 25%</th>\n",
              "      <th># FT undergrad</th>\n",
              "      <th># PT undergrad</th>\n",
              "      <th>in-state tuition</th>\n",
              "      <th>out-of-state tuition</th>\n",
              "      <th>room</th>\n",
              "      <th>board</th>\n",
              "      <th>add. fees</th>\n",
              "      <th>estim. book costs</th>\n",
              "      <th>estim. personal $</th>\n",
              "      <th>% fac. w/PHD</th>\n",
              "      <th>stud./fac. ratio</th>\n",
              "      <th>Graduation rate</th>\n",
              "    </tr>\n",
              "  </thead>\n",
              "  <tbody>\n",
              "    <tr>\n",
              "      <th>0</th>\n",
              "      <td>Alaska Pacific University</td>\n",
              "      <td>AK</td>\n",
              "      <td>2</td>\n",
              "      <td>0.002416</td>\n",
              "      <td>0.003236</td>\n",
              "      <td>0.004399</td>\n",
              "      <td>0.157895</td>\n",
              "      <td>0.384615</td>\n",
              "      <td>0.000000</td>\n",
              "      <td>0.039753</td>\n",
              "      <td>0.356659</td>\n",
              "      <td>0.341940</td>\n",
              "      <td>0.234674</td>\n",
              "      <td>0.491022</td>\n",
              "      <td>0.037071</td>\n",
              "      <td>0.315556</td>\n",
              "      <td>0.190840</td>\n",
              "      <td>0.715789</td>\n",
              "      <td>0.347490</td>\n",
              "      <td>0.000000</td>\n",
              "    </tr>\n",
              "    <tr>\n",
              "      <th>2</th>\n",
              "      <td>University of Alaska Southeast</td>\n",
              "      <td>AK</td>\n",
              "      <td>1</td>\n",
              "      <td>0.001437</td>\n",
              "      <td>0.002132</td>\n",
              "      <td>0.009741</td>\n",
              "      <td>0.031579</td>\n",
              "      <td>0.164835</td>\n",
              "      <td>0.007740</td>\n",
              "      <td>0.084635</td>\n",
              "      <td>0.058178</td>\n",
              "      <td>0.219458</td>\n",
              "      <td>0.448755</td>\n",
              "      <td>0.428678</td>\n",
              "      <td>0.007414</td>\n",
              "      <td>0.182222</td>\n",
              "      <td>0.139237</td>\n",
              "      <td>0.326316</td>\n",
              "      <td>0.254826</td>\n",
              "      <td>0.233010</td>\n",
              "    </tr>\n",
              "    <tr>\n",
              "      <th>9</th>\n",
              "      <td>Birmingham-Southern College</td>\n",
              "      <td>AL</td>\n",
              "      <td>2</td>\n",
              "      <td>0.015161</td>\n",
              "      <td>0.020062</td>\n",
              "      <td>0.040848</td>\n",
              "      <td>0.694737</td>\n",
              "      <td>0.868132</td>\n",
              "      <td>0.035899</td>\n",
              "      <td>0.009434</td>\n",
              "      <td>0.567002</td>\n",
              "      <td>0.557095</td>\n",
              "      <td>0.337644</td>\n",
              "      <td>0.473566</td>\n",
              "      <td>0.033982</td>\n",
              "      <td>0.137778</td>\n",
              "      <td>0.099237</td>\n",
              "      <td>0.694737</td>\n",
              "      <td>0.428571</td>\n",
              "      <td>0.553398</td>\n",
              "    </tr>\n",
              "    <tr>\n",
              "      <th>11</th>\n",
              "      <td>Huntingdon College</td>\n",
              "      <td>AL</td>\n",
              "      <td>2</td>\n",
              "      <td>0.011059</td>\n",
              "      <td>0.017473</td>\n",
              "      <td>0.015711</td>\n",
              "      <td>0.263158</td>\n",
              "      <td>0.417582</td>\n",
              "      <td>0.009206</td>\n",
              "      <td>0.005725</td>\n",
              "      <td>0.383337</td>\n",
              "      <td>0.369228</td>\n",
              "      <td>0.177203</td>\n",
              "      <td>0.500998</td>\n",
              "      <td>0.027804</td>\n",
              "      <td>0.182222</td>\n",
              "      <td>0.129771</td>\n",
              "      <td>0.578947</td>\n",
              "      <td>0.328185</td>\n",
              "      <td>0.281553</td>\n",
              "    </tr>\n",
              "    <tr>\n",
              "      <th>21</th>\n",
              "      <td>Talladega College</td>\n",
              "      <td>AL</td>\n",
              "      <td>2</td>\n",
              "      <td>0.090322</td>\n",
              "      <td>0.054779</td>\n",
              "      <td>0.048390</td>\n",
              "      <td>0.305263</td>\n",
              "      <td>0.560440</td>\n",
              "      <td>0.020991</td>\n",
              "      <td>0.005404</td>\n",
              "      <td>0.259491</td>\n",
              "      <td>0.242548</td>\n",
              "      <td>0.187739</td>\n",
              "      <td>0.251621</td>\n",
              "      <td>0.126043</td>\n",
              "      <td>0.404444</td>\n",
              "      <td>0.175573</td>\n",
              "      <td>0.505263</td>\n",
              "      <td>0.486486</td>\n",
              "      <td>0.300971</td>\n",
              "    </tr>\n",
              "    <tr>\n",
              "      <th>...</th>\n",
              "      <td>...</td>\n",
              "      <td>...</td>\n",
              "      <td>...</td>\n",
              "      <td>...</td>\n",
              "      <td>...</td>\n",
              "      <td>...</td>\n",
              "      <td>...</td>\n",
              "      <td>...</td>\n",
              "      <td>...</td>\n",
              "      <td>...</td>\n",
              "      <td>...</td>\n",
              "      <td>...</td>\n",
              "      <td>...</td>\n",
              "      <td>...</td>\n",
              "      <td>...</td>\n",
              "      <td>...</td>\n",
              "      <td>...</td>\n",
              "      <td>...</td>\n",
              "      <td>...</td>\n",
              "      <td>...</td>\n",
              "    </tr>\n",
              "    <tr>\n",
              "      <th>1274</th>\n",
              "      <td>Univ. of Wisconsin at Eau Claire</td>\n",
              "      <td>WI</td>\n",
              "      <td>1</td>\n",
              "      <td>0.117708</td>\n",
              "      <td>0.169744</td>\n",
              "      <td>0.303221</td>\n",
              "      <td>0.200000</td>\n",
              "      <td>0.472527</td>\n",
              "      <td>0.263331</td>\n",
              "      <td>0.057843</td>\n",
              "      <td>0.082085</td>\n",
              "      <td>0.312343</td>\n",
              "      <td>0.221504</td>\n",
              "      <td>0.151870</td>\n",
              "      <td>0.327464</td>\n",
              "      <td>0.084000</td>\n",
              "      <td>0.154198</td>\n",
              "      <td>0.757895</td>\n",
              "      <td>0.633205</td>\n",
              "      <td>0.446602</td>\n",
              "    </tr>\n",
              "    <tr>\n",
              "      <th>1283</th>\n",
              "      <td>Wisconsin Lutheran College</td>\n",
              "      <td>WI</td>\n",
              "      <td>2</td>\n",
              "      <td>0.001562</td>\n",
              "      <td>0.002551</td>\n",
              "      <td>0.007541</td>\n",
              "      <td>0.168421</td>\n",
              "      <td>0.351648</td>\n",
              "      <td>0.001051</td>\n",
              "      <td>0.000962</td>\n",
              "      <td>0.435666</td>\n",
              "      <td>0.422754</td>\n",
              "      <td>0.277778</td>\n",
              "      <td>0.341397</td>\n",
              "      <td>0.024714</td>\n",
              "      <td>0.182222</td>\n",
              "      <td>0.175573</td>\n",
              "      <td>0.421053</td>\n",
              "      <td>0.216216</td>\n",
              "      <td>0.339806</td>\n",
              "    </tr>\n",
              "    <tr>\n",
              "      <th>1284</th>\n",
              "      <td>Alderson-Broaddus College</td>\n",
              "      <td>WV</td>\n",
              "      <td>2</td>\n",
              "      <td>0.010517</td>\n",
              "      <td>0.016636</td>\n",
              "      <td>0.022781</td>\n",
              "      <td>0.210526</td>\n",
              "      <td>0.384615</td>\n",
              "      <td>0.017519</td>\n",
              "      <td>0.003526</td>\n",
              "      <td>0.505849</td>\n",
              "      <td>0.494542</td>\n",
              "      <td>0.223659</td>\n",
              "      <td>0.317955</td>\n",
              "      <td>0.025332</td>\n",
              "      <td>0.253333</td>\n",
              "      <td>0.236641</td>\n",
              "      <td>0.336842</td>\n",
              "      <td>0.332046</td>\n",
              "      <td>0.359223</td>\n",
              "    </tr>\n",
              "    <tr>\n",
              "      <th>1291</th>\n",
              "      <td>Marshall University</td>\n",
              "      <td>WV</td>\n",
              "      <td>2</td>\n",
              "      <td>0.086407</td>\n",
              "      <td>0.137234</td>\n",
              "      <td>0.311076</td>\n",
              "      <td>0.136842</td>\n",
              "      <td>0.560440</td>\n",
              "      <td>0.237434</td>\n",
              "      <td>0.107076</td>\n",
              "      <td>0.053971</td>\n",
              "      <td>0.212531</td>\n",
              "      <td>0.332854</td>\n",
              "      <td>0.361347</td>\n",
              "      <td>0.098857</td>\n",
              "      <td>0.271111</td>\n",
              "      <td>0.200000</td>\n",
              "      <td>0.726316</td>\n",
              "      <td>0.528958</td>\n",
              "      <td>0.339806</td>\n",
              "    </tr>\n",
              "    <tr>\n",
              "      <th>1301</th>\n",
              "      <td>University of Wyoming</td>\n",
              "      <td>WY</td>\n",
              "      <td>1</td>\n",
              "      <td>0.040652</td>\n",
              "      <td>0.055388</td>\n",
              "      <td>0.164336</td>\n",
              "      <td>0.231579</td>\n",
              "      <td>0.406593</td>\n",
              "      <td>0.232083</td>\n",
              "      <td>0.068102</td>\n",
              "      <td>0.066694</td>\n",
              "      <td>0.259446</td>\n",
              "      <td>0.196839</td>\n",
              "      <td>0.356359</td>\n",
              "      <td>0.089589</td>\n",
              "      <td>0.226667</td>\n",
              "      <td>0.190840</td>\n",
              "      <td>0.873684</td>\n",
              "      <td>0.471042</td>\n",
              "      <td>0.291262</td>\n",
              "    </tr>\n",
              "  </tbody>\n",
              "</table>\n",
              "<p>471 rows × 20 columns</p>\n",
              "</div>"
            ],
            "text/plain": [
              "                          College Name State  ...  stud./fac. ratio  Graduation rate\n",
              "0            Alaska Pacific University    AK  ...          0.347490         0.000000\n",
              "2       University of Alaska Southeast    AK  ...          0.254826         0.233010\n",
              "9          Birmingham-Southern College    AL  ...          0.428571         0.553398\n",
              "11                  Huntingdon College    AL  ...          0.328185         0.281553\n",
              "21                   Talladega College    AL  ...          0.486486         0.300971\n",
              "...                                ...   ...  ...               ...              ...\n",
              "1274  Univ. of Wisconsin at Eau Claire    WI  ...          0.633205         0.446602\n",
              "1283        Wisconsin Lutheran College    WI  ...          0.216216         0.339806\n",
              "1284         Alderson-Broaddus College    WV  ...          0.332046         0.359223\n",
              "1291               Marshall University    WV  ...          0.528958         0.339806\n",
              "1301             University of Wyoming    WY  ...          0.471042         0.291262\n",
              "\n",
              "[471 rows x 20 columns]"
            ]
          },
          "metadata": {
            "tags": []
          },
          "execution_count": 7
        }
      ]
    },
    {
      "cell_type": "markdown",
      "metadata": {
        "id": "i1l_Qyz9zKwQ"
      },
      "source": [
        "Next we can take a look at the relationship between two of the variables. To see if the mapping has worked correctly."
      ]
    },
    {
      "cell_type": "code",
      "metadata": {
        "id": "CA3FWfy2x_PY",
        "outputId": "638f5421-43a3-4010-e618-89f9afe3863b",
        "colab": {
          "base_uri": "https://localhost:8080/",
          "height": 281
        }
      },
      "source": [
        "plt.plot() \n",
        "plt.xlim([0, 1]) \n",
        "plt.ylim([0, 1]) \n",
        "plt.title('Dataset') \n",
        "plt.scatter(unis['# appl. accepted'], unis['# FT undergrad']) \n",
        "plt.show() \n",
        "\n",
        "\n"
      ],
      "execution_count": 8,
      "outputs": [
        {
          "output_type": "display_data",
          "data": {
            "image/png": "[encoded data removed]",
            "text/plain": [
              "<Figure size 432x288 with 1 Axes>"
            ]
          },
          "metadata": {
            "tags": [],
            "needs_background": "light"
          }
        }
      ]
    },
    {
      "cell_type": "markdown",
      "metadata": {
        "id": "c9S9uNCwzay0"
      },
      "source": [
        "Next we can plot the relationship between all combinations of two variables. This should show some interesting trends in the data but is not neccessary for a classification algorithm such as kmeans."
      ]
    },
    {
      "cell_type": "code",
      "metadata": {
        "id": "h16bR4acyq_1"
      },
      "source": [
        "import seaborn as sns\n",
        "sns.set_theme(style=\"ticks\")\n",
        "\n",
        "sns.pairplot(unis)"
      ],
      "execution_count": 9,
      "outputs": []
    },
    {
      "cell_type": "markdown",
      "metadata": {
        "id": "NQ2rNMpWzpcl"
      },
      "source": [
        "Next we must drop all the non-continuous values from the data to perform the kmeans clustering."
      ]
    },
    {
      "cell_type": "code",
      "metadata": {
        "id": "F89Vj0WowOWm",
        "outputId": "571975fa-ca4a-4e5f-f30e-464401656a18",
        "colab": {
          "base_uri": "https://localhost:8080/"
        }
      },
      "source": [
        "X = unis.drop(['College Name', 'State', 'Public (1)/ Private (2)'], axis=1).to_numpy()\n",
        "\n",
        "kmeans = KMeans(n_clusters=2, random_state=0).fit(X)\n",
        "kmeans.cluster_centers_"
      ],
      "execution_count": 10,
      "outputs": [
        {
          "output_type": "execute_result",
          "data": {
            "text/plain": [
              "array([[0.06732781, 0.07224437, 0.09557747, 0.43684211, 0.6839712 ,\n",
              "        0.07263523, 0.01753801, 0.73597627, 0.73515296, 0.48018095,\n",
              "        0.49383151, 0.1068234 , 0.20526437, 0.12161183, 0.80084694,\n",
              "        0.3312475 , 0.62108024],\n",
              "       [0.06195842, 0.07853299, 0.13179292, 0.19500266, 0.41229141,\n",
              "        0.12484864, 0.04757105, 0.28467416, 0.36249671, 0.31911629,\n",
              "        0.3398633 , 0.11820605, 0.20310662, 0.18586527, 0.61935141,\n",
              "        0.48330148, 0.41463175]])"
            ]
          },
          "metadata": {
            "tags": []
          },
          "execution_count": 10
        }
      ]
    },
    {
      "cell_type": "markdown",
      "metadata": {
        "id": "vrJXlsBvz1ZQ"
      },
      "source": [
        "Next we need to identify the ideal number of clusters to choose for our analysis. I chose to use the elbow method becuase I have no apriori assumptions about the number of clusers."
      ]
    },
    {
      "cell_type": "code",
      "metadata": {
        "id": "aD80q2Iv2r-A"
      },
      "source": [
        "distortions = [] \n",
        "inertias = [] \n",
        "\n",
        "K = range(1,10) \n",
        "  \n",
        "for k in K: \n",
        "    #Building and fitting the model \n",
        "    kmeanModel = KMeans(n_clusters=k).fit(X) \n",
        "    kmeanModel.fit(X)     \n",
        "      \n",
        "    distortions.append(sum(np.min(cdist(X, kmeanModel.cluster_centers_, \n",
        "                      'euclidean'),axis=1)) / X.shape[0]) \n",
        "    inertias.append(kmeanModel.inertia_)"
      ],
      "execution_count": 11,
      "outputs": []
    },
    {
      "cell_type": "code",
      "metadata": {
        "id": "m7xHddqX4WHY",
        "outputId": "333eca08-2eca-47fc-fc3c-d34ade99cbba",
        "colab": {
          "base_uri": "https://localhost:8080/",
          "height": 301
        }
      },
      "source": [
        "plt.plot(K, distortions, 'bx-') \n",
        "plt.xlabel('Values of K') \n",
        "plt.ylabel('Distortion') \n",
        "plt.title('The Elbow Method using Distortion') \n",
        "plt.show()"
      ],
      "execution_count": 12,
      "outputs": [
        {
          "output_type": "display_data",
          "data": {
            "image/png": "[encoded data removed]",
            "text/plain": [
              "<Figure size 432x288 with 1 Axes>"
            ]
          },
          "metadata": {
            "tags": []
          }
        }
      ]
    },
    {
      "cell_type": "code",
      "metadata": {
        "id": "1SUjRiZY4eCc",
        "outputId": "2f361b2e-dc03-41e4-abf1-8e883696fd53",
        "colab": {
          "base_uri": "https://localhost:8080/",
          "height": 301
        }
      },
      "source": [
        "plt.plot(K, inertias, 'bx-') \n",
        "plt.xlabel('Values of K') \n",
        "plt.ylabel('Inertia') \n",
        "plt.title('The Elbow Method using Inertia') \n",
        "plt.show()"
      ],
      "execution_count": 13,
      "outputs": [
        {
          "output_type": "display_data",
          "data": {
            "image/png": "[encoded data removed]",
            "text/plain": [
              "<Figure size 432x288 with 1 Axes>"
            ]
          },
          "metadata": {
            "tags": []
          }
        }
      ]
    },
    {
      "cell_type": "markdown",
      "metadata": {
        "id": "larPMDK00KnK"
      },
      "source": [
        "The elbow is a little difficult to tell where the ideal number of clusters is, I chose three as the number of clusers going forward."
      ]
    },
    {
      "cell_type": "code",
      "metadata": {
        "id": "wH1QgvSY4uI-"
      },
      "source": [
        "kmeans = KMeans(n_clusters=3, random_state=0).fit(X)\n",
        "centers = kmeans.cluster_centers_"
      ],
      "execution_count": 14,
      "outputs": []
    },
    {
      "cell_type": "markdown",
      "metadata": {
        "id": "2nzDDzbW0aSB"
      },
      "source": [
        "Next we can display the center of each cluster for each of the variables.\n",
        "\n",
        "The following is the summary of the 3 clusters:\n",
        "\n",
        "![image.png](data:image/png;base64,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)"
      ]
    },
    {
      "cell_type": "code",
      "metadata": {
        "id": "fmNhP9fmC1Bl",
        "outputId": "a1632fde-db35-4d89-9b79-73bc75a71e55",
        "colab": {
          "base_uri": "https://localhost:8080/"
        }
      },
      "source": [
        "column_names = [\"Name\", \"Cluster A\", \"Cluster B\", \"Cluster C\"]\n",
        "\n",
        "df = pd.DataFrame(columns = column_names)\n",
        "\n",
        "indexNum = 0\n",
        "for i in cols_to_norm:\n",
        "  output = [i]\n",
        "  for j in centers:\n",
        "    output.append(round(j[indexNum],5))\n",
        "  indexNum = indexNum + 1\n",
        "  # df.append(pd.DataFrame(output,columns=column_names))\n",
        "  print(output)"
      ],
      "execution_count": 15,
      "outputs": [
        {
          "output_type": "stream",
          "text": [
            "[\"# appli. rec'd\", 0.08805, 0.02615, 0.10418]\n",
            "['# appl. accepted', 0.08569, 0.03654, 0.12924]\n",
            "['# new stud. enrolled', 0.11142, 0.05278, 0.22163]\n",
            "['% new stud. from top 10%', 0.54528, 0.22257, 0.19893]\n",
            "['% new stud. from top 25%', 0.78022, 0.44733, 0.42805]\n",
            "['# FT undergrad', 0.08459, 0.03854, 0.2204]\n",
            "['# PT undergrad', 0.01072, 0.02139, 0.07669]\n",
            "['in-state tuition', 0.82616, 0.50799, 0.11076]\n",
            "['out-of-state tuition', 0.83123, 0.49884, 0.27622]\n",
            "['room', 0.52655, 0.36115, 0.30387]\n",
            "['board', 0.50856, 0.40779, 0.30387]\n",
            "['add. fees', 0.11758, 0.07936, 0.16353]\n",
            "['estim. book costs', 0.21552, 0.19818, 0.20456]\n",
            "['estim. personal $', 0.10996, 0.15507, 0.20831]\n",
            "['% fac. w/PHD', 0.85336, 0.60612, 0.69289]\n",
            "['stud./fac. ratio', 0.29607, 0.40961, 0.54284]\n",
            "['Graduation rate', 0.66481, 0.48592, 0.37969]\n"
          ],
          "name": "stdout"
        }
      ]
    },
    {
      "cell_type": "markdown",
      "metadata": {
        "id": "G8bfjJYP4wbS"
      },
      "source": [
        "We can now make a prediction/classification for each record individually"
      ]
    },
    {
      "cell_type": "code",
      "metadata": {
        "id": "CxxyJ47gHLsv",
        "outputId": "100f8543-623d-4ce0-9494-3891a1ad7146",
        "colab": {
          "base_uri": "https://localhost:8080/"
        }
      },
      "source": [
        "Y = []\n",
        "for x in X:\n",
        "  Y.append(kmeans.predict(x.reshape(1,-1)))\n",
        "\n",
        "Y[0]"
      ],
      "execution_count": 16,
      "outputs": [
        {
          "output_type": "execute_result",
          "data": {
            "text/plain": [
              "array([1], dtype=int32)"
            ]
          },
          "metadata": {
            "tags": []
          },
          "execution_count": 16
        }
      ]
    },
    {
      "cell_type": "code",
      "metadata": {
        "id": "TRqiCdQvIDcm",
        "outputId": "41aed19b-8a9b-4ca2-ea26-1a7b5dd25897",
        "colab": {
          "base_uri": "https://localhost:8080/"
        }
      },
      "source": [
        "Y = kmeans.predict(X)\n",
        "Y"
      ],
      "execution_count": 17,
      "outputs": [
        {
          "output_type": "execute_result",
          "data": {
            "text/plain": [
              "array([1, 2, 0, 1, 2, 2, 1, 1, 1, 2, 2, 2, 2, 0, 0, 0, 0, 0, 1, 0, 1, 0,\n",
              "       1, 0, 0, 0, 1, 2, 0, 2, 2, 2, 2, 2, 0, 1, 1, 0, 1, 1, 0, 2, 2, 1,\n",
              "       0, 0, 1, 2, 1, 2, 0, 1, 1, 0, 1, 0, 2, 2, 0, 1, 1, 2, 1, 1, 2, 1,\n",
              "       1, 1, 1, 1, 1, 1, 0, 1, 1, 1, 1, 1, 2, 1, 1, 1, 1, 1, 1, 1, 1, 0,\n",
              "       0, 0, 1, 1, 1, 2, 1, 1, 0, 2, 2, 2, 1, 0, 0, 0, 1, 1, 1, 2, 1, 1,\n",
              "       1, 1, 1, 0, 1, 1, 1, 1, 1, 1, 1, 1, 1, 0, 1, 1, 2, 0, 1, 2, 2, 1,\n",
              "       0, 0, 1, 1, 0, 1, 0, 0, 1, 0, 1, 0, 2, 2, 2, 2, 0, 1, 2, 0, 0, 0,\n",
              "       0, 0, 2, 2, 2, 0, 0, 2, 1, 2, 1, 0, 1, 1, 1, 1, 2, 2, 2, 1, 1, 2,\n",
              "       1, 0, 1, 1, 1, 1, 0, 2, 1, 1, 2, 2, 1, 1, 1, 1, 1, 2, 2, 1, 2, 1,\n",
              "       0, 1, 1, 1, 1, 1, 2, 2, 2, 2, 2, 1, 2, 2, 2, 0, 0, 2, 1, 2, 1, 1,\n",
              "       1, 1, 1, 1, 2, 1, 1, 2, 2, 2, 2, 2, 1, 2, 1, 2, 2, 2, 1, 1, 1, 1,\n",
              "       2, 2, 2, 0, 1, 1, 2, 2, 1, 0, 1, 2, 1, 2, 2, 0, 2, 1, 1, 2, 2, 2,\n",
              "       1, 2, 0, 1, 1, 0, 0, 0, 0, 1, 0, 0, 1, 1, 1, 0, 1, 1, 1, 0, 0, 1,\n",
              "       1, 1, 0, 2, 2, 2, 2, 2, 2, 2, 2, 2, 2, 2, 0, 0, 0, 2, 1, 1, 2, 0,\n",
              "       1, 1, 1, 0, 1, 0, 1, 1, 1, 1, 0, 2, 1, 2, 1, 1, 0, 1, 2, 1, 2, 2,\n",
              "       2, 2, 2, 1, 1, 0, 1, 0, 1, 0, 0, 0, 0, 1, 1, 0, 1, 1, 1, 1, 0, 0,\n",
              "       1, 0, 1, 0, 2, 1, 1, 1, 2, 2, 2, 1, 1, 1, 0, 2, 1, 0, 2, 1, 0, 0,\n",
              "       1, 1, 1, 2, 1, 1, 2, 0, 1, 2, 1, 1, 2, 2, 1, 1, 0, 2, 1, 1, 1, 1,\n",
              "       2, 2, 1, 1, 1, 2, 1, 2, 2, 1, 1, 0, 1, 2, 2, 0, 0, 2, 2, 2, 1, 2,\n",
              "       2, 1, 1, 1, 2, 2, 2, 1, 0, 1, 1, 2, 2, 2, 2, 2, 1, 1, 0, 1, 1, 2,\n",
              "       1, 1, 1, 2, 2, 2, 2, 1, 0, 0, 2, 2, 2, 1, 1, 1, 1, 1, 0, 1, 1, 0,\n",
              "       1, 1, 1, 2, 2, 1, 1, 2, 2], dtype=int32)"
            ]
          },
          "metadata": {
            "tags": []
          },
          "execution_count": 17
        }
      ]
    },
    {
      "cell_type": "markdown",
      "metadata": {
        "id": "5erPRd6z49Ov"
      },
      "source": [
        "And we can add the classification back to our data."
      ]
    },
    {
      "cell_type": "code",
      "metadata": {
        "id": "KwvNGB6siH6w",
        "outputId": "e5a319b0-f26e-4d58-c120-d7883f40b64b",
        "colab": {
          "base_uri": "https://localhost:8080/",
          "height": 859
        }
      },
      "source": [
        "unis['Group'] = Y\n",
        "unis"
      ],
      "execution_count": 18,
      "outputs": [
        {
          "output_type": "stream",
          "text": [
            "/usr/local/lib/python3.6/dist-packages/ipykernel_launcher.py:1: SettingWithCopyWarning: \n",
            "A value is trying to be set on a copy of a slice from a DataFrame.\n",
            "Try using .loc[row_indexer,col_indexer] = value instead\n",
            "\n",
            "See the caveats in the documentation: https://pandas.pydata.org/pandas-docs/stable/user_guide/indexing.html#returning-a-view-versus-a-copy\n",
            "  \"\"\"Entry point for launching an IPython kernel.\n"
          ],
          "name": "stderr"
        },
        {
          "output_type": "execute_result",
          "data": {
            "text/html": [
              "<div>\n",
              "<style scoped>\n",
              "    .dataframe tbody tr th:only-of-type {\n",
              "        vertical-align: middle;\n",
              "    }\n",
              "\n",
              "    .dataframe tbody tr th {\n",
              "        vertical-align: top;\n",
              "    }\n",
              "\n",
              "    .dataframe thead th {\n",
              "        text-align: right;\n",
              "    }\n",
              "</style>\n",
              "<table border=\"1\" class=\"dataframe\">\n",
              "  <thead>\n",
              "    <tr style=\"text-align: right;\">\n",
              "      <th></th>\n",
              "      <th>College Name</th>\n",
              "      <th>State</th>\n",
              "      <th>Public (1)/ Private (2)</th>\n",
              "      <th># appli. rec'd</th>\n",
              "      <th># appl. accepted</th>\n",
              "      <th># new stud. enrolled</th>\n",
              "      <th>% new stud. from top 10%</th>\n",
              "      <th>% new stud. from top 25%</th>\n",
              "      <th># FT undergrad</th>\n",
              "      <th># PT undergrad</th>\n",
              "      <th>in-state tuition</th>\n",
              "      <th>out-of-state tuition</th>\n",
              "      <th>room</th>\n",
              "      <th>board</th>\n",
              "      <th>add. fees</th>\n",
              "      <th>estim. book costs</th>\n",
              "      <th>estim. personal $</th>\n",
              "      <th>% fac. w/PHD</th>\n",
              "      <th>stud./fac. ratio</th>\n",
              "      <th>Graduation rate</th>\n",
              "      <th>Group</th>\n",
              "    </tr>\n",
              "  </thead>\n",
              "  <tbody>\n",
              "    <tr>\n",
              "      <th>0</th>\n",
              "      <td>Alaska Pacific University</td>\n",
              "      <td>AK</td>\n",
              "      <td>2</td>\n",
              "      <td>0.002416</td>\n",
              "      <td>0.003236</td>\n",
              "      <td>0.004399</td>\n",
              "      <td>0.157895</td>\n",
              "      <td>0.384615</td>\n",
              "      <td>0.000000</td>\n",
              "      <td>0.039753</td>\n",
              "      <td>0.356659</td>\n",
              "      <td>0.341940</td>\n",
              "      <td>0.234674</td>\n",
              "      <td>0.491022</td>\n",
              "      <td>0.037071</td>\n",
              "      <td>0.315556</td>\n",
              "      <td>0.190840</td>\n",
              "      <td>0.715789</td>\n",
              "      <td>0.347490</td>\n",
              "      <td>0.000000</td>\n",
              "      <td>1</td>\n",
              "    </tr>\n",
              "    <tr>\n",
              "      <th>2</th>\n",
              "      <td>University of Alaska Southeast</td>\n",
              "      <td>AK</td>\n",
              "      <td>1</td>\n",
              "      <td>0.001437</td>\n",
              "      <td>0.002132</td>\n",
              "      <td>0.009741</td>\n",
              "      <td>0.031579</td>\n",
              "      <td>0.164835</td>\n",
              "      <td>0.007740</td>\n",
              "      <td>0.084635</td>\n",
              "      <td>0.058178</td>\n",
              "      <td>0.219458</td>\n",
              "      <td>0.448755</td>\n",
              "      <td>0.428678</td>\n",
              "      <td>0.007414</td>\n",
              "      <td>0.182222</td>\n",
              "      <td>0.139237</td>\n",
              "      <td>0.326316</td>\n",
              "      <td>0.254826</td>\n",
              "      <td>0.233010</td>\n",
              "      <td>2</td>\n",
              "    </tr>\n",
              "    <tr>\n",
              "      <th>9</th>\n",
              "      <td>Birmingham-Southern College</td>\n",
              "      <td>AL</td>\n",
              "      <td>2</td>\n",
              "      <td>0.015161</td>\n",
              "      <td>0.020062</td>\n",
              "      <td>0.040848</td>\n",
              "      <td>0.694737</td>\n",
              "      <td>0.868132</td>\n",
              "      <td>0.035899</td>\n",
              "      <td>0.009434</td>\n",
              "      <td>0.567002</td>\n",
              "      <td>0.557095</td>\n",
              "      <td>0.337644</td>\n",
              "      <td>0.473566</td>\n",
              "      <td>0.033982</td>\n",
              "      <td>0.137778</td>\n",
              "      <td>0.099237</td>\n",
              "      <td>0.694737</td>\n",
              "      <td>0.428571</td>\n",
              "      <td>0.553398</td>\n",
              "      <td>0</td>\n",
              "    </tr>\n",
              "    <tr>\n",
              "      <th>11</th>\n",
              "      <td>Huntingdon College</td>\n",
              "      <td>AL</td>\n",
              "      <td>2</td>\n",
              "      <td>0.011059</td>\n",
              "      <td>0.017473</td>\n",
              "      <td>0.015711</td>\n",
              "      <td>0.263158</td>\n",
              "      <td>0.417582</td>\n",
              "      <td>0.009206</td>\n",
              "      <td>0.005725</td>\n",
              "      <td>0.383337</td>\n",
              "      <td>0.369228</td>\n",
              "      <td>0.177203</td>\n",
              "      <td>0.500998</td>\n",
              "      <td>0.027804</td>\n",
              "      <td>0.182222</td>\n",
              "      <td>0.129771</td>\n",
              "      <td>0.578947</td>\n",
              "      <td>0.328185</td>\n",
              "      <td>0.281553</td>\n",
              "      <td>1</td>\n",
              "    </tr>\n",
              "    <tr>\n",
              "      <th>21</th>\n",
              "      <td>Talladega College</td>\n",
              "      <td>AL</td>\n",
              "      <td>2</td>\n",
              "      <td>0.090322</td>\n",
              "      <td>0.054779</td>\n",
              "      <td>0.048390</td>\n",
              "      <td>0.305263</td>\n",
              "      <td>0.560440</td>\n",
              "      <td>0.020991</td>\n",
              "      <td>0.005404</td>\n",
              "      <td>0.259491</td>\n",
              "      <td>0.242548</td>\n",
              "      <td>0.187739</td>\n",
              "      <td>0.251621</td>\n",
              "      <td>0.126043</td>\n",
              "      <td>0.404444</td>\n",
              "      <td>0.175573</td>\n",
              "      <td>0.505263</td>\n",
              "      <td>0.486486</td>\n",
              "      <td>0.300971</td>\n",
              "      <td>2</td>\n",
              "    </tr>\n",
              "    <tr>\n",
              "      <th>...</th>\n",
              "      <td>...</td>\n",
              "      <td>...</td>\n",
              "      <td>...</td>\n",
              "      <td>...</td>\n",
              "      <td>...</td>\n",
              "      <td>...</td>\n",
              "      <td>...</td>\n",
              "      <td>...</td>\n",
              "      <td>...</td>\n",
              "      <td>...</td>\n",
              "      <td>...</td>\n",
              "      <td>...</td>\n",
              "      <td>...</td>\n",
              "      <td>...</td>\n",
              "      <td>...</td>\n",
              "      <td>...</td>\n",
              "      <td>...</td>\n",
              "      <td>...</td>\n",
              "      <td>...</td>\n",
              "      <td>...</td>\n",
              "      <td>...</td>\n",
              "    </tr>\n",
              "    <tr>\n",
              "      <th>1274</th>\n",
              "      <td>Univ. of Wisconsin at Eau Claire</td>\n",
              "      <td>WI</td>\n",
              "      <td>1</td>\n",
              "      <td>0.117708</td>\n",
              "      <td>0.169744</td>\n",
              "      <td>0.303221</td>\n",
              "      <td>0.200000</td>\n",
              "      <td>0.472527</td>\n",
              "      <td>0.263331</td>\n",
              "      <td>0.057843</td>\n",
              "      <td>0.082085</td>\n",
              "      <td>0.312343</td>\n",
              "      <td>0.221504</td>\n",
              "      <td>0.151870</td>\n",
              "      <td>0.327464</td>\n",
              "      <td>0.084000</td>\n",
              "      <td>0.154198</td>\n",
              "      <td>0.757895</td>\n",
              "      <td>0.633205</td>\n",
              "      <td>0.446602</td>\n",
              "      <td>2</td>\n",
              "    </tr>\n",
              "    <tr>\n",
              "      <th>1283</th>\n",
              "      <td>Wisconsin Lutheran College</td>\n",
              "      <td>WI</td>\n",
              "      <td>2</td>\n",
              "      <td>0.001562</td>\n",
              "      <td>0.002551</td>\n",
              "      <td>0.007541</td>\n",
              "      <td>0.168421</td>\n",
              "      <td>0.351648</td>\n",
              "      <td>0.001051</td>\n",
              "      <td>0.000962</td>\n",
              "      <td>0.435666</td>\n",
              "      <td>0.422754</td>\n",
              "      <td>0.277778</td>\n",
              "      <td>0.341397</td>\n",
              "      <td>0.024714</td>\n",
              "      <td>0.182222</td>\n",
              "      <td>0.175573</td>\n",
              "      <td>0.421053</td>\n",
              "      <td>0.216216</td>\n",
              "      <td>0.339806</td>\n",
              "      <td>1</td>\n",
              "    </tr>\n",
              "    <tr>\n",
              "      <th>1284</th>\n",
              "      <td>Alderson-Broaddus College</td>\n",
              "      <td>WV</td>\n",
              "      <td>2</td>\n",
              "      <td>0.010517</td>\n",
              "      <td>0.016636</td>\n",
              "      <td>0.022781</td>\n",
              "      <td>0.210526</td>\n",
              "      <td>0.384615</td>\n",
              "      <td>0.017519</td>\n",
              "      <td>0.003526</td>\n",
              "      <td>0.505849</td>\n",
              "      <td>0.494542</td>\n",
              "      <td>0.223659</td>\n",
              "      <td>0.317955</td>\n",
              "      <td>0.025332</td>\n",
              "      <td>0.253333</td>\n",
              "      <td>0.236641</td>\n",
              "      <td>0.336842</td>\n",
              "      <td>0.332046</td>\n",
              "      <td>0.359223</td>\n",
              "      <td>1</td>\n",
              "    </tr>\n",
              "    <tr>\n",
              "      <th>1291</th>\n",
              "      <td>Marshall University</td>\n",
              "      <td>WV</td>\n",
              "      <td>2</td>\n",
              "      <td>0.086407</td>\n",
              "      <td>0.137234</td>\n",
              "      <td>0.311076</td>\n",
              "      <td>0.136842</td>\n",
              "      <td>0.560440</td>\n",
              "      <td>0.237434</td>\n",
              "      <td>0.107076</td>\n",
              "      <td>0.053971</td>\n",
              "      <td>0.212531</td>\n",
              "      <td>0.332854</td>\n",
              "      <td>0.361347</td>\n",
              "      <td>0.098857</td>\n",
              "      <td>0.271111</td>\n",
              "      <td>0.200000</td>\n",
              "      <td>0.726316</td>\n",
              "      <td>0.528958</td>\n",
              "      <td>0.339806</td>\n",
              "      <td>2</td>\n",
              "    </tr>\n",
              "    <tr>\n",
              "      <th>1301</th>\n",
              "      <td>University of Wyoming</td>\n",
              "      <td>WY</td>\n",
              "      <td>1</td>\n",
              "      <td>0.040652</td>\n",
              "      <td>0.055388</td>\n",
              "      <td>0.164336</td>\n",
              "      <td>0.231579</td>\n",
              "      <td>0.406593</td>\n",
              "      <td>0.232083</td>\n",
              "      <td>0.068102</td>\n",
              "      <td>0.066694</td>\n",
              "      <td>0.259446</td>\n",
              "      <td>0.196839</td>\n",
              "      <td>0.356359</td>\n",
              "      <td>0.089589</td>\n",
              "      <td>0.226667</td>\n",
              "      <td>0.190840</td>\n",
              "      <td>0.873684</td>\n",
              "      <td>0.471042</td>\n",
              "      <td>0.291262</td>\n",
              "      <td>2</td>\n",
              "    </tr>\n",
              "  </tbody>\n",
              "</table>\n",
              "<p>471 rows × 21 columns</p>\n",
              "</div>"
            ],
            "text/plain": [
              "                          College Name State  ...  Graduation rate  Group\n",
              "0            Alaska Pacific University    AK  ...         0.000000      1\n",
              "2       University of Alaska Southeast    AK  ...         0.233010      2\n",
              "9          Birmingham-Southern College    AL  ...         0.553398      0\n",
              "11                  Huntingdon College    AL  ...         0.281553      1\n",
              "21                   Talladega College    AL  ...         0.300971      2\n",
              "...                                ...   ...  ...              ...    ...\n",
              "1274  Univ. of Wisconsin at Eau Claire    WI  ...         0.446602      2\n",
              "1283        Wisconsin Lutheran College    WI  ...         0.339806      1\n",
              "1284         Alderson-Broaddus College    WV  ...         0.359223      1\n",
              "1291               Marshall University    WV  ...         0.339806      2\n",
              "1301             University of Wyoming    WY  ...         0.291262      2\n",
              "\n",
              "[471 rows x 21 columns]"
            ]
          },
          "metadata": {
            "tags": []
          },
          "execution_count": 18
        }
      ]
    },
    {
      "cell_type": "markdown",
      "metadata": {
        "id": "Rv86MM9-5Dtd"
      },
      "source": [
        "We can also plot the count of unis per state."
      ]
    },
    {
      "cell_type": "code",
      "metadata": {
        "id": "hQiHohCcimGD",
        "outputId": "3c112f55-da45-4337-cd2b-255bf78b7494",
        "colab": {
          "base_uri": "https://localhost:8080/",
          "height": 311
        }
      },
      "source": [
        "my_tab = pd.crosstab(index = unis['State'],  # Make a crosstab\n",
        "                              columns=\"count\")      # Name the count column\n",
        "\n",
        "my_tab.plot.bar()"
      ],
      "execution_count": 19,
      "outputs": [
        {
          "output_type": "execute_result",
          "data": {
            "text/plain": [
              "<matplotlib.axes._subplots.AxesSubplot at 0x7fd2a85441d0>"
            ]
          },
          "metadata": {
            "tags": []
          },
          "execution_count": 19
        },
        {
          "output_type": "display_data",
          "data": {
            "image/png": "[encoded data removed]",
            "text/plain": [
              "<Figure size 432x288 with 1 Axes>"
            ]
          },
          "metadata": {
            "tags": []
          }
        }
      ]
    },
    {
      "cell_type": "markdown",
      "metadata": {
        "id": "s1FwNiGg5OTe"
      },
      "source": [
        "We can also count the number of unis in each group at the state level."
      ]
    },
    {
      "cell_type": "code",
      "metadata": {
        "id": "esYeW7qklwNt",
        "outputId": "a0692677-b574-499b-a86e-87c8f9d5f189",
        "colab": {
          "base_uri": "https://localhost:8080/",
          "height": 1000
        }
      },
      "source": [
        "unis_table = pd.crosstab(index=unis[\"State\"], \n",
        "                          columns=unis[\"Group\"])\n",
        "unis_table"
      ],
      "execution_count": 20,
      "outputs": [
        {
          "output_type": "execute_result",
          "data": {
            "text/html": [
              "<div>\n",
              "<style scoped>\n",
              "    .dataframe tbody tr th:only-of-type {\n",
              "        vertical-align: middle;\n",
              "    }\n",
              "\n",
              "    .dataframe tbody tr th {\n",
              "        vertical-align: top;\n",
              "    }\n",
              "\n",
              "    .dataframe thead th {\n",
              "        text-align: right;\n",
              "    }\n",
              "</style>\n",
              "<table border=\"1\" class=\"dataframe\">\n",
              "  <thead>\n",
              "    <tr style=\"text-align: right;\">\n",
              "      <th>Group</th>\n",
              "      <th>0</th>\n",
              "      <th>1</th>\n",
              "      <th>2</th>\n",
              "    </tr>\n",
              "    <tr>\n",
              "      <th>State</th>\n",
              "      <th></th>\n",
              "      <th></th>\n",
              "      <th></th>\n",
              "    </tr>\n",
              "  </thead>\n",
              "  <tbody>\n",
              "    <tr>\n",
              "      <th>AK</th>\n",
              "      <td>0</td>\n",
              "      <td>1</td>\n",
              "      <td>1</td>\n",
              "    </tr>\n",
              "    <tr>\n",
              "      <th>AL</th>\n",
              "      <td>1</td>\n",
              "      <td>1</td>\n",
              "      <td>2</td>\n",
              "    </tr>\n",
              "    <tr>\n",
              "      <th>AR</th>\n",
              "      <td>0</td>\n",
              "      <td>3</td>\n",
              "      <td>1</td>\n",
              "    </tr>\n",
              "    <tr>\n",
              "      <th>AZ</th>\n",
              "      <td>0</td>\n",
              "      <td>0</td>\n",
              "      <td>2</td>\n",
              "    </tr>\n",
              "    <tr>\n",
              "      <th>CA</th>\n",
              "      <td>10</td>\n",
              "      <td>4</td>\n",
              "      <td>1</td>\n",
              "    </tr>\n",
              "    <tr>\n",
              "      <th>CO</th>\n",
              "      <td>1</td>\n",
              "      <td>0</td>\n",
              "      <td>5</td>\n",
              "    </tr>\n",
              "    <tr>\n",
              "      <th>CT</th>\n",
              "      <td>3</td>\n",
              "      <td>4</td>\n",
              "      <td>3</td>\n",
              "    </tr>\n",
              "    <tr>\n",
              "      <th>DC</th>\n",
              "      <td>2</td>\n",
              "      <td>2</td>\n",
              "      <td>0</td>\n",
              "    </tr>\n",
              "    <tr>\n",
              "      <th>DE</th>\n",
              "      <td>0</td>\n",
              "      <td>1</td>\n",
              "      <td>1</td>\n",
              "    </tr>\n",
              "    <tr>\n",
              "      <th>FL</th>\n",
              "      <td>3</td>\n",
              "      <td>3</td>\n",
              "      <td>2</td>\n",
              "    </tr>\n",
              "    <tr>\n",
              "      <th>GA</th>\n",
              "      <td>1</td>\n",
              "      <td>4</td>\n",
              "      <td>2</td>\n",
              "    </tr>\n",
              "    <tr>\n",
              "      <th>HI</th>\n",
              "      <td>0</td>\n",
              "      <td>0</td>\n",
              "      <td>1</td>\n",
              "    </tr>\n",
              "    <tr>\n",
              "      <th>IA</th>\n",
              "      <td>1</td>\n",
              "      <td>16</td>\n",
              "      <td>1</td>\n",
              "    </tr>\n",
              "    <tr>\n",
              "      <th>ID</th>\n",
              "      <td>0</td>\n",
              "      <td>2</td>\n",
              "      <td>0</td>\n",
              "    </tr>\n",
              "    <tr>\n",
              "      <th>IL</th>\n",
              "      <td>4</td>\n",
              "      <td>7</td>\n",
              "      <td>4</td>\n",
              "    </tr>\n",
              "    <tr>\n",
              "      <th>IN</th>\n",
              "      <td>4</td>\n",
              "      <td>10</td>\n",
              "      <td>1</td>\n",
              "    </tr>\n",
              "    <tr>\n",
              "      <th>KS</th>\n",
              "      <td>0</td>\n",
              "      <td>7</td>\n",
              "      <td>0</td>\n",
              "    </tr>\n",
              "    <tr>\n",
              "      <th>KY</th>\n",
              "      <td>2</td>\n",
              "      <td>3</td>\n",
              "      <td>1</td>\n",
              "    </tr>\n",
              "    <tr>\n",
              "      <th>LA</th>\n",
              "      <td>1</td>\n",
              "      <td>2</td>\n",
              "      <td>2</td>\n",
              "    </tr>\n",
              "    <tr>\n",
              "      <th>MA</th>\n",
              "      <td>11</td>\n",
              "      <td>6</td>\n",
              "      <td>5</td>\n",
              "    </tr>\n",
              "    <tr>\n",
              "      <th>MD</th>\n",
              "      <td>1</td>\n",
              "      <td>0</td>\n",
              "      <td>2</td>\n",
              "    </tr>\n",
              "    <tr>\n",
              "      <th>ME</th>\n",
              "      <td>2</td>\n",
              "      <td>1</td>\n",
              "      <td>3</td>\n",
              "    </tr>\n",
              "    <tr>\n",
              "      <th>MI</th>\n",
              "      <td>1</td>\n",
              "      <td>8</td>\n",
              "      <td>4</td>\n",
              "    </tr>\n",
              "    <tr>\n",
              "      <th>MN</th>\n",
              "      <td>2</td>\n",
              "      <td>6</td>\n",
              "      <td>3</td>\n",
              "    </tr>\n",
              "    <tr>\n",
              "      <th>MO</th>\n",
              "      <td>1</td>\n",
              "      <td>11</td>\n",
              "      <td>3</td>\n",
              "    </tr>\n",
              "    <tr>\n",
              "      <th>MS</th>\n",
              "      <td>0</td>\n",
              "      <td>1</td>\n",
              "      <td>4</td>\n",
              "    </tr>\n",
              "    <tr>\n",
              "      <th>MT</th>\n",
              "      <td>0</td>\n",
              "      <td>1</td>\n",
              "      <td>1</td>\n",
              "    </tr>\n",
              "    <tr>\n",
              "      <th>NC</th>\n",
              "      <td>2</td>\n",
              "      <td>10</td>\n",
              "      <td>11</td>\n",
              "    </tr>\n",
              "    <tr>\n",
              "      <th>ND</th>\n",
              "      <td>0</td>\n",
              "      <td>1</td>\n",
              "      <td>4</td>\n",
              "    </tr>\n",
              "    <tr>\n",
              "      <th>NE</th>\n",
              "      <td>0</td>\n",
              "      <td>4</td>\n",
              "      <td>3</td>\n",
              "    </tr>\n",
              "    <tr>\n",
              "      <th>NH</th>\n",
              "      <td>1</td>\n",
              "      <td>3</td>\n",
              "      <td>2</td>\n",
              "    </tr>\n",
              "    <tr>\n",
              "      <th>NJ</th>\n",
              "      <td>2</td>\n",
              "      <td>4</td>\n",
              "      <td>7</td>\n",
              "    </tr>\n",
              "    <tr>\n",
              "      <th>NM</th>\n",
              "      <td>0</td>\n",
              "      <td>1</td>\n",
              "      <td>1</td>\n",
              "    </tr>\n",
              "    <tr>\n",
              "      <th>NY</th>\n",
              "      <td>14</td>\n",
              "      <td>12</td>\n",
              "      <td>12</td>\n",
              "    </tr>\n",
              "    <tr>\n",
              "      <th>OH</th>\n",
              "      <td>5</td>\n",
              "      <td>15</td>\n",
              "      <td>4</td>\n",
              "    </tr>\n",
              "    <tr>\n",
              "      <th>OK</th>\n",
              "      <td>0</td>\n",
              "      <td>1</td>\n",
              "      <td>5</td>\n",
              "    </tr>\n",
              "    <tr>\n",
              "      <th>OR</th>\n",
              "      <td>2</td>\n",
              "      <td>3</td>\n",
              "      <td>0</td>\n",
              "    </tr>\n",
              "    <tr>\n",
              "      <th>PA</th>\n",
              "      <td>13</td>\n",
              "      <td>21</td>\n",
              "      <td>8</td>\n",
              "    </tr>\n",
              "    <tr>\n",
              "      <th>RI</th>\n",
              "      <td>1</td>\n",
              "      <td>2</td>\n",
              "      <td>1</td>\n",
              "    </tr>\n",
              "    <tr>\n",
              "      <th>SC</th>\n",
              "      <td>1</td>\n",
              "      <td>5</td>\n",
              "      <td>3</td>\n",
              "    </tr>\n",
              "    <tr>\n",
              "      <th>SD</th>\n",
              "      <td>0</td>\n",
              "      <td>2</td>\n",
              "      <td>2</td>\n",
              "    </tr>\n",
              "    <tr>\n",
              "      <th>TN</th>\n",
              "      <td>3</td>\n",
              "      <td>7</td>\n",
              "      <td>5</td>\n",
              "    </tr>\n",
              "    <tr>\n",
              "      <th>TX</th>\n",
              "      <td>1</td>\n",
              "      <td>7</td>\n",
              "      <td>12</td>\n",
              "    </tr>\n",
              "    <tr>\n",
              "      <th>UT</th>\n",
              "      <td>0</td>\n",
              "      <td>1</td>\n",
              "      <td>1</td>\n",
              "    </tr>\n",
              "    <tr>\n",
              "      <th>VA</th>\n",
              "      <td>3</td>\n",
              "      <td>7</td>\n",
              "      <td>5</td>\n",
              "    </tr>\n",
              "    <tr>\n",
              "      <th>VT</th>\n",
              "      <td>0</td>\n",
              "      <td>4</td>\n",
              "      <td>3</td>\n",
              "    </tr>\n",
              "    <tr>\n",
              "      <th>WA</th>\n",
              "      <td>1</td>\n",
              "      <td>1</td>\n",
              "      <td>0</td>\n",
              "    </tr>\n",
              "    <tr>\n",
              "      <th>WI</th>\n",
              "      <td>1</td>\n",
              "      <td>6</td>\n",
              "      <td>2</td>\n",
              "    </tr>\n",
              "    <tr>\n",
              "      <th>WV</th>\n",
              "      <td>0</td>\n",
              "      <td>1</td>\n",
              "      <td>1</td>\n",
              "    </tr>\n",
              "    <tr>\n",
              "      <th>WY</th>\n",
              "      <td>0</td>\n",
              "      <td>0</td>\n",
              "      <td>1</td>\n",
              "    </tr>\n",
              "  </tbody>\n",
              "</table>\n",
              "</div>"
            ],
            "text/plain": [
              "Group   0   1   2\n",
              "State            \n",
              "AK      0   1   1\n",
              "AL      1   1   2\n",
              "AR      0   3   1\n",
              "AZ      0   0   2\n",
              "CA     10   4   1\n",
              "CO      1   0   5\n",
              "CT      3   4   3\n",
              "DC      2   2   0\n",
              "DE      0   1   1\n",
              "FL      3   3   2\n",
              "GA      1   4   2\n",
              "HI      0   0   1\n",
              "IA      1  16   1\n",
              "ID      0   2   0\n",
              "IL      4   7   4\n",
              "IN      4  10   1\n",
              "KS      0   7   0\n",
              "KY      2   3   1\n",
              "LA      1   2   2\n",
              "MA     11   6   5\n",
              "MD      1   0   2\n",
              "ME      2   1   3\n",
              "MI      1   8   4\n",
              "MN      2   6   3\n",
              "MO      1  11   3\n",
              "MS      0   1   4\n",
              "MT      0   1   1\n",
              "NC      2  10  11\n",
              "ND      0   1   4\n",
              "NE      0   4   3\n",
              "NH      1   3   2\n",
              "NJ      2   4   7\n",
              "NM      0   1   1\n",
              "NY     14  12  12\n",
              "OH      5  15   4\n",
              "OK      0   1   5\n",
              "OR      2   3   0\n",
              "PA     13  21   8\n",
              "RI      1   2   1\n",
              "SC      1   5   3\n",
              "SD      0   2   2\n",
              "TN      3   7   5\n",
              "TX      1   7  12\n",
              "UT      0   1   1\n",
              "VA      3   7   5\n",
              "VT      0   4   3\n",
              "WA      1   1   0\n",
              "WI      1   6   2\n",
              "WV      0   1   1\n",
              "WY      0   0   1"
            ]
          },
          "metadata": {
            "tags": []
          },
          "execution_count": 20
        }
      ]
    },
    {
      "cell_type": "markdown",
      "metadata": {
        "id": "zc5I2E6A5Wvl"
      },
      "source": [
        "This plot shows the count of universities in each state based on their group classification."
      ]
    },
    {
      "cell_type": "code",
      "metadata": {
        "id": "oA2qEL7kmjmM",
        "outputId": "54abd1fd-ca3b-4146-e3a5-1d5c202709b5",
        "colab": {
          "base_uri": "https://localhost:8080/",
          "height": 529
        }
      },
      "source": [
        "unis_table.plot(kind=\"bar\", \n",
        "                 figsize=(20,8),\n",
        "                 stacked=True)"
      ],
      "execution_count": 21,
      "outputs": [
        {
          "output_type": "execute_result",
          "data": {
            "text/plain": [
              "<matplotlib.axes._subplots.AxesSubplot at 0x7fd2a8579e10>"
            ]
          },
          "metadata": {
            "tags": []
          },
          "execution_count": 21
        },
        {
          "output_type": "display_data",
          "data": {
            "image/png": "[encoded data removed]",
            "text/plain": [
              "<Figure size 1440x576 with 1 Axes>"
            ]
          },
          "metadata": {
            "tags": []
          }
        }
      ]
    },
    {
      "cell_type": "markdown",
      "metadata": {
        "id": "aSGRTC1V6I6S"
      },
      "source": [
        "We can also plot the same but with the public vs private categories."
      ]
    },
    {
      "cell_type": "code",
      "metadata": {
        "id": "CYS0Ulggm0w7",
        "outputId": "01338e15-03ab-49fd-eabb-f3ca63854583",
        "colab": {
          "base_uri": "https://localhost:8080/",
          "height": 139
        }
      },
      "source": [
        "unis_table1 = pd.crosstab(index=unis[\"Public (1)/ Private (2)\"], \n",
        "                          columns=unis[\"Group\"])\n",
        "unis_table1"
      ],
      "execution_count": 22,
      "outputs": [
        {
          "output_type": "execute_result",
          "data": {
            "text/html": [
              "<div>\n",
              "<style scoped>\n",
              "    .dataframe tbody tr th:only-of-type {\n",
              "        vertical-align: middle;\n",
              "    }\n",
              "\n",
              "    .dataframe tbody tr th {\n",
              "        vertical-align: top;\n",
              "    }\n",
              "\n",
              "    .dataframe thead th {\n",
              "        text-align: right;\n",
              "    }\n",
              "</style>\n",
              "<table border=\"1\" class=\"dataframe\">\n",
              "  <thead>\n",
              "    <tr style=\"text-align: right;\">\n",
              "      <th>Group</th>\n",
              "      <th>0</th>\n",
              "      <th>1</th>\n",
              "      <th>2</th>\n",
              "    </tr>\n",
              "    <tr>\n",
              "      <th>Public (1)/ Private (2)</th>\n",
              "      <th></th>\n",
              "      <th></th>\n",
              "      <th></th>\n",
              "    </tr>\n",
              "  </thead>\n",
              "  <tbody>\n",
              "    <tr>\n",
              "      <th>1</th>\n",
              "      <td>3</td>\n",
              "      <td>1</td>\n",
              "      <td>124</td>\n",
              "    </tr>\n",
              "    <tr>\n",
              "      <th>2</th>\n",
              "      <td>98</td>\n",
              "      <td>221</td>\n",
              "      <td>24</td>\n",
              "    </tr>\n",
              "  </tbody>\n",
              "</table>\n",
              "</div>"
            ],
            "text/plain": [
              "Group                     0    1    2\n",
              "Public (1)/ Private (2)              \n",
              "1                         3    1  124\n",
              "2                        98  221   24"
            ]
          },
          "metadata": {
            "tags": []
          },
          "execution_count": 22
        }
      ]
    },
    {
      "cell_type": "markdown",
      "metadata": {
        "id": "x5XT2T216Qsk"
      },
      "source": [
        "Here we can see that Group 2 mostly represents public schools, where as group 0 and 1 represent different classifications of private schools. Some private schools also fall into group 2 classification, this could be because of how they treat things like room and board expenses, or other factors which would make them more similar to public schools."
      ]
    },
    {
      "cell_type": "code",
      "metadata": {
        "id": "CEfNhrQ6nBOt",
        "outputId": "1cfe61de-b7dd-4b14-947f-bcac35f82510",
        "colab": {
          "base_uri": "https://localhost:8080/",
          "height": 517
        }
      },
      "source": [
        "unis_table1.plot(kind=\"bar\", \n",
        "                 figsize=(8,8),\n",
        "                 stacked=True)"
      ],
      "execution_count": 23,
      "outputs": [
        {
          "output_type": "execute_result",
          "data": {
            "text/plain": [
              "<matplotlib.axes._subplots.AxesSubplot at 0x7fd2a820a278>"
            ]
          },
          "metadata": {
            "tags": []
          },
          "execution_count": 23
        },
        {
          "output_type": "display_data",
          "data": {
            "image/png": "[encoded data removed]",
            "text/plain": [
              "<Figure size 576x576 with 1 Axes>"
            ]
          },
          "metadata": {
            "tags": []
          }
        }
      ]
    },
    {
      "cell_type": "markdown",
      "metadata": {
        "id": "wp75Q13r6qA0"
      },
      "source": [
        "Finally I selected the indicated university \"Tufts University\" from the original data. This had to be done from the original data because the record was removed with all the other NAN values."
      ]
    },
    {
      "cell_type": "code",
      "metadata": {
        "id": "bXZRL_0ynmQ6",
        "outputId": "62057a6e-e510-4b20-a609-057261d6c3f9",
        "colab": {
          "base_uri": "https://localhost:8080/",
          "height": 183
        }
      },
      "source": [
        "data.rename(columns={\"College Name\": \"CollegeName\"})\n",
        "\n",
        "data[data['College Name'].str.startswith(('tu','Tu'))]\n",
        "\n",
        "Tufts = data[data['College Name'] == 'Tufts University']\n",
        "\n",
        "Tufts"
      ],
      "execution_count": 24,
      "outputs": [
        {
          "output_type": "execute_result",
          "data": {
            "text/html": [
              "<div>\n",
              "<style scoped>\n",
              "    .dataframe tbody tr th:only-of-type {\n",
              "        vertical-align: middle;\n",
              "    }\n",
              "\n",
              "    .dataframe tbody tr th {\n",
              "        vertical-align: top;\n",
              "    }\n",
              "\n",
              "    .dataframe thead th {\n",
              "        text-align: right;\n",
              "    }\n",
              "</style>\n",
              "<table border=\"1\" class=\"dataframe\">\n",
              "  <thead>\n",
              "    <tr style=\"text-align: right;\">\n",
              "      <th></th>\n",
              "      <th>College Name</th>\n",
              "      <th>State</th>\n",
              "      <th>Public (1)/ Private (2)</th>\n",
              "      <th># appli. rec'd</th>\n",
              "      <th># appl. accepted</th>\n",
              "      <th># new stud. enrolled</th>\n",
              "      <th>% new stud. from top 10%</th>\n",
              "      <th>% new stud. from top 25%</th>\n",
              "      <th># FT undergrad</th>\n",
              "      <th># PT undergrad</th>\n",
              "      <th>in-state tuition</th>\n",
              "      <th>out-of-state tuition</th>\n",
              "      <th>room</th>\n",
              "      <th>board</th>\n",
              "      <th>add. fees</th>\n",
              "      <th>estim. book costs</th>\n",
              "      <th>estim. personal $</th>\n",
              "      <th>% fac. w/PHD</th>\n",
              "      <th>stud./fac. ratio</th>\n",
              "      <th>Graduation rate</th>\n",
              "    </tr>\n",
              "  </thead>\n",
              "  <tbody>\n",
              "    <tr>\n",
              "      <th>475</th>\n",
              "      <td>Tufts University</td>\n",
              "      <td>MA</td>\n",
              "      <td>2</td>\n",
              "      <td>7614.0</td>\n",
              "      <td>3605.0</td>\n",
              "      <td>1205.0</td>\n",
              "      <td>60.0</td>\n",
              "      <td>90.0</td>\n",
              "      <td>4598.0</td>\n",
              "      <td>NaN</td>\n",
              "      <td>19701.0</td>\n",
              "      <td>19701.0</td>\n",
              "      <td>3038.0</td>\n",
              "      <td>2930.0</td>\n",
              "      <td>503.0</td>\n",
              "      <td>600.0</td>\n",
              "      <td>928.0</td>\n",
              "      <td>99.0</td>\n",
              "      <td>10.3</td>\n",
              "      <td>92.0</td>\n",
              "    </tr>\n",
              "  </tbody>\n",
              "</table>\n",
              "</div>"
            ],
            "text/plain": [
              "         College Name State  ...  stud./fac. ratio  Graduation rate\n",
              "475  Tufts University    MA  ...              10.3             92.0\n",
              "\n",
              "[1 rows x 20 columns]"
            ]
          },
          "metadata": {
            "tags": []
          },
          "execution_count": 24
        }
      ]
    },
    {
      "cell_type": "markdown",
      "metadata": {
        "id": "DDHRMnIZ67HM"
      },
      "source": [
        "Here I calculated the distance that tufts has from the centers of the categories. I had to removed the NAN column from tufts and the corresponding column from the center measures so that the distance could be calculated."
      ]
    },
    {
      "cell_type": "code",
      "metadata": {
        "id": "QhNGczNAsisU",
        "outputId": "10ce3bc4-fbb0-4904-9c69-4ea2277b0808",
        "colab": {
          "base_uri": "https://localhost:8080/"
        }
      },
      "source": [
        "from sklearn.metrics.pairwise import euclidean_distances\n",
        "\n",
        "temp = Tufts.drop(['College Name', 'State', 'Public (1)/ Private (2)', '# PT undergrad'], axis=1)\n",
        "tempCenters = []\n",
        "\n",
        "for i, v in enumerate(centers):\n",
        "  tempCenters.append([])\n",
        "  for x, z in enumerate(v):\n",
        "    if x != 6:\n",
        "      tempCenters[i].append(z)\n",
        "\n",
        "euclidean_distances(temp,tempCenters)"
      ],
      "execution_count": 25,
      "outputs": [
        {
          "output_type": "execute_result",
          "data": {
            "text/plain": [
              "array([[29817.18449044, 29817.67484322, 29818.03132179]])"
            ]
          },
          "metadata": {
            "tags": []
          },
          "execution_count": 25
        }
      ]
    },
    {
      "cell_type": "markdown",
      "metadata": {
        "id": "4cbOZ3HE7LPM"
      },
      "source": [
        "Lastly, the centroid for category 1 AKA [0] was the closest to Tufts thus I assigned the missing value the corresponding value from that centroid and confirmed the prediction"
      ]
    },
    {
      "cell_type": "code",
      "metadata": {
        "id": "b1anTmgz7Xjz",
        "outputId": "13180381-4ef6-4493-8b8b-938a241397f7",
        "colab": {
          "base_uri": "https://localhost:8080/"
        }
      },
      "source": [
        "Tufts['# PT undergrad'] = centers[0][6]\n",
        "\n",
        "temp = Tufts.drop(['College Name', 'State', 'Public (1)/ Private (2)'], axis=1)\n",
        "\n",
        "kmeans.predict(temp)"
      ],
      "execution_count": 36,
      "outputs": [
        {
          "output_type": "stream",
          "text": [
            "/usr/local/lib/python3.6/dist-packages/ipykernel_launcher.py:1: SettingWithCopyWarning: \n",
            "A value is trying to be set on a copy of a slice from a DataFrame.\n",
            "Try using .loc[row_indexer,col_indexer] = value instead\n",
            "\n",
            "See the caveats in the documentation: https://pandas.pydata.org/pandas-docs/stable/user_guide/indexing.html#returning-a-view-versus-a-copy\n",
            "  \"\"\"Entry point for launching an IPython kernel.\n"
          ],
          "name": "stderr"
        },
        {
          "output_type": "execute_result",
          "data": {
            "text/plain": [
              "array([0], dtype=int32)"
            ]
          },
          "metadata": {
            "tags": []
          },
          "execution_count": 36
        }
      ]
    },
    {
      "cell_type": "markdown",
      "metadata": {
        "id": "LBWjUAOq8DQS"
      },
      "source": [
        "The original data was updated with the new and improved data for Tufts."
      ]
    },
    {
      "cell_type": "code",
      "metadata": {
        "id": "SflUbsErv-Ez",
        "outputId": "9f6849b9-91a3-4092-b1c0-517682ea7646",
        "colab": {
          "base_uri": "https://localhost:8080/",
          "height": 289
        }
      },
      "source": [
        "\n",
        "data.update(Tufts)\n",
        "\n",
        "data[data['College Name'] == 'Tufts University']"
      ],
      "execution_count": 32,
      "outputs": [
        {
          "output_type": "stream",
          "text": [
            "/usr/local/lib/python3.6/dist-packages/ipykernel_launcher.py:1: SettingWithCopyWarning: \n",
            "A value is trying to be set on a copy of a slice from a DataFrame.\n",
            "Try using .loc[row_indexer,col_indexer] = value instead\n",
            "\n",
            "See the caveats in the documentation: https://pandas.pydata.org/pandas-docs/stable/user_guide/indexing.html#returning-a-view-versus-a-copy\n",
            "  \"\"\"Entry point for launching an IPython kernel.\n"
          ],
          "name": "stderr"
        },
        {
          "output_type": "execute_result",
          "data": {
            "text/html": [
              "<div>\n",
              "<style scoped>\n",
              "    .dataframe tbody tr th:only-of-type {\n",
              "        vertical-align: middle;\n",
              "    }\n",
              "\n",
              "    .dataframe tbody tr th {\n",
              "        vertical-align: top;\n",
              "    }\n",
              "\n",
              "    .dataframe thead th {\n",
              "        text-align: right;\n",
              "    }\n",
              "</style>\n",
              "<table border=\"1\" class=\"dataframe\">\n",
              "  <thead>\n",
              "    <tr style=\"text-align: right;\">\n",
              "      <th></th>\n",
              "      <th>College Name</th>\n",
              "      <th>State</th>\n",
              "      <th>Public (1)/ Private (2)</th>\n",
              "      <th># appli. rec'd</th>\n",
              "      <th># appl. accepted</th>\n",
              "      <th># new stud. enrolled</th>\n",
              "      <th>% new stud. from top 10%</th>\n",
              "      <th>% new stud. from top 25%</th>\n",
              "      <th># FT undergrad</th>\n",
              "      <th># PT undergrad</th>\n",
              "      <th>in-state tuition</th>\n",
              "      <th>out-of-state tuition</th>\n",
              "      <th>room</th>\n",
              "      <th>board</th>\n",
              "      <th>add. fees</th>\n",
              "      <th>estim. book costs</th>\n",
              "      <th>estim. personal $</th>\n",
              "      <th>% fac. w/PHD</th>\n",
              "      <th>stud./fac. ratio</th>\n",
              "      <th>Graduation rate</th>\n",
              "    </tr>\n",
              "  </thead>\n",
              "  <tbody>\n",
              "    <tr>\n",
              "      <th>475</th>\n",
              "      <td>Tufts University</td>\n",
              "      <td>MA</td>\n",
              "      <td>2.0</td>\n",
              "      <td>7614.0</td>\n",
              "      <td>3605.0</td>\n",
              "      <td>1205.0</td>\n",
              "      <td>60.0</td>\n",
              "      <td>90.0</td>\n",
              "      <td>4598.0</td>\n",
              "      <td>0.010719</td>\n",
              "      <td>19701.0</td>\n",
              "      <td>19701.0</td>\n",
              "      <td>3038.0</td>\n",
              "      <td>2930.0</td>\n",
              "      <td>503.0</td>\n",
              "      <td>600.0</td>\n",
              "      <td>928.0</td>\n",
              "      <td>99.0</td>\n",
              "      <td>10.3</td>\n",
              "      <td>92.0</td>\n",
              "    </tr>\n",
              "  </tbody>\n",
              "</table>\n",
              "</div>"
            ],
            "text/plain": [
              "         College Name State  ...  stud./fac. ratio  Graduation rate\n",
              "475  Tufts University    MA  ...              10.3             92.0\n",
              "\n",
              "[1 rows x 20 columns]"
            ]
          },
          "metadata": {
            "tags": []
          },
          "execution_count": 32
        }
      ]
    }
  ]
}