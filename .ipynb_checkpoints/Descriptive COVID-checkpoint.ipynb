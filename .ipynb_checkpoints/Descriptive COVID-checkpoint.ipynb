{
 "cells": [
  {
   "cell_type": "markdown",
   "metadata": {},
   "source": [
    "COVID-19 Data Repository by the Center for Systems Science and Engineering (CSSE) at Johns Hopkins University\n",
    "Data: https://github.com/CSSEGISandData/COVID-19"
   ]
  },
  {
   "cell_type": "code",
   "execution_count": 1,
   "metadata": {},
   "outputs": [
    {
     "name": "stdout",
     "output_type": "stream",
     "text": [
      "          Province_State Country_Region          Last_Update      Lat  \\\n",
      "0                Alabama             US  2020-09-13 04:32:00  32.3182   \n",
      "1                 Alaska             US  2020-09-13 04:32:00  61.3707   \n",
      "2         American Samoa             US  2020-09-13 04:32:00 -14.2710   \n",
      "3                Arizona             US  2020-09-13 04:32:00  33.7298   \n",
      "4               Arkansas             US  2020-09-13 04:32:00  34.9697   \n",
      "5             California             US  2020-09-13 04:32:00  36.1162   \n",
      "6               Colorado             US  2020-09-13 04:32:00  39.0598   \n",
      "7            Connecticut             US  2020-09-13 04:32:00  41.5978   \n",
      "8               Delaware             US  2020-09-13 04:32:00  39.3185   \n",
      "9       Diamond Princess             US  2020-09-13 04:32:00      NaN   \n",
      "10  District of Columbia             US  2020-09-13 04:32:00  38.8974   \n",
      "11               Florida             US  2020-09-13 04:32:00  27.7663   \n",
      "12               Georgia             US  2020-09-13 04:32:00  33.0406   \n",
      "13        Grand Princess             US  2020-09-13 04:32:00      NaN   \n",
      "14                  Guam             US  2020-09-13 04:32:00  13.4443   \n",
      "15                Hawaii             US  2020-09-13 04:32:00  21.0943   \n",
      "16                 Idaho             US  2020-09-13 04:32:00  44.2405   \n",
      "17              Illinois             US  2020-09-13 04:32:00  40.3495   \n",
      "18               Indiana             US  2020-09-13 04:32:00  39.8494   \n",
      "19                  Iowa             US  2020-09-13 04:32:00  42.0115   \n",
      "\n",
      "       Long_  Confirmed  Deaths  Recovered    Active     FIPS  ...  \\\n",
      "0   -86.9023     137646    2350    54223.0   81073.0      1.0  ...   \n",
      "1  -152.4044       6207      44     2377.0    3786.0      2.0  ...   \n",
      "2  -170.1320          0       0        NaN       0.0     60.0  ...   \n",
      "3  -111.4312     208128    5315    32628.0  170185.0      4.0  ...   \n",
      "4   -92.3731      69710     969    62622.0    6119.0      5.0  ...   \n",
      "5  -119.6816     758933   14327        NaN  744606.0      6.0  ...   \n",
      "6  -105.3111      60876    1988     6139.0   52749.0      8.0  ...   \n",
      "7   -72.7554      54326    4480     9142.0   40704.0      9.0  ...   \n",
      "8   -75.5071      18726     613    10063.0    8050.0     10.0  ...   \n",
      "9        NaN         49       0        NaN      49.0  88888.0  ...   \n",
      "10  -77.0268      14493     616    11561.0    2316.0     11.0  ...   \n",
      "11  -81.6868     661571   12600        NaN  648971.0     12.0  ...   \n",
      "12  -83.6431     292905    6287        NaN  286618.0     13.0  ...   \n",
      "13       NaN        103       3        NaN     100.0  99999.0  ...   \n",
      "14  144.7937       1863      23     1118.0     722.0     66.0  ...   \n",
      "15 -157.4983      10588      97     3334.0    7157.0     15.0  ...   \n",
      "16 -114.4788      35167     415    18052.0   16700.0     16.0  ...   \n",
      "17  -88.9861     261999    8527        NaN  253472.0     17.0  ...   \n",
      "18  -86.2583     104561    3437    81089.0   20035.0     18.0  ...   \n",
      "19  -93.2105      74205    1218    52953.0   20034.0     19.0  ...   \n",
      "\n",
      "    Mortality_Rate       UID  ISO3  Testing_Rate  Hospitalization_Rate  \\\n",
      "0         1.707278  84000001   USA  20728.750802                   NaN   \n",
      "1         0.708877  84000002   USA  54628.081663                   NaN   \n",
      "2              NaN        16   ASM   2823.457522                   NaN   \n",
      "3         2.553717  84000004   USA  17705.441769                   NaN   \n",
      "4         1.390044  84000005   USA  27172.076119                   NaN   \n",
      "5         1.887782  84000006   USA  31779.955787                   NaN   \n",
      "6         3.265655  84000008   USA  19066.423604                   NaN   \n",
      "7         8.246512  84000009   USA  37331.749169                   NaN   \n",
      "8         3.273523  84000010   USA  26657.896575                   NaN   \n",
      "9         0.000000  84088888   USA           NaN                   NaN   \n",
      "10        4.250328  84000011   USA  46395.673249                   NaN   \n",
      "11        1.904557  84000012   USA  22822.143692                   NaN   \n",
      "12        2.146430  84000013   USA  24583.846758                   NaN   \n",
      "13        2.912621  84099999   USA           NaN                   NaN   \n",
      "14        1.234568       316   GUM  26403.984680                   NaN   \n",
      "15        0.916131  84000015   USA  17659.717828                   NaN   \n",
      "16        1.180084  84000016   USA  15422.494425                   NaN   \n",
      "17        3.254593  84000017   USA  37019.706955                   NaN   \n",
      "18        3.287076  84000018   USA  17928.412608                   NaN   \n",
      "19        1.641399  84000019   USA  21517.430675                   NaN   \n",
      "\n",
      "   Log Confirmed  Log Deaths  Log Recovered  Log Active  id  \n",
      "0      11.832448    7.762596      10.900879   11.303118   0  \n",
      "1       8.733594    3.806662       7.774015    8.239329   1  \n",
      "2       0.000000    0.000000            NaN    0.000000   2  \n",
      "3      12.245913    8.578476      10.392957   12.044647   3  \n",
      "4      11.152113    6.877296      11.044888    8.719317   4  \n",
      "5      13.539670    9.569971            NaN   13.520612   5  \n",
      "6      11.016611    7.595387       8.722580   10.873319   6  \n",
      "7      10.902777    8.407602       9.120744   10.614106   7  \n",
      "8       9.837722    6.419995       9.216720    8.993552   8  \n",
      "9       3.912023    0.000000            NaN    3.912023   9  \n",
      "10      9.581490    6.424869       9.355479    7.748029  10  \n",
      "11     13.402374    9.441531            NaN   13.383145  11  \n",
      "12     12.587607    8.746398            NaN   12.565909  12  \n",
      "13      4.644391    1.386294            NaN    4.615121  13  \n",
      "14      7.530480    3.178054       7.020191    6.583409  14  \n",
      "15      9.267571    4.584967       8.112228    8.875986  15  \n",
      "16     10.467892    6.030685       9.801067    9.723224  16  \n",
      "17     12.476100    9.051110            NaN   12.443013  17  \n",
      "18     11.557535    8.142645      11.303315    9.905286  18  \n",
      "19     11.214600    7.105786      10.877179    9.905236  19  \n",
      "\n",
      "[20 rows x 23 columns]\n"
     ]
    }
   ],
   "source": [
    "import pandas\n",
    "import math\n",
    "#Sep 12 2020 - US Data\n",
    "url = \"https://raw.githubusercontent.com/CSSEGISandData/COVID-19/master/csse_covid_19_data/csse_covid_19_daily_reports_us/09-12-2020.csv\"\n",
    "data_US = pandas.read_csv(url)\n",
    "\n",
    "def take_log(x):\n",
    "    if x > 0:\n",
    "        return math.log1p(x)\n",
    "    else:\n",
    "        return x\n",
    "\n",
    "\n",
    "data_US['Log Confirmed'] = data_US['Confirmed'].apply(lambda x: take_log(x))\n",
    "data_US['Log Deaths'] = data_US['Deaths'].apply(lambda x: take_log(x))\n",
    "data_US['Log Recovered'] = data_US['Recovered'].apply(lambda x: take_log(x))\n",
    "data_US['Log Active'] = data_US['Active'].apply(lambda x: take_log(x))\n",
    "data_US['id'] = range(0,len(data_US))\n",
    "\n",
    "\n",
    "peek = data_US.head(20)\n",
    "print(peek)"
   ]
  },
  {
   "cell_type": "code",
   "execution_count": 2,
   "metadata": {},
   "outputs": [
    {
     "name": "stdout",
     "output_type": "stream",
     "text": [
      "(58, 23)\n"
     ]
    }
   ],
   "source": [
    "shape = data_US.shape\n",
    "#Rows, Columns\n",
    "print(shape)"
   ]
  },
  {
   "cell_type": "code",
   "execution_count": 3,
   "metadata": {},
   "outputs": [
    {
     "name": "stdout",
     "output_type": "stream",
     "text": [
      "Province_State           object\n",
      "Country_Region           object\n",
      "Last_Update              object\n",
      "Lat                     float64\n",
      "Long_                   float64\n",
      "Confirmed                 int64\n",
      "Deaths                    int64\n",
      "Recovered               float64\n",
      "Active                  float64\n",
      "FIPS                    float64\n",
      "Incident_Rate           float64\n",
      "People_Tested           float64\n",
      "People_Hospitalized     float64\n",
      "Mortality_Rate          float64\n",
      "UID                       int64\n",
      "ISO3                     object\n",
      "Testing_Rate            float64\n",
      "Hospitalization_Rate    float64\n",
      "Log Confirmed           float64\n",
      "Log Deaths              float64\n",
      "Log Recovered           float64\n",
      "Log Active              float64\n",
      "id                        int32\n",
      "dtype: object\n"
     ]
    }
   ],
   "source": [
    "types = data_US.dtypes\n",
    "#Objects are Strings\n",
    "print(types)"
   ]
  },
  {
   "cell_type": "code",
   "execution_count": 4,
   "metadata": {},
   "outputs": [
    {
     "name": "stdout",
     "output_type": "stream",
     "text": [
      "          Lat    Long_   Confirmed     Deaths   Recovered      Active       FIPS  Incident_Rate  \\\n",
      "count  56.000   56.000      58.000     58.000      48.000      58.000     58.000         56.000   \n",
      "mean   36.840  -85.207  111814.034   3339.534   50722.042   66497.638   3288.086       1646.757   \n",
      "std    10.887   49.754  162252.055   5567.894   88233.427  139527.828  17408.351        777.758   \n",
      "min   -14.271 -170.132       0.000      0.000      29.000       0.000      1.000          0.000   \n",
      "25%    34.595 -101.166   14657.500    303.250    5931.750    3224.250     18.250       1133.031   \n",
      "50%    39.062  -87.944   64767.500   1140.000   15276.000   15290.000     32.500       1702.667   \n",
      "75%    42.362  -76.971  132145.500   3736.250   74500.250   65568.000     47.750       2174.229   \n",
      "max    61.371  145.674  758933.000  33023.000  568067.000  744606.000  99999.000       3359.452   \n",
      "\n",
      "       People_Tested  People_Hospitalized  Mortality_Rate        UID  Testing_Rate  \\\n",
      "count      5.600e+01                  0.0          57.000  5.800e+01        56.000   \n",
      "mean       1.572e+06                  NaN           2.676  7.676e+07     26133.949   \n",
      "std        2.217e+06                  NaN           1.871  2.378e+07     12064.936   \n",
      "min        1.571e+03                  NaN           0.000  1.600e+01      2823.458   \n",
      "25%        3.392e+05                  NaN           1.390  8.400e+07     18702.527   \n",
      "50%        8.751e+05                  NaN           2.115  8.400e+07     22518.968   \n",
      "75%        1.765e+06                  NaN           3.274  8.400e+07     28165.816   \n",
      "max        1.256e+07                  NaN           8.247  8.410e+07     67634.917   \n",
      "\n",
      "       Hospitalization_Rate  Log Confirmed  Log Deaths  Log Recovered  Log Active      id  \n",
      "count                   0.0         58.000      58.000         48.000      58.000  58.000  \n",
      "mean                    NaN         10.326       6.613          9.710       9.201  28.500  \n",
      "std                     NaN          2.490       2.368          1.800       2.663  16.887  \n",
      "min                     NaN          0.000       0.000          3.401       0.000   0.000  \n",
      "25%                     NaN          9.593       5.698          8.686       8.074  14.250  \n",
      "50%                     NaN         11.077       7.038          9.632       9.631  28.500  \n",
      "75%                     NaN         11.792       8.225         11.219      11.084  42.750  \n",
      "max                     NaN         13.540      10.405         13.250      13.521  57.000  \n"
     ]
    }
   ],
   "source": [
    "pandas.set_option('display.width', 100)\n",
    "pandas.set_option('precision', 3)\n",
    "description = data_US.describe()\n",
    "print(description)"
   ]
  },
  {
   "cell_type": "code",
   "execution_count": 5,
   "metadata": {},
   "outputs": [
    {
     "name": "stdout",
     "output_type": "stream",
     "text": [
      "                        Lat  Long_  Confirmed  Deaths  Recovered  Active   FIPS  Incident_Rate  \\\n",
      "Lat                   1.000 -0.278     -0.039   0.061     -0.105  -0.045 -0.375          0.107   \n",
      "Long_                -0.278  1.000     -0.093  -0.016     -0.081  -0.081  0.368         -0.126   \n",
      "Confirmed            -0.039 -0.093      1.000   0.765      0.846   0.854 -0.131          0.479   \n",
      "Deaths                0.061 -0.016      0.765   1.000      0.422   0.643 -0.114          0.374   \n",
      "Recovered            -0.105 -0.081      0.846   0.422      1.000   0.157  0.095          0.332   \n",
      "Active               -0.045 -0.081      0.854   0.643      0.157   1.000 -0.091          0.373   \n",
      "FIPS                 -0.375  0.368     -0.131  -0.114      0.095  -0.091  1.000         -0.414   \n",
      "Incident_Rate         0.107 -0.126      0.479   0.374      0.332   0.373 -0.414          1.000   \n",
      "People_Tested         0.067 -0.090      0.890   0.843      0.579   0.820 -0.215          0.329   \n",
      "People_Hospitalized     NaN    NaN        NaN     NaN        NaN     NaN    NaN            NaN   \n",
      "Mortality_Rate        0.147  0.153      0.118   0.541      0.031   0.077 -0.117          0.014   \n",
      "UID                   0.774 -0.527      0.198   0.179      0.148   0.131  0.058          0.373   \n",
      "Testing_Rate          0.384  0.071      0.062   0.248     -0.054   0.070 -0.213          0.254   \n",
      "Hospitalization_Rate    NaN    NaN        NaN     NaN        NaN     NaN    NaN            NaN   \n",
      "Log Confirmed         0.513 -0.215      0.567   0.489      0.512   0.431 -0.461          0.688   \n",
      "Log Deaths            0.401 -0.213      0.607   0.614      0.477   0.461 -0.473          0.663   \n",
      "Log Recovered         0.235 -0.428      0.606   0.421      0.636   0.220 -0.231          0.581   \n",
      "Log Active            0.388 -0.220      0.595   0.518      0.288   0.558 -0.352          0.643   \n",
      "id                    0.157  0.091     -0.098  -0.033      0.197  -0.246 -0.195         -0.212   \n",
      "\n",
      "                      People_Tested  People_Hospitalized  Mortality_Rate    UID  Testing_Rate  \\\n",
      "Lat                           0.067                  NaN           0.147  0.774         0.384   \n",
      "Long_                        -0.090                  NaN           0.153 -0.527         0.071   \n",
      "Confirmed                     0.890                  NaN           0.118  0.198         0.062   \n",
      "Deaths                        0.843                  NaN           0.541  0.179         0.248   \n",
      "Recovered                     0.579                  NaN           0.031  0.148        -0.054   \n",
      "Active                        0.820                  NaN           0.077  0.131         0.070   \n",
      "FIPS                         -0.215                  NaN          -0.117  0.058        -0.213   \n",
      "Incident_Rate                 0.329                  NaN           0.014  0.373         0.254   \n",
      "People_Tested                 1.000                  NaN           0.275  0.212         0.228   \n",
      "People_Hospitalized             NaN                  NaN             NaN    NaN           NaN   \n",
      "Mortality_Rate                0.275                  NaN           1.000  0.116         0.332   \n",
      "UID                           0.212                  NaN           0.116  1.000         0.245   \n",
      "Testing_Rate                  0.228                  NaN           0.332  0.245         1.000   \n",
      "Hospitalization_Rate            NaN                  NaN             NaN    NaN           NaN   \n",
      "Log Confirmed                 0.533                  NaN           0.202  0.556         0.168   \n",
      "Log Deaths                    0.617                  NaN           0.443  0.510         0.183   \n",
      "Log Recovered                 0.546                  NaN           0.125  0.564        -0.003   \n",
      "Log Active                    0.550                  NaN           0.165  0.502         0.129   \n",
      "id                           -0.106                  NaN          -0.045 -0.031        -0.072   \n",
      "\n",
      "                      Hospitalization_Rate  Log Confirmed  Log Deaths  Log Recovered  Log Active  \\\n",
      "Lat                                    NaN          0.513       0.401          0.235       0.388   \n",
      "Long_                                  NaN         -0.215      -0.213         -0.428      -0.220   \n",
      "Confirmed                              NaN          0.567       0.607          0.606       0.595   \n",
      "Deaths                                 NaN          0.489       0.614          0.421       0.518   \n",
      "Recovered                              NaN          0.512       0.477          0.636       0.288   \n",
      "Active                                 NaN          0.431       0.461          0.220       0.558   \n",
      "FIPS                                   NaN         -0.461      -0.473         -0.231      -0.352   \n",
      "Incident_Rate                          NaN          0.688       0.663          0.581       0.643   \n",
      "People_Tested                          NaN          0.533       0.617          0.546       0.550   \n",
      "People_Hospitalized                    NaN            NaN         NaN            NaN         NaN   \n",
      "Mortality_Rate                         NaN          0.202       0.443          0.125       0.165   \n",
      "UID                                    NaN          0.556       0.510          0.564       0.502   \n",
      "Testing_Rate                           NaN          0.168       0.183         -0.003       0.129   \n",
      "Hospitalization_Rate                   NaN            NaN         NaN            NaN         NaN   \n",
      "Log Confirmed                          NaN          1.000       0.950          0.862       0.925   \n",
      "Log Deaths                             NaN          0.950       1.000          0.794       0.891   \n",
      "Log Recovered                          NaN          0.862       0.794          1.000       0.572   \n",
      "Log Active                             NaN          0.925       0.891          0.572       1.000   \n",
      "id                                     NaN          0.100       0.042          0.038      -0.046   \n",
      "\n",
      "                         id  \n",
      "Lat                   0.157  \n",
      "Long_                 0.091  \n",
      "Confirmed            -0.098  \n",
      "Deaths               -0.033  \n",
      "Recovered             0.197  \n",
      "Active               -0.246  \n",
      "FIPS                 -0.195  \n",
      "Incident_Rate        -0.212  \n",
      "People_Tested        -0.106  \n",
      "People_Hospitalized     NaN  \n",
      "Mortality_Rate       -0.045  \n",
      "UID                  -0.031  \n",
      "Testing_Rate         -0.072  \n",
      "Hospitalization_Rate    NaN  \n",
      "Log Confirmed         0.100  \n",
      "Log Deaths            0.042  \n",
      "Log Recovered         0.038  \n",
      "Log Active           -0.046  \n",
      "id                    1.000  \n"
     ]
    }
   ],
   "source": [
    "pandas.set_option('display.width', 100)\n",
    "pandas.set_option('precision', 3)\n",
    "correlations = data_US.corr(method='pearson')\n",
    "print(correlations)"
   ]
  },
  {
   "cell_type": "code",
   "execution_count": 6,
   "metadata": {},
   "outputs": [
    {
     "name": "stdout",
     "output_type": "stream",
     "text": [
      "Lat                    -2.213\n",
      "Long_                   3.509\n",
      "Confirmed               2.727\n",
      "Deaths                  3.298\n",
      "Recovered               4.528\n",
      "Active                  3.612\n",
      "FIPS                    5.269\n",
      "Incident_Rate          -0.029\n",
      "People_Tested           3.223\n",
      "People_Hospitalized       NaN\n",
      "Mortality_Rate          1.546\n",
      "UID                    -3.027\n",
      "Testing_Rate            1.427\n",
      "Hospitalization_Rate      NaN\n",
      "Log Confirmed          -1.995\n",
      "Log Deaths             -1.083\n",
      "Log Recovered          -0.843\n",
      "Log Active             -1.116\n",
      "id                      0.000\n",
      "dtype: float64\n"
     ]
    }
   ],
   "source": [
    "skew = data_US.skew()\n",
    "print(skew)"
   ]
  },
  {
   "cell_type": "code",
   "execution_count": 8,
   "metadata": {},
   "outputs": [
    {
     "data": {
      "image/png": "[encoded data removed]",
      "text/plain": [
       "<Figure size 432x288 with 4 Axes>"
      ]
     },
     "metadata": {
      "needs_background": "light"
     },
     "output_type": "display_data"
    }
   ],
   "source": [
    "import matplotlib.pyplot as plt\n",
    "\n",
    "fig5, axs = plt.subplots(2, 2, sharex=\"col\", sharey=\"row\",\n",
    "                         gridspec_kw=dict(height_ratios=[1, 3],\n",
    "                                          width_ratios=[3, 1]))\n",
    "axs[0, 0].set_visible(False)\n",
    "axs[0, 1].set_visible(False)\n",
    "\n",
    "axs[1,0].scatter(data_US['id'], data_US['Confirmed'])\n",
    "axs[1,0].set_xlabel('State_id', fontsize=15)\n",
    "axs[1,0].set_ylabel('Confirmed Cases', fontsize=15)\n",
    "\n",
    "axs[1, 1].hist(data_US['Confirmed'], orientation=\"horizontal\")\n",
    "\n",
    "plt.show()"
   ]
  },
  {
   "cell_type": "code",
   "execution_count": 9,
   "metadata": {},
   "outputs": [
    {
     "name": "stdout",
     "output_type": "stream",
     "text": [
      "    FIPS Admin2                Province_State       Country_Region          Last_Update     Lat  \\\n",
      "0    NaN    NaN                           NaN          Afghanistan  2020-09-13 04:30:52  33.939   \n",
      "1    NaN    NaN                           NaN              Albania  2020-09-13 04:30:52  41.153   \n",
      "2    NaN    NaN                           NaN              Algeria  2020-09-13 04:30:52  28.034   \n",
      "3    NaN    NaN                           NaN              Andorra  2020-09-13 04:30:52  42.506   \n",
      "4    NaN    NaN                           NaN               Angola  2020-09-13 04:30:52 -11.203   \n",
      "5    NaN    NaN                           NaN  Antigua and Barbuda  2020-09-13 04:30:52  17.061   \n",
      "6    NaN    NaN                           NaN            Argentina  2020-09-13 04:30:52 -38.416   \n",
      "7    NaN    NaN                           NaN              Armenia  2020-09-13 04:30:52  40.069   \n",
      "8    NaN    NaN  Australian Capital Territory            Australia  2020-09-13 04:30:52 -35.474   \n",
      "9    NaN    NaN               New South Wales            Australia  2020-09-13 04:30:52 -33.869   \n",
      "10   NaN    NaN            Northern Territory            Australia  2020-09-13 04:30:52 -12.463   \n",
      "11   NaN    NaN                    Queensland            Australia  2020-09-13 04:30:52 -27.470   \n",
      "12   NaN    NaN               South Australia            Australia  2020-09-13 04:30:52 -34.928   \n",
      "13   NaN    NaN                      Tasmania            Australia  2020-09-13 04:30:52 -42.882   \n",
      "14   NaN    NaN                      Victoria            Australia  2020-09-13 04:30:52 -37.814   \n",
      "15   NaN    NaN             Western Australia            Australia  2020-09-13 04:30:52 -31.951   \n",
      "16   NaN    NaN                           NaN              Austria  2020-09-13 04:30:52  47.516   \n",
      "17   NaN    NaN                           NaN           Azerbaijan  2020-09-13 04:30:52  40.143   \n",
      "18   NaN    NaN                           NaN              Bahamas  2020-09-13 04:30:52  25.026   \n",
      "19   NaN    NaN                           NaN              Bahrain  2020-09-13 04:30:52  26.027   \n",
      "\n",
      "      Long_  Confirmed  Deaths  Recovered    Active                             Combined_Key  \\\n",
      "0    67.710      38641    1420      31234    5987.0                              Afghanistan   \n",
      "1    20.168      11185     330       6494    4361.0                                  Albania   \n",
      "2     1.660      48007    1605      33875   12527.0                                  Algeria   \n",
      "3     1.522       1344      53        943     348.0                                  Andorra   \n",
      "4    17.874       3335     132       1289    1914.0                                   Angola   \n",
      "5   -61.796         95       3         91       1.0                      Antigua and Barbuda   \n",
      "6   -63.617     546481   11263     409771  125447.0                                Argentina   \n",
      "7    45.038      45675     911      41605    3159.0                                  Armenia   \n",
      "8   149.012        113       3        110       0.0  Australian Capital Territory, Australia   \n",
      "9   151.209       4166      52       2994    1120.0               New South Wales, Australia   \n",
      "10  130.846         33       0         31       2.0            Northern Territory, Australia   \n",
      "11  153.025       1149       6       1107      36.0                    Queensland, Australia   \n",
      "12  138.601        466       4        462       0.0               South Australia, Australia   \n",
      "13  147.327        230      13        217       0.0                      Tasmania, Australia   \n",
      "14  144.963      19835     723      17771    1341.0                      Victoria, Australia   \n",
      "15  115.861        659       9        646       4.0             Western Australia, Australia   \n",
      "16   14.550      32696     754      26579    5363.0                                  Austria   \n",
      "17   47.577      38172     559      35607    2006.0                               Azerbaijan   \n",
      "18  -78.036       2928      67       1319    1542.0                                  Bahamas   \n",
      "19   50.550      59586     211      53192    6183.0                                  Bahrain   \n",
      "\n",
      "    Incidence_Rate  Case-Fatality_Ratio  Log Confirmed  Log Deaths  Log Recovered  Log Active  id  \n",
      "0           99.262                3.675         10.562       7.259         10.349       8.698   0  \n",
      "1          388.665                2.950          9.322       5.802          8.779       8.381   1  \n",
      "2          109.477                3.343         10.779       7.382         10.430       9.436   2  \n",
      "3         1739.468                3.943          7.204       3.989          6.850       5.855   3  \n",
      "4           10.147                3.958          8.113       4.890          7.162       7.557   4  \n",
      "5           97.010                3.158          4.564       1.386          4.522       0.693   5  \n",
      "6         1209.142                2.061         13.211       9.329         12.923      11.740   6  \n",
      "7         1541.390                1.995         10.729       6.816         10.636       8.058   7  \n",
      "8           26.396                2.655          4.736       1.386          4.710       0.000   8  \n",
      "9           51.318                1.248          8.335       3.970          8.005       7.022   9  \n",
      "10          13.436                0.000          3.526       0.000          3.466       1.099  10  \n",
      "11          22.461                0.522          7.048       1.946          7.010       3.611  11  \n",
      "12          26.530                0.858          6.146       1.609          6.138       0.000  12  \n",
      "13          42.951                5.652          5.442       2.639          5.384       0.000  13  \n",
      "14         299.175                3.645          9.895       6.585          9.785       7.202  14  \n",
      "15          25.051                1.366          6.492       2.303          6.472       1.609  15  \n",
      "16         363.031                2.306         10.395       6.627         10.188       8.587  16  \n",
      "17         376.480                1.464         10.550       6.328         10.480       7.604  17  \n",
      "18         744.568                2.288          7.982       4.220          7.185       7.341  18  \n",
      "19        3501.798                0.354         10.995       5.357         10.882       8.730  19  \n"
     ]
    }
   ],
   "source": [
    "#Sep 12 20 - Global Data\n",
    "url = \"https://raw.githubusercontent.com/CSSEGISandData/COVID-19/master/csse_covid_19_data/csse_covid_19_daily_reports/09-12-2020.csv\"\n",
    "data = pandas.read_csv(url)\n",
    "\n",
    "data['Log Confirmed'] = data['Confirmed'].apply(lambda x: take_log(x))\n",
    "data['Log Deaths'] = data['Deaths'].apply(lambda x: take_log(x))\n",
    "data['Log Recovered'] = data['Recovered'].apply(lambda x: take_log(x))\n",
    "data['Log Active'] = data['Active'].apply(lambda x: take_log(x))\n",
    "data['id'] = range(0,len(data))\n",
    "\n",
    "\n",
    "peek = data.head(20)\n",
    "print(peek)"
   ]
  },
  {
   "cell_type": "code",
   "execution_count": 10,
   "metadata": {},
   "outputs": [
    {
     "name": "stdout",
     "output_type": "stream",
     "text": [
      "(3954, 19)\n"
     ]
    }
   ],
   "source": [
    "shape = data.shape\n",
    "#Rows, Columns\n",
    "print(shape)"
   ]
  },
  {
   "cell_type": "code",
   "execution_count": 11,
   "metadata": {},
   "outputs": [
    {
     "name": "stdout",
     "output_type": "stream",
     "text": [
      "FIPS                   float64\n",
      "Admin2                  object\n",
      "Province_State          object\n",
      "Country_Region          object\n",
      "Last_Update             object\n",
      "Lat                    float64\n",
      "Long_                  float64\n",
      "Confirmed                int64\n",
      "Deaths                   int64\n",
      "Recovered                int64\n",
      "Active                 float64\n",
      "Combined_Key            object\n",
      "Incidence_Rate         float64\n",
      "Case-Fatality_Ratio    float64\n",
      "Log Confirmed          float64\n",
      "Log Deaths             float64\n",
      "Log Recovered          float64\n",
      "Log Active             float64\n",
      "id                       int32\n",
      "dtype: object\n"
     ]
    }
   ],
   "source": [
    "types = data.dtypes\n",
    "#Objects are Strings\n",
    "print(types)"
   ]
  },
  {
   "cell_type": "code",
   "execution_count": 12,
   "metadata": {},
   "outputs": [
    {
     "name": "stdout",
     "output_type": "stream",
     "text": [
      "            FIPS       Lat     Long_  Confirmed     Deaths  Recovered     Active  Incidence_Rate  \\\n",
      "count   3259.000  3874.000  3874.000  3.954e+03   3954.000  3.954e+03  3.951e+03        3874.000   \n",
      "mean   32394.592    35.988   -72.337  7.273e+03    232.734  4.916e+03  2.126e+03        1430.661   \n",
      "std    17963.962    12.873    53.019  3.881e+04   1426.498  4.972e+04  4.192e+04        1316.908   \n",
      "min       66.000   -52.368  -174.160  0.000e+00      0.000  0.000e+00 -2.435e+06           0.000   \n",
      "25%    19054.000    33.270   -96.611  1.260e+02      1.000  0.000e+00  1.020e+02         551.799   \n",
      "50%    30069.000    37.938   -86.878  4.650e+02      8.000  0.000e+00  3.910e+02        1085.779   \n",
      "75%    47038.000    42.159   -77.639  1.965e+03     44.000  0.000e+00  1.344e+03        1921.998   \n",
      "max    99999.000    71.707   178.065  1.038e+06  36959.000  2.435e+06  3.203e+05       14522.784   \n",
      "\n",
      "       Case-Fatality_Ratio  Log Confirmed  Log Deaths  Log Recovered  Log Active        id  \n",
      "count             3905.000       3954.000    3954.000       3954.000   3.951e+03  3954.000  \n",
      "mean                 2.360          6.242       2.518          1.273  -7.520e+02  1976.500  \n",
      "std                  3.482          2.254       2.133          3.110   3.974e+04  1141.566  \n",
      "min                  0.000          0.000       0.000          0.000  -2.435e+06     0.000  \n",
      "25%                  0.626          4.844       0.693          0.000   4.635e+00   988.250  \n",
      "50%                  1.620          6.144       2.197          0.000   5.971e+00  1976.500  \n",
      "75%                  3.017          7.584       3.807          0.000   7.204e+00  2964.750  \n",
      "max                103.682         13.853      10.518         14.705   1.268e+01  3953.000  \n"
     ]
    }
   ],
   "source": [
    "pandas.set_option('display.width', 100)\n",
    "pandas.set_option('precision', 3)\n",
    "description = data.describe()\n",
    "print(description)"
   ]
  },
  {
   "cell_type": "code",
   "execution_count": 13,
   "metadata": {},
   "outputs": [
    {
     "name": "stdout",
     "output_type": "stream",
     "text": [
      "FIPS                    0.571\n",
      "Lat                    -2.547\n",
      "Long_                   2.472\n",
      "Confirmed              13.665\n",
      "Deaths                 15.483\n",
      "Recovered              32.999\n",
      "Active                -49.920\n",
      "Incidence_Rate          2.611\n",
      "Case-Fatality_Ratio    12.371\n",
      "Log Confirmed           0.101\n",
      "Log Deaths              0.820\n",
      "Log Recovered           2.223\n",
      "Log Active            -58.893\n",
      "id                      0.000\n",
      "dtype: float64\n"
     ]
    }
   ],
   "source": [
    "skew = data.skew()\n",
    "print(skew)"
   ]
  },
  {
   "cell_type": "code",
   "execution_count": 14,
   "metadata": {},
   "outputs": [
    {
     "name": "stdout",
     "output_type": "stream",
     "text": [
      "                      FIPS    Lat  Long_  Confirmed  Deaths  Recovered  Active  Incidence_Rate  \\\n",
      "FIPS                 1.000 -0.144  0.192     -0.072  -0.042        NaN  -0.073          -0.175   \n",
      "Lat                 -0.144  1.000 -0.150     -0.255  -0.181     -0.264  -0.129          -0.110   \n",
      "Long_                0.192 -0.150  1.000      0.213   0.144      0.224   0.099          -0.257   \n",
      "Confirmed           -0.072 -0.255  0.213      1.000   0.816      0.568   0.224           0.008   \n",
      "Deaths              -0.042 -0.181  0.144      0.816   1.000      0.415   0.229          -0.004   \n",
      "Recovered              NaN -0.264  0.224      0.568   0.415      1.000  -0.674          -0.024   \n",
      "Active              -0.073 -0.129  0.099      0.224   0.229     -0.674   1.000           0.079   \n",
      "Incidence_Rate      -0.175 -0.110 -0.257      0.008  -0.004     -0.024   0.079           1.000   \n",
      "Case-Fatality_Ratio  0.030 -0.030  0.033      0.045   0.156      0.022   0.066           0.030   \n",
      "Log Confirmed       -0.177 -0.280  0.345      0.416   0.361      0.166   0.176           0.268   \n",
      "Log Deaths          -0.177 -0.249  0.296      0.438   0.426      0.199   0.156           0.216   \n",
      "Log Recovered          NaN -0.327  0.707      0.432   0.349      0.344  -0.020          -0.226   \n",
      "Log Active          -0.134 -0.159  0.044      0.004   0.003     -0.797   0.949           0.389   \n",
      "id                   0.840  0.229 -0.413     -0.202  -0.164     -0.115  -0.046           0.022   \n",
      "\n",
      "                     Case-Fatality_Ratio  Log Confirmed  Log Deaths  Log Recovered  Log Active  \\\n",
      "FIPS                               0.030         -0.177      -0.177            NaN      -0.134   \n",
      "Lat                               -0.030         -0.280      -0.249         -0.327      -0.159   \n",
      "Long_                              0.033          0.345       0.296          0.707       0.044   \n",
      "Confirmed                          0.045          0.416       0.438          0.432       0.004   \n",
      "Deaths                             0.156          0.361       0.426          0.349       0.003   \n",
      "Recovered                          0.022          0.166       0.199          0.344      -0.797   \n",
      "Active                             0.066          0.176       0.156         -0.020       0.949   \n",
      "Incidence_Rate                     0.030          0.268       0.216         -0.226       0.389   \n",
      "Case-Fatality_Ratio                1.000          0.165       0.397          0.078       0.037   \n",
      "Log Confirmed                      0.165          1.000       0.890          0.516       0.053   \n",
      "Log Deaths                         0.397          0.890       1.000          0.520       0.023   \n",
      "Log Recovered                      0.078          0.516       0.520          1.000      -0.081   \n",
      "Log Active                         0.037          0.053       0.023         -0.081       1.000   \n",
      "id                                -0.048         -0.313      -0.328         -0.513      -0.010   \n",
      "\n",
      "                        id  \n",
      "FIPS                 0.840  \n",
      "Lat                  0.229  \n",
      "Long_               -0.413  \n",
      "Confirmed           -0.202  \n",
      "Deaths              -0.164  \n",
      "Recovered           -0.115  \n",
      "Active              -0.046  \n",
      "Incidence_Rate       0.022  \n",
      "Case-Fatality_Ratio -0.048  \n",
      "Log Confirmed       -0.313  \n",
      "Log Deaths          -0.328  \n",
      "Log Recovered       -0.513  \n",
      "Log Active          -0.010  \n",
      "id                   1.000  \n"
     ]
    }
   ],
   "source": [
    "pandas.set_option('display.width', 100)\n",
    "pandas.set_option('precision', 3)\n",
    "correlations = data.corr(method='pearson')\n",
    "print(correlations)"
   ]
  },
  {
   "cell_type": "code",
   "execution_count": 15,
   "metadata": {},
   "outputs": [
    {
     "data": {
      "image/png": "[encoded data removed]",
      "text/plain": [
       "<Figure size 432x288 with 4 Axes>"
      ]
     },
     "metadata": {
      "needs_background": "light"
     },
     "output_type": "display_data"
    }
   ],
   "source": [
    "import matplotlib.pyplot as plt\n",
    "\n",
    "fig5, axs = plt.subplots(2, 2, sharex=\"col\", sharey=\"row\",\n",
    "                         gridspec_kw=dict(height_ratios=[1, 3],\n",
    "                                          width_ratios=[3, 1]))\n",
    "axs[0, 0].set_visible(False)\n",
    "axs[0, 1].set_visible(False)\n",
    "\n",
    "axs[1,0].scatter(data['id'],data['Confirmed'])\n",
    "axs[1,0].set_xlabel('Country_id', fontsize=15)\n",
    "axs[1,0].set_ylabel('Confirmed Cases', fontsize=15)\n",
    "\n",
    "axs[1, 1].hist(data['Confirmed'], orientation=\"horizontal\")\n",
    "\n",
    "plt.show()"
   ]
  },
  {
   "cell_type": "code",
   "execution_count": null,
   "metadata": {},
   "outputs": [],
   "source": []
  }
 ],
 "metadata": {
  "kernelspec": {
   "display_name": "Python 3",
   "language": "python",
   "name": "python3"
  },
  "language_info": {
   "codemirror_mode": {
    "name": "ipython",
    "version": 3
   },
   "file_extension": ".py",
   "mimetype": "text/x-python",
   "name": "python",
   "nbconvert_exporter": "python",
   "pygments_lexer": "ipython3",
   "version": "3.7.4"
  }
 },
 "nbformat": 4,
 "nbformat_minor": 4
}
