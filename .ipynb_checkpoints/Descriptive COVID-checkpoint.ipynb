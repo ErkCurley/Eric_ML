{
 "cells": [
  {
   "cell_type": "markdown",
   "metadata": {},
   "source": [
    "COVID-19 Data Repository by the Center for Systems Science and Engineering (CSSE) at Johns Hopkins University\n",
    "Data: https://github.com/CSSEGISandData/COVID-19"
   ]
  },
  {
   "cell_type": "code",
   "execution_count": 42,
   "metadata": {},
   "outputs": [
    {
     "name": "stdout",
     "output_type": "stream",
     "text": [
      "          Province_State Country_Region          Last_Update     Lat    Long_  Confirmed  Deaths  \\\n",
      "0                Alabama             US  2020-09-13 04:32:00  32.318  -86.902     137646    2350   \n",
      "1                 Alaska             US  2020-09-13 04:32:00  61.371 -152.404       6207      44   \n",
      "2         American Samoa             US  2020-09-13 04:32:00 -14.271 -170.132          0       0   \n",
      "3                Arizona             US  2020-09-13 04:32:00  33.730 -111.431     208128    5315   \n",
      "4               Arkansas             US  2020-09-13 04:32:00  34.970  -92.373      69710     969   \n",
      "5             California             US  2020-09-13 04:32:00  36.116 -119.682     758933   14327   \n",
      "6               Colorado             US  2020-09-13 04:32:00  39.060 -105.311      60876    1988   \n",
      "7            Connecticut             US  2020-09-13 04:32:00  41.598  -72.755      54326    4480   \n",
      "8               Delaware             US  2020-09-13 04:32:00  39.319  -75.507      18726     613   \n",
      "9       Diamond Princess             US  2020-09-13 04:32:00     NaN      NaN         49       0   \n",
      "10  District of Columbia             US  2020-09-13 04:32:00  38.897  -77.027      14493     616   \n",
      "11               Florida             US  2020-09-13 04:32:00  27.766  -81.687     661571   12600   \n",
      "12               Georgia             US  2020-09-13 04:32:00  33.041  -83.643     292905    6287   \n",
      "13        Grand Princess             US  2020-09-13 04:32:00     NaN      NaN        103       3   \n",
      "14                  Guam             US  2020-09-13 04:32:00  13.444  144.794       1863      23   \n",
      "15                Hawaii             US  2020-09-13 04:32:00  21.094 -157.498      10588      97   \n",
      "16                 Idaho             US  2020-09-13 04:32:00  44.240 -114.479      35167     415   \n",
      "17              Illinois             US  2020-09-13 04:32:00  40.349  -88.986     261999    8527   \n",
      "18               Indiana             US  2020-09-13 04:32:00  39.849  -86.258     104561    3437   \n",
      "19                  Iowa             US  2020-09-13 04:32:00  42.011  -93.210      74205    1218   \n",
      "\n",
      "    Recovered    Active     FIPS  ...  Mortality_Rate       UID  ISO3  Testing_Rate  \\\n",
      "0     54223.0   81073.0      1.0  ...           1.707  84000001   USA     20728.751   \n",
      "1      2377.0    3786.0      2.0  ...           0.709  84000002   USA     54628.082   \n",
      "2         NaN       0.0     60.0  ...             NaN        16   ASM      2823.458   \n",
      "3     32628.0  170185.0      4.0  ...           2.554  84000004   USA     17705.442   \n",
      "4     62622.0    6119.0      5.0  ...           1.390  84000005   USA     27172.076   \n",
      "5         NaN  744606.0      6.0  ...           1.888  84000006   USA     31779.956   \n",
      "6      6139.0   52749.0      8.0  ...           3.266  84000008   USA     19066.424   \n",
      "7      9142.0   40704.0      9.0  ...           8.247  84000009   USA     37331.749   \n",
      "8     10063.0    8050.0     10.0  ...           3.274  84000010   USA     26657.897   \n",
      "9         NaN      49.0  88888.0  ...           0.000  84088888   USA           NaN   \n",
      "10    11561.0    2316.0     11.0  ...           4.250  84000011   USA     46395.673   \n",
      "11        NaN  648971.0     12.0  ...           1.905  84000012   USA     22822.144   \n",
      "12        NaN  286618.0     13.0  ...           2.146  84000013   USA     24583.847   \n",
      "13        NaN     100.0  99999.0  ...           2.913  84099999   USA           NaN   \n",
      "14     1118.0     722.0     66.0  ...           1.235       316   GUM     26403.985   \n",
      "15     3334.0    7157.0     15.0  ...           0.916  84000015   USA     17659.718   \n",
      "16    18052.0   16700.0     16.0  ...           1.180  84000016   USA     15422.494   \n",
      "17        NaN  253472.0     17.0  ...           3.255  84000017   USA     37019.707   \n",
      "18    81089.0   20035.0     18.0  ...           3.287  84000018   USA     17928.413   \n",
      "19    52953.0   20034.0     19.0  ...           1.641  84000019   USA     21517.431   \n",
      "\n",
      "    Hospitalization_Rate Log Confirmed  Log Deaths  Log Recovered  Log Active  id  \n",
      "0                    NaN        11.832       7.763         10.901      11.303   0  \n",
      "1                    NaN         8.734       3.807          7.774       8.239   1  \n",
      "2                    NaN         0.000       0.000            NaN       0.000   2  \n",
      "3                    NaN        12.246       8.578         10.393      12.045   3  \n",
      "4                    NaN        11.152       6.877         11.045       8.719   4  \n",
      "5                    NaN        13.540       9.570            NaN      13.521   5  \n",
      "6                    NaN        11.017       7.595          8.723      10.873   6  \n",
      "7                    NaN        10.903       8.408          9.121      10.614   7  \n",
      "8                    NaN         9.838       6.420          9.217       8.994   8  \n",
      "9                    NaN         3.912       0.000            NaN       3.912   9  \n",
      "10                   NaN         9.581       6.425          9.355       7.748  10  \n",
      "11                   NaN        13.402       9.442            NaN      13.383  11  \n",
      "12                   NaN        12.588       8.746            NaN      12.566  12  \n",
      "13                   NaN         4.644       1.386            NaN       4.615  13  \n",
      "14                   NaN         7.530       3.178          7.020       6.583  14  \n",
      "15                   NaN         9.268       4.585          8.112       8.876  15  \n",
      "16                   NaN        10.468       6.031          9.801       9.723  16  \n",
      "17                   NaN        12.476       9.051            NaN      12.443  17  \n",
      "18                   NaN        11.558       8.143         11.303       9.905  18  \n",
      "19                   NaN        11.215       7.106         10.877       9.905  19  \n",
      "\n",
      "[20 rows x 23 columns]\n"
     ]
    }
   ],
   "source": [
    "import pandas\n",
    "import math\n",
    "#Sep 12 2020 - US Data\n",
    "url = \"https://raw.githubusercontent.com/CSSEGISandData/COVID-19/master/csse_covid_19_data/csse_covid_19_daily_reports_us/09-12-2020.csv\"\n",
    "data_US = pandas.read_csv(url)\n",
    "\n",
    "def take_log(x):\n",
    "    if x > 0:\n",
    "        return math.log1p(x)\n",
    "    else:\n",
    "        return x\n",
    "\n",
    "\n",
    "data_US['Log Confirmed'] = data_US['Confirmed'].apply(lambda x: take_log(x))\n",
    "data_US['Log Deaths'] = data_US['Deaths'].apply(lambda x: take_log(x))\n",
    "data_US['Log Recovered'] = data_US['Recovered'].apply(lambda x: take_log(x))\n",
    "data_US['Log Active'] = data_US['Active'].apply(lambda x: take_log(x))\n",
    "data_US['id'] = range(0,len(data_US))\n",
    "\n",
    "\n",
    "peek = data_US.head(20)\n",
    "print(peek)"
   ]
  },
  {
   "cell_type": "code",
   "execution_count": 30,
   "metadata": {},
   "outputs": [
    {
     "name": "stdout",
     "output_type": "stream",
     "text": [
      "(58, 22)\n"
     ]
    }
   ],
   "source": [
    "shape = data_US.shape\n",
    "#Rows, Columns\n",
    "print(shape)"
   ]
  },
  {
   "cell_type": "code",
   "execution_count": 31,
   "metadata": {},
   "outputs": [
    {
     "name": "stdout",
     "output_type": "stream",
     "text": [
      "Province_State           object\n",
      "Country_Region           object\n",
      "Last_Update              object\n",
      "Lat                     float64\n",
      "Long_                   float64\n",
      "Confirmed                 int64\n",
      "Deaths                    int64\n",
      "Recovered               float64\n",
      "Active                  float64\n",
      "FIPS                    float64\n",
      "Incident_Rate           float64\n",
      "People_Tested           float64\n",
      "People_Hospitalized     float64\n",
      "Mortality_Rate          float64\n",
      "UID                       int64\n",
      "ISO3                     object\n",
      "Testing_Rate            float64\n",
      "Hospitalization_Rate    float64\n",
      "Log Confirmed           float64\n",
      "Log Deaths              float64\n",
      "Log Recovered           float64\n",
      "Log Active              float64\n",
      "dtype: object\n"
     ]
    }
   ],
   "source": [
    "types = data_US.dtypes\n",
    "#Objects are Strings\n",
    "print(types)"
   ]
  },
  {
   "cell_type": "code",
   "execution_count": 32,
   "metadata": {},
   "outputs": [
    {
     "name": "stdout",
     "output_type": "stream",
     "text": [
      "          Lat    Long_   Confirmed     Deaths   Recovered      Active       FIPS  Incident_Rate  \\\n",
      "count  56.000   56.000      58.000     58.000      48.000      58.000     58.000         56.000   \n",
      "mean   36.840  -85.207  111814.034   3339.534   50722.042   66497.638   3288.086       1646.757   \n",
      "std    10.887   49.754  162252.055   5567.894   88233.427  139527.828  17408.351        777.758   \n",
      "min   -14.271 -170.132       0.000      0.000      29.000       0.000      1.000          0.000   \n",
      "25%    34.595 -101.166   14657.500    303.250    5931.750    3224.250     18.250       1133.031   \n",
      "50%    39.062  -87.944   64767.500   1140.000   15276.000   15290.000     32.500       1702.667   \n",
      "75%    42.362  -76.971  132145.500   3736.250   74500.250   65568.000     47.750       2174.229   \n",
      "max    61.371  145.674  758933.000  33023.000  568067.000  744606.000  99999.000       3359.452   \n",
      "\n",
      "       People_Tested  People_Hospitalized  Mortality_Rate        UID  Testing_Rate  \\\n",
      "count      5.600e+01                  0.0          57.000  5.800e+01        56.000   \n",
      "mean       1.572e+06                  NaN           2.676  7.676e+07     26133.949   \n",
      "std        2.217e+06                  NaN           1.871  2.378e+07     12064.936   \n",
      "min        1.571e+03                  NaN           0.000  1.600e+01      2823.458   \n",
      "25%        3.392e+05                  NaN           1.390  8.400e+07     18702.527   \n",
      "50%        8.751e+05                  NaN           2.115  8.400e+07     22518.968   \n",
      "75%        1.765e+06                  NaN           3.274  8.400e+07     28165.816   \n",
      "max        1.256e+07                  NaN           8.247  8.410e+07     67634.917   \n",
      "\n",
      "       Hospitalization_Rate  Log Confirmed  Log Deaths  Log Recovered  Log Active  \n",
      "count                   0.0         58.000      58.000         48.000      58.000  \n",
      "mean                    NaN         10.326       6.613          9.710       9.201  \n",
      "std                     NaN          2.490       2.368          1.800       2.663  \n",
      "min                     NaN          0.000       0.000          3.401       0.000  \n",
      "25%                     NaN          9.593       5.698          8.686       8.074  \n",
      "50%                     NaN         11.077       7.038          9.632       9.631  \n",
      "75%                     NaN         11.792       8.225         11.219      11.084  \n",
      "max                     NaN         13.540      10.405         13.250      13.521  \n"
     ]
    }
   ],
   "source": [
    "pandas.set_option('display.width', 100)\n",
    "pandas.set_option('precision', 3)\n",
    "description = data_US.describe()\n",
    "print(description)"
   ]
  },
  {
   "cell_type": "code",
   "execution_count": 33,
   "metadata": {},
   "outputs": [
    {
     "name": "stdout",
     "output_type": "stream",
     "text": [
      "                        Lat  Long_  Confirmed  Deaths  Recovered  Active   FIPS  Incident_Rate  \\\n",
      "Lat                   1.000 -0.278     -0.039   0.061     -0.105  -0.045 -0.375          0.107   \n",
      "Long_                -0.278  1.000     -0.093  -0.016     -0.081  -0.081  0.368         -0.126   \n",
      "Confirmed            -0.039 -0.093      1.000   0.765      0.846   0.854 -0.131          0.479   \n",
      "Deaths                0.061 -0.016      0.765   1.000      0.422   0.643 -0.114          0.374   \n",
      "Recovered            -0.105 -0.081      0.846   0.422      1.000   0.157  0.095          0.332   \n",
      "Active               -0.045 -0.081      0.854   0.643      0.157   1.000 -0.091          0.373   \n",
      "FIPS                 -0.375  0.368     -0.131  -0.114      0.095  -0.091  1.000         -0.414   \n",
      "Incident_Rate         0.107 -0.126      0.479   0.374      0.332   0.373 -0.414          1.000   \n",
      "People_Tested         0.067 -0.090      0.890   0.843      0.579   0.820 -0.215          0.329   \n",
      "People_Hospitalized     NaN    NaN        NaN     NaN        NaN     NaN    NaN            NaN   \n",
      "Mortality_Rate        0.147  0.153      0.118   0.541      0.031   0.077 -0.117          0.014   \n",
      "UID                   0.774 -0.527      0.198   0.179      0.148   0.131  0.058          0.373   \n",
      "Testing_Rate          0.384  0.071      0.062   0.248     -0.054   0.070 -0.213          0.254   \n",
      "Hospitalization_Rate    NaN    NaN        NaN     NaN        NaN     NaN    NaN            NaN   \n",
      "Log Confirmed         0.513 -0.215      0.567   0.489      0.512   0.431 -0.461          0.688   \n",
      "Log Deaths            0.401 -0.213      0.607   0.614      0.477   0.461 -0.473          0.663   \n",
      "Log Recovered         0.235 -0.428      0.606   0.421      0.636   0.220 -0.231          0.581   \n",
      "Log Active            0.388 -0.220      0.595   0.518      0.288   0.558 -0.352          0.643   \n",
      "\n",
      "                      People_Tested  People_Hospitalized  Mortality_Rate    UID  Testing_Rate  \\\n",
      "Lat                           0.067                  NaN           0.147  0.774         0.384   \n",
      "Long_                        -0.090                  NaN           0.153 -0.527         0.071   \n",
      "Confirmed                     0.890                  NaN           0.118  0.198         0.062   \n",
      "Deaths                        0.843                  NaN           0.541  0.179         0.248   \n",
      "Recovered                     0.579                  NaN           0.031  0.148        -0.054   \n",
      "Active                        0.820                  NaN           0.077  0.131         0.070   \n",
      "FIPS                         -0.215                  NaN          -0.117  0.058        -0.213   \n",
      "Incident_Rate                 0.329                  NaN           0.014  0.373         0.254   \n",
      "People_Tested                 1.000                  NaN           0.275  0.212         0.228   \n",
      "People_Hospitalized             NaN                  NaN             NaN    NaN           NaN   \n",
      "Mortality_Rate                0.275                  NaN           1.000  0.116         0.332   \n",
      "UID                           0.212                  NaN           0.116  1.000         0.245   \n",
      "Testing_Rate                  0.228                  NaN           0.332  0.245         1.000   \n",
      "Hospitalization_Rate            NaN                  NaN             NaN    NaN           NaN   \n",
      "Log Confirmed                 0.533                  NaN           0.202  0.556         0.168   \n",
      "Log Deaths                    0.617                  NaN           0.443  0.510         0.183   \n",
      "Log Recovered                 0.546                  NaN           0.125  0.564        -0.003   \n",
      "Log Active                    0.550                  NaN           0.165  0.502         0.129   \n",
      "\n",
      "                      Hospitalization_Rate  Log Confirmed  Log Deaths  Log Recovered  Log Active  \n",
      "Lat                                    NaN          0.513       0.401          0.235       0.388  \n",
      "Long_                                  NaN         -0.215      -0.213         -0.428      -0.220  \n",
      "Confirmed                              NaN          0.567       0.607          0.606       0.595  \n",
      "Deaths                                 NaN          0.489       0.614          0.421       0.518  \n",
      "Recovered                              NaN          0.512       0.477          0.636       0.288  \n",
      "Active                                 NaN          0.431       0.461          0.220       0.558  \n",
      "FIPS                                   NaN         -0.461      -0.473         -0.231      -0.352  \n",
      "Incident_Rate                          NaN          0.688       0.663          0.581       0.643  \n",
      "People_Tested                          NaN          0.533       0.617          0.546       0.550  \n",
      "People_Hospitalized                    NaN            NaN         NaN            NaN         NaN  \n",
      "Mortality_Rate                         NaN          0.202       0.443          0.125       0.165  \n",
      "UID                                    NaN          0.556       0.510          0.564       0.502  \n",
      "Testing_Rate                           NaN          0.168       0.183         -0.003       0.129  \n",
      "Hospitalization_Rate                   NaN            NaN         NaN            NaN         NaN  \n",
      "Log Confirmed                          NaN          1.000       0.950          0.862       0.925  \n",
      "Log Deaths                             NaN          0.950       1.000          0.794       0.891  \n",
      "Log Recovered                          NaN          0.862       0.794          1.000       0.572  \n",
      "Log Active                             NaN          0.925       0.891          0.572       1.000  \n"
     ]
    }
   ],
   "source": [
    "pandas.set_option('display.width', 100)\n",
    "pandas.set_option('precision', 3)\n",
    "correlations = data_US.corr(method='pearson')\n",
    "print(correlations)"
   ]
  },
  {
   "cell_type": "code",
   "execution_count": 34,
   "metadata": {},
   "outputs": [
    {
     "name": "stdout",
     "output_type": "stream",
     "text": [
      "Lat                    -2.213\n",
      "Long_                   3.509\n",
      "Confirmed               2.727\n",
      "Deaths                  3.298\n",
      "Recovered               4.528\n",
      "Active                  3.612\n",
      "FIPS                    5.269\n",
      "Incident_Rate          -0.029\n",
      "People_Tested           3.223\n",
      "People_Hospitalized       NaN\n",
      "Mortality_Rate          1.546\n",
      "UID                    -3.027\n",
      "Testing_Rate            1.427\n",
      "Hospitalization_Rate      NaN\n",
      "Log Confirmed          -1.995\n",
      "Log Deaths             -1.083\n",
      "Log Recovered          -0.843\n",
      "Log Active             -1.116\n",
      "dtype: float64\n"
     ]
    }
   ],
   "source": [
    "skew = data_US.skew()\n",
    "print(skew)"
   ]
  },
  {
   "cell_type": "code",
   "execution_count": 63,
   "metadata": {},
   "outputs": [
    {
     "data": {
      "image/png": "[encoded data removed]",
      "text/plain": [
       "<Figure size 432x288 with 4 Axes>"
      ]
     },
     "metadata": {
      "needs_background": "light"
     },
     "output_type": "display_data"
    }
   ],
   "source": [
    "import matplotlib.pyplot as plt\n",
    "\n",
    "fig5, axs = plt.subplots(2, 2, sharex=\"col\", sharey=\"row\",\n",
    "                         gridspec_kw=dict(height_ratios=[1, 3],\n",
    "                                          width_ratios=[3, 1]))\n",
    "axs[0, 0].set_visible(False)\n",
    "axs[0, 1].set_visible(False)\n",
    "\n",
    "axs[1,0].scatter(data_US['id'],data_US['Confirmed'])\n",
    "axs[1,0].set_xlabel('State_id', fontsize=15)\n",
    "axs[1,0].set_ylabel('Confirmed Cases', fontsize=15)\n",
    "\n",
    "axs[1, 1].hist(data_US['Confirmed'], orientation=\"horizontal\")\n",
    "\n",
    "plt.show()"
   ]
  },
  {
   "cell_type": "code",
   "execution_count": 35,
   "metadata": {},
   "outputs": [
    {
     "name": "stdout",
     "output_type": "stream",
     "text": [
      "    FIPS Admin2                Province_State       Country_Region          Last_Update     Lat  \\\n",
      "0    NaN    NaN                           NaN          Afghanistan  2020-09-13 04:30:52  33.939   \n",
      "1    NaN    NaN                           NaN              Albania  2020-09-13 04:30:52  41.153   \n",
      "2    NaN    NaN                           NaN              Algeria  2020-09-13 04:30:52  28.034   \n",
      "3    NaN    NaN                           NaN              Andorra  2020-09-13 04:30:52  42.506   \n",
      "4    NaN    NaN                           NaN               Angola  2020-09-13 04:30:52 -11.203   \n",
      "5    NaN    NaN                           NaN  Antigua and Barbuda  2020-09-13 04:30:52  17.061   \n",
      "6    NaN    NaN                           NaN            Argentina  2020-09-13 04:30:52 -38.416   \n",
      "7    NaN    NaN                           NaN              Armenia  2020-09-13 04:30:52  40.069   \n",
      "8    NaN    NaN  Australian Capital Territory            Australia  2020-09-13 04:30:52 -35.474   \n",
      "9    NaN    NaN               New South Wales            Australia  2020-09-13 04:30:52 -33.869   \n",
      "10   NaN    NaN            Northern Territory            Australia  2020-09-13 04:30:52 -12.463   \n",
      "11   NaN    NaN                    Queensland            Australia  2020-09-13 04:30:52 -27.470   \n",
      "12   NaN    NaN               South Australia            Australia  2020-09-13 04:30:52 -34.928   \n",
      "13   NaN    NaN                      Tasmania            Australia  2020-09-13 04:30:52 -42.882   \n",
      "14   NaN    NaN                      Victoria            Australia  2020-09-13 04:30:52 -37.814   \n",
      "15   NaN    NaN             Western Australia            Australia  2020-09-13 04:30:52 -31.951   \n",
      "16   NaN    NaN                           NaN              Austria  2020-09-13 04:30:52  47.516   \n",
      "17   NaN    NaN                           NaN           Azerbaijan  2020-09-13 04:30:52  40.143   \n",
      "18   NaN    NaN                           NaN              Bahamas  2020-09-13 04:30:52  25.026   \n",
      "19   NaN    NaN                           NaN              Bahrain  2020-09-13 04:30:52  26.027   \n",
      "\n",
      "      Long_  Confirmed  Deaths  Recovered    Active                             Combined_Key  \\\n",
      "0    67.710      38641    1420      31234    5987.0                              Afghanistan   \n",
      "1    20.168      11185     330       6494    4361.0                                  Albania   \n",
      "2     1.660      48007    1605      33875   12527.0                                  Algeria   \n",
      "3     1.522       1344      53        943     348.0                                  Andorra   \n",
      "4    17.874       3335     132       1289    1914.0                                   Angola   \n",
      "5   -61.796         95       3         91       1.0                      Antigua and Barbuda   \n",
      "6   -63.617     546481   11263     409771  125447.0                                Argentina   \n",
      "7    45.038      45675     911      41605    3159.0                                  Armenia   \n",
      "8   149.012        113       3        110       0.0  Australian Capital Territory, Australia   \n",
      "9   151.209       4166      52       2994    1120.0               New South Wales, Australia   \n",
      "10  130.846         33       0         31       2.0            Northern Territory, Australia   \n",
      "11  153.025       1149       6       1107      36.0                    Queensland, Australia   \n",
      "12  138.601        466       4        462       0.0               South Australia, Australia   \n",
      "13  147.327        230      13        217       0.0                      Tasmania, Australia   \n",
      "14  144.963      19835     723      17771    1341.0                      Victoria, Australia   \n",
      "15  115.861        659       9        646       4.0             Western Australia, Australia   \n",
      "16   14.550      32696     754      26579    5363.0                                  Austria   \n",
      "17   47.577      38172     559      35607    2006.0                               Azerbaijan   \n",
      "18  -78.036       2928      67       1319    1542.0                                  Bahamas   \n",
      "19   50.550      59586     211      53192    6183.0                                  Bahrain   \n",
      "\n",
      "    Incidence_Rate  Case-Fatality_Ratio  Log Confirmed  Log Deaths  Log Recovered  Log Active  \n",
      "0           99.262                3.675         10.562       7.259         10.349       8.698  \n",
      "1          388.665                2.950          9.322       5.802          8.779       8.381  \n",
      "2          109.477                3.343         10.779       7.382         10.430       9.436  \n",
      "3         1739.468                3.943          7.204       3.989          6.850       5.855  \n",
      "4           10.147                3.958          8.113       4.890          7.162       7.557  \n",
      "5           97.010                3.158          4.564       1.386          4.522       0.693  \n",
      "6         1209.142                2.061         13.211       9.329         12.923      11.740  \n",
      "7         1541.390                1.995         10.729       6.816         10.636       8.058  \n",
      "8           26.396                2.655          4.736       1.386          4.710       0.000  \n",
      "9           51.318                1.248          8.335       3.970          8.005       7.022  \n",
      "10          13.436                0.000          3.526       0.000          3.466       1.099  \n",
      "11          22.461                0.522          7.048       1.946          7.010       3.611  \n",
      "12          26.530                0.858          6.146       1.609          6.138       0.000  \n",
      "13          42.951                5.652          5.442       2.639          5.384       0.000  \n",
      "14         299.175                3.645          9.895       6.585          9.785       7.202  \n",
      "15          25.051                1.366          6.492       2.303          6.472       1.609  \n",
      "16         363.031                2.306         10.395       6.627         10.188       8.587  \n",
      "17         376.480                1.464         10.550       6.328         10.480       7.604  \n",
      "18         744.568                2.288          7.982       4.220          7.185       7.341  \n",
      "19        3501.798                0.354         10.995       5.357         10.882       8.730  \n"
     ]
    }
   ],
   "source": [
    "#Sep 12 20 - Global Data\n",
    "url = \"https://raw.githubusercontent.com/CSSEGISandData/COVID-19/master/csse_covid_19_data/csse_covid_19_daily_reports/09-12-2020.csv\"\n",
    "data = pandas.read_csv(url)\n",
    "\n",
    "data['Log Confirmed'] = data['Confirmed'].apply(lambda x: take_log(x))\n",
    "data['Log Deaths'] = data['Deaths'].apply(lambda x: take_log(x))\n",
    "data['Log Recovered'] = data['Recovered'].apply(lambda x: take_log(x))\n",
    "data['Log Active'] = data['Active'].apply(lambda x: take_log(x))\n",
    "data['id'] = range(0,len(data))\n",
    "\n",
    "\n",
    "peek = data.head(20)\n",
    "print(peek)"
   ]
  },
  {
   "cell_type": "code",
   "execution_count": 36,
   "metadata": {},
   "outputs": [
    {
     "name": "stdout",
     "output_type": "stream",
     "text": [
      "(3954, 18)\n"
     ]
    }
   ],
   "source": [
    "shape = data.shape\n",
    "#Rows, Columns\n",
    "print(shape)"
   ]
  },
  {
   "cell_type": "code",
   "execution_count": 37,
   "metadata": {},
   "outputs": [
    {
     "name": "stdout",
     "output_type": "stream",
     "text": [
      "FIPS                   float64\n",
      "Admin2                  object\n",
      "Province_State          object\n",
      "Country_Region          object\n",
      "Last_Update             object\n",
      "Lat                    float64\n",
      "Long_                  float64\n",
      "Confirmed                int64\n",
      "Deaths                   int64\n",
      "Recovered                int64\n",
      "Active                 float64\n",
      "Combined_Key            object\n",
      "Incidence_Rate         float64\n",
      "Case-Fatality_Ratio    float64\n",
      "Log Confirmed          float64\n",
      "Log Deaths             float64\n",
      "Log Recovered          float64\n",
      "Log Active             float64\n",
      "dtype: object\n"
     ]
    }
   ],
   "source": [
    "types = data.dtypes\n",
    "#Objects are Strings\n",
    "print(types)"
   ]
  },
  {
   "cell_type": "code",
   "execution_count": 38,
   "metadata": {},
   "outputs": [
    {
     "name": "stdout",
     "output_type": "stream",
     "text": [
      "            FIPS       Lat     Long_  Confirmed     Deaths  Recovered     Active  Incidence_Rate  \\\n",
      "count   3259.000  3874.000  3874.000  3.954e+03   3954.000  3.954e+03  3.951e+03        3874.000   \n",
      "mean   32394.592    35.988   -72.337  7.273e+03    232.734  4.916e+03  2.126e+03        1430.661   \n",
      "std    17963.962    12.873    53.019  3.881e+04   1426.498  4.972e+04  4.192e+04        1316.908   \n",
      "min       66.000   -52.368  -174.160  0.000e+00      0.000  0.000e+00 -2.435e+06           0.000   \n",
      "25%    19054.000    33.270   -96.611  1.260e+02      1.000  0.000e+00  1.020e+02         551.799   \n",
      "50%    30069.000    37.938   -86.878  4.650e+02      8.000  0.000e+00  3.910e+02        1085.779   \n",
      "75%    47038.000    42.159   -77.639  1.965e+03     44.000  0.000e+00  1.344e+03        1921.998   \n",
      "max    99999.000    71.707   178.065  1.038e+06  36959.000  2.435e+06  3.203e+05       14522.784   \n",
      "\n",
      "       Case-Fatality_Ratio  Log Confirmed  Log Deaths  Log Recovered  Log Active  \n",
      "count             3905.000       3954.000    3954.000       3954.000   3.951e+03  \n",
      "mean                 2.360          6.242       2.518          1.273  -7.520e+02  \n",
      "std                  3.482          2.254       2.133          3.110   3.974e+04  \n",
      "min                  0.000          0.000       0.000          0.000  -2.435e+06  \n",
      "25%                  0.626          4.844       0.693          0.000   4.635e+00  \n",
      "50%                  1.620          6.144       2.197          0.000   5.971e+00  \n",
      "75%                  3.017          7.584       3.807          0.000   7.204e+00  \n",
      "max                103.682         13.853      10.518         14.705   1.268e+01  \n"
     ]
    }
   ],
   "source": [
    "pandas.set_option('display.width', 100)\n",
    "pandas.set_option('precision', 3)\n",
    "description = data.describe()\n",
    "print(description)"
   ]
  },
  {
   "cell_type": "code",
   "execution_count": 39,
   "metadata": {},
   "outputs": [
    {
     "name": "stdout",
     "output_type": "stream",
     "text": [
      "FIPS                    0.571\n",
      "Lat                    -2.547\n",
      "Long_                   2.472\n",
      "Confirmed              13.665\n",
      "Deaths                 15.483\n",
      "Recovered              32.999\n",
      "Active                -49.920\n",
      "Incidence_Rate          2.611\n",
      "Case-Fatality_Ratio    12.371\n",
      "Log Confirmed           0.101\n",
      "Log Deaths              0.820\n",
      "Log Recovered           2.223\n",
      "Log Active            -58.893\n",
      "dtype: float64\n"
     ]
    }
   ],
   "source": [
    "skew = data.skew()\n",
    "print(skew)"
   ]
  },
  {
   "cell_type": "code",
   "execution_count": 40,
   "metadata": {},
   "outputs": [
    {
     "name": "stdout",
     "output_type": "stream",
     "text": [
      "                      FIPS    Lat  Long_  Confirmed  Deaths  Recovered  Active  Incidence_Rate  \\\n",
      "FIPS                 1.000 -0.144  0.192     -0.072  -0.042        NaN  -0.073          -0.175   \n",
      "Lat                 -0.144  1.000 -0.150     -0.255  -0.181     -0.264  -0.129          -0.110   \n",
      "Long_                0.192 -0.150  1.000      0.213   0.144      0.224   0.099          -0.257   \n",
      "Confirmed           -0.072 -0.255  0.213      1.000   0.816      0.568   0.224           0.008   \n",
      "Deaths              -0.042 -0.181  0.144      0.816   1.000      0.415   0.229          -0.004   \n",
      "Recovered              NaN -0.264  0.224      0.568   0.415      1.000  -0.674          -0.024   \n",
      "Active              -0.073 -0.129  0.099      0.224   0.229     -0.674   1.000           0.079   \n",
      "Incidence_Rate      -0.175 -0.110 -0.257      0.008  -0.004     -0.024   0.079           1.000   \n",
      "Case-Fatality_Ratio  0.030 -0.030  0.033      0.045   0.156      0.022   0.066           0.030   \n",
      "Log Confirmed       -0.177 -0.280  0.345      0.416   0.361      0.166   0.176           0.268   \n",
      "Log Deaths          -0.177 -0.249  0.296      0.438   0.426      0.199   0.156           0.216   \n",
      "Log Recovered          NaN -0.327  0.707      0.432   0.349      0.344  -0.020          -0.226   \n",
      "Log Active          -0.134 -0.159  0.044      0.004   0.003     -0.797   0.949           0.389   \n",
      "\n",
      "                     Case-Fatality_Ratio  Log Confirmed  Log Deaths  Log Recovered  Log Active  \n",
      "FIPS                               0.030         -0.177      -0.177            NaN      -0.134  \n",
      "Lat                               -0.030         -0.280      -0.249         -0.327      -0.159  \n",
      "Long_                              0.033          0.345       0.296          0.707       0.044  \n",
      "Confirmed                          0.045          0.416       0.438          0.432       0.004  \n",
      "Deaths                             0.156          0.361       0.426          0.349       0.003  \n",
      "Recovered                          0.022          0.166       0.199          0.344      -0.797  \n",
      "Active                             0.066          0.176       0.156         -0.020       0.949  \n",
      "Incidence_Rate                     0.030          0.268       0.216         -0.226       0.389  \n",
      "Case-Fatality_Ratio                1.000          0.165       0.397          0.078       0.037  \n",
      "Log Confirmed                      0.165          1.000       0.890          0.516       0.053  \n",
      "Log Deaths                         0.397          0.890       1.000          0.520       0.023  \n",
      "Log Recovered                      0.078          0.516       0.520          1.000      -0.081  \n",
      "Log Active                         0.037          0.053       0.023         -0.081       1.000  \n"
     ]
    }
   ],
   "source": [
    "pandas.set_option('display.width', 100)\n",
    "pandas.set_option('precision', 3)\n",
    "correlations = data.corr(method='pearson')\n",
    "print(correlations)"
   ]
  },
  {
   "cell_type": "code",
   "execution_count": 62,
   "metadata": {},
   "outputs": [
    {
     "data": {
      "image/png": "[encoded data removed]",
      "text/plain": [
       "<Figure size 432x288 with 4 Axes>"
      ]
     },
     "metadata": {
      "needs_background": "light"
     },
     "output_type": "display_data"
    }
   ],
   "source": [
    "import matplotlib.pyplot as plt\n",
    "\n",
    "fig5, axs = plt.subplots(2, 2, sharex=\"col\", sharey=\"row\",\n",
    "                         gridspec_kw=dict(height_ratios=[1, 3],\n",
    "                                          width_ratios=[3, 1]))\n",
    "axs[0, 0].set_visible(False)\n",
    "axs[0, 1].set_visible(False)\n",
    "\n",
    "axs[1,0].scatter(data['id'],data['Confirmed'])\n",
    "axs[1,0].set_xlabel('Country_id', fontsize=15)\n",
    "axs[1,0].set_ylabel('Confirmed Cases', fontsize=15)\n",
    "\n",
    "axs[1, 1].hist(data['Confirmed'], orientation=\"horizontal\")\n",
    "\n",
    "plt.show()"
   ]
  },
  {
   "cell_type": "code",
   "execution_count": null,
   "metadata": {},
   "outputs": [],
   "source": []
  }
 ],
 "metadata": {
  "kernelspec": {
   "display_name": "Python 3",
   "language": "python",
   "name": "python3"
  },
  "language_info": {
   "codemirror_mode": {
    "name": "ipython",
    "version": 3
   },
   "file_extension": ".py",
   "mimetype": "text/x-python",
   "name": "python",
   "nbconvert_exporter": "python",
   "pygments_lexer": "ipython3",
   "version": "3.7.4"
  }
 },
 "nbformat": 4,
 "nbformat_minor": 4
}
