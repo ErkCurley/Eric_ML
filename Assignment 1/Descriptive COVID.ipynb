{
 "cells": [
  {
   "cell_type": "code",
   "execution_count": 6,
   "metadata": {},
   "outputs": [
    {
     "name": "stdout",
     "output_type": "stream",
     "text": [
      "          Province_State Country_Region          Last_Update      Lat  \\\n",
      "0                Alabama             US  2020-09-13 04:32:00  32.3182   \n",
      "1                 Alaska             US  2020-09-13 04:32:00  61.3707   \n",
      "2         American Samoa             US  2020-09-13 04:32:00 -14.2710   \n",
      "3                Arizona             US  2020-09-13 04:32:00  33.7298   \n",
      "4               Arkansas             US  2020-09-13 04:32:00  34.9697   \n",
      "5             California             US  2020-09-13 04:32:00  36.1162   \n",
      "6               Colorado             US  2020-09-13 04:32:00  39.0598   \n",
      "7            Connecticut             US  2020-09-13 04:32:00  41.5978   \n",
      "8               Delaware             US  2020-09-13 04:32:00  39.3185   \n",
      "9       Diamond Princess             US  2020-09-13 04:32:00      NaN   \n",
      "10  District of Columbia             US  2020-09-13 04:32:00  38.8974   \n",
      "11               Florida             US  2020-09-13 04:32:00  27.7663   \n",
      "12               Georgia             US  2020-09-13 04:32:00  33.0406   \n",
      "13        Grand Princess             US  2020-09-13 04:32:00      NaN   \n",
      "14                  Guam             US  2020-09-13 04:32:00  13.4443   \n",
      "15                Hawaii             US  2020-09-13 04:32:00  21.0943   \n",
      "16                 Idaho             US  2020-09-13 04:32:00  44.2405   \n",
      "17              Illinois             US  2020-09-13 04:32:00  40.3495   \n",
      "18               Indiana             US  2020-09-13 04:32:00  39.8494   \n",
      "19                  Iowa             US  2020-09-13 04:32:00  42.0115   \n",
      "\n",
      "       Long_  Confirmed  Deaths  Recovered    Active     FIPS  Incident_Rate  \\\n",
      "0   -86.9023     137646    2350    54223.0   81073.0      1.0    2807.277311   \n",
      "1  -152.4044       6207      44     2377.0    3786.0      2.0     848.478221   \n",
      "2  -170.1320          0       0        NaN       0.0     60.0       0.000000   \n",
      "3  -111.4312     208128    5315    32628.0  170185.0      4.0    2859.405030   \n",
      "4   -92.3731      69710     969    62622.0    6119.0      5.0    2309.957837   \n",
      "5  -119.6816     758933   14327        NaN  744606.0      6.0    1920.755003   \n",
      "6  -105.3111      60876    1988     6139.0   52749.0      8.0    1057.106976   \n",
      "7   -72.7554      54326    4480     9142.0   40704.0      9.0    1523.748299   \n",
      "8   -75.5071      18726     613    10063.0    8050.0     10.0    1923.053224   \n",
      "9        NaN         49       0        NaN      49.0  88888.0            NaN   \n",
      "10  -77.0268      14493     616    11561.0    2316.0     11.0    2053.562952   \n",
      "11  -81.6868     661571   12600        NaN  648971.0     12.0    3080.263996   \n",
      "12  -83.6431     292905    6287        NaN  286618.0     13.0    2758.720266   \n",
      "13       NaN        103       3        NaN     100.0  99999.0            NaN   \n",
      "14  144.7937       1863      23     1118.0     722.0     66.0    1134.391612   \n",
      "15 -157.4983      10588      97     3334.0    7157.0     15.0     747.807711   \n",
      "16 -114.4788      35167     415    18052.0   16700.0     16.0    1967.863508   \n",
      "17  -88.9861     261999    8527        NaN  253472.0     17.0    2067.571819   \n",
      "18  -86.2583     104561    3437    81089.0   20035.0     18.0    1553.143176   \n",
      "19  -93.2105      74205    1218    52953.0   20034.0     19.0    2351.928800   \n",
      "\n",
      "    People_Tested  People_Hospitalized  Mortality_Rate       UID ISO3  \\\n",
      "0       1016369.0                  NaN        1.707278  84000001  USA   \n",
      "1        399629.0                  NaN        0.708877  84000002  USA   \n",
      "2          1571.0                  NaN             NaN        16  ASM   \n",
      "3       1288729.0                  NaN        2.553717  84000004  USA   \n",
      "4        820000.0                  NaN        1.390044  84000005  USA   \n",
      "5      12556967.0                  NaN        1.887782  84000006  USA   \n",
      "6       1097985.0                  NaN        3.265655  84000008  USA   \n",
      "7       1330984.0                  NaN        8.246512  84000009  USA   \n",
      "8        259585.0                  NaN        3.273523  84000010  USA   \n",
      "9             NaN                  NaN        0.000000  84088888  USA   \n",
      "10       327437.0                  NaN        4.250328  84000011  USA   \n",
      "11      4901680.0                  NaN        1.904557  84000012  USA   \n",
      "12      2610171.0                  NaN        2.146430  84000013  USA   \n",
      "13            NaN                  NaN        2.912621  84099999  USA   \n",
      "14        43363.0                  NaN        1.234568       316  GUM   \n",
      "15       250039.0                  NaN        0.916131  84000015  USA   \n",
      "16       275610.0                  NaN        1.180084  84000016  USA   \n",
      "17      4691071.0                  NaN        3.254593  84000017  USA   \n",
      "18      1206980.0                  NaN        3.287076  84000018  USA   \n",
      "19       678890.0                  NaN        1.641399  84000019  USA   \n",
      "\n",
      "    Testing_Rate  Hospitalization_Rate  \n",
      "0   20728.750802                   NaN  \n",
      "1   54628.081663                   NaN  \n",
      "2    2823.457522                   NaN  \n",
      "3   17705.441769                   NaN  \n",
      "4   27172.076119                   NaN  \n",
      "5   31779.955787                   NaN  \n",
      "6   19066.423604                   NaN  \n",
      "7   37331.749169                   NaN  \n",
      "8   26657.896575                   NaN  \n",
      "9            NaN                   NaN  \n",
      "10  46395.673249                   NaN  \n",
      "11  22822.143692                   NaN  \n",
      "12  24583.846758                   NaN  \n",
      "13           NaN                   NaN  \n",
      "14  26403.984680                   NaN  \n",
      "15  17659.717828                   NaN  \n",
      "16  15422.494425                   NaN  \n",
      "17  37019.706955                   NaN  \n",
      "18  17928.412608                   NaN  \n",
      "19  21517.430675                   NaN  \n"
     ]
    }
   ],
   "source": [
    "import pandas\n",
    "#Sep 12 2020 - US Data\n",
    "url = \"https://raw.githubusercontent.com/CSSEGISandData/COVID-19/master/csse_covid_19_data/csse_covid_19_daily_reports_us/09-12-2020.csv\"\n",
    "data = pandas.read_csv(url)\n",
    "peek = data.head(20)\n",
    "print(peek)"
   ]
  },
  {
   "cell_type": "code",
   "execution_count": 7,
   "metadata": {},
   "outputs": [
    {
     "name": "stdout",
     "output_type": "stream",
     "text": [
      "(58, 18)\n"
     ]
    }
   ],
   "source": [
    "shape = data.shape\n",
    "#Rows, Columns\n",
    "print(shape)"
   ]
  },
  {
   "cell_type": "code",
   "execution_count": 8,
   "metadata": {},
   "outputs": [
    {
     "name": "stdout",
     "output_type": "stream",
     "text": [
      "Province_State           object\n",
      "Country_Region           object\n",
      "Last_Update              object\n",
      "Lat                     float64\n",
      "Long_                   float64\n",
      "Confirmed                 int64\n",
      "Deaths                    int64\n",
      "Recovered               float64\n",
      "Active                  float64\n",
      "FIPS                    float64\n",
      "Incident_Rate           float64\n",
      "People_Tested           float64\n",
      "People_Hospitalized     float64\n",
      "Mortality_Rate          float64\n",
      "UID                       int64\n",
      "ISO3                     object\n",
      "Testing_Rate            float64\n",
      "Hospitalization_Rate    float64\n",
      "dtype: object\n"
     ]
    }
   ],
   "source": [
    "types = data.dtypes\n",
    "#Objects are Strings\n",
    "print(types)"
   ]
  },
  {
   "cell_type": "code",
   "execution_count": 9,
   "metadata": {},
   "outputs": [
    {
     "name": "stdout",
     "output_type": "stream",
     "text": [
      "          Lat    Long_   Confirmed     Deaths   Recovered      Active       FIPS  Incident_Rate  \\\n",
      "count  56.000   56.000      58.000     58.000      48.000      58.000     58.000         56.000   \n",
      "mean   36.840  -85.207  111814.034   3339.534   50722.042   66497.638   3288.086       1646.757   \n",
      "std    10.887   49.754  162252.055   5567.894   88233.427  139527.828  17408.351        777.758   \n",
      "min   -14.271 -170.132       0.000      0.000      29.000       0.000      1.000          0.000   \n",
      "25%    34.595 -101.166   14657.500    303.250    5931.750    3224.250     18.250       1133.031   \n",
      "50%    39.062  -87.944   64767.500   1140.000   15276.000   15290.000     32.500       1702.667   \n",
      "75%    42.362  -76.971  132145.500   3736.250   74500.250   65568.000     47.750       2174.229   \n",
      "max    61.371  145.674  758933.000  33023.000  568067.000  744606.000  99999.000       3359.452   \n",
      "\n",
      "       People_Tested  People_Hospitalized  Mortality_Rate        UID  Testing_Rate  \\\n",
      "count      5.600e+01                  0.0          57.000  5.800e+01        56.000   \n",
      "mean       1.572e+06                  NaN           2.676  7.676e+07     26133.949   \n",
      "std        2.217e+06                  NaN           1.871  2.378e+07     12064.936   \n",
      "min        1.571e+03                  NaN           0.000  1.600e+01      2823.458   \n",
      "25%        3.392e+05                  NaN           1.390  8.400e+07     18702.527   \n",
      "50%        8.751e+05                  NaN           2.115  8.400e+07     22518.968   \n",
      "75%        1.765e+06                  NaN           3.274  8.400e+07     28165.816   \n",
      "max        1.256e+07                  NaN           8.247  8.410e+07     67634.917   \n",
      "\n",
      "       Hospitalization_Rate  \n",
      "count                   0.0  \n",
      "mean                    NaN  \n",
      "std                     NaN  \n",
      "min                     NaN  \n",
      "25%                     NaN  \n",
      "50%                     NaN  \n",
      "75%                     NaN  \n",
      "max                     NaN  \n"
     ]
    }
   ],
   "source": [
    "pandas.set_option('display.width', 100)\n",
    "pandas.set_option('precision', 3)\n",
    "description = data.describe()\n",
    "print(description)"
   ]
  },
  {
   "cell_type": "code",
   "execution_count": 10,
   "metadata": {},
   "outputs": [
    {
     "name": "stdout",
     "output_type": "stream",
     "text": [
      "                        Lat  Long_  Confirmed  Deaths  Recovered  Active   FIPS  Incident_Rate  \\\n",
      "Lat                   1.000 -0.278     -0.039   0.061     -0.105  -0.045 -0.375          0.107   \n",
      "Long_                -0.278  1.000     -0.093  -0.016     -0.081  -0.081  0.368         -0.126   \n",
      "Confirmed            -0.039 -0.093      1.000   0.765      0.846   0.854 -0.131          0.479   \n",
      "Deaths                0.061 -0.016      0.765   1.000      0.422   0.643 -0.114          0.374   \n",
      "Recovered            -0.105 -0.081      0.846   0.422      1.000   0.157  0.095          0.332   \n",
      "Active               -0.045 -0.081      0.854   0.643      0.157   1.000 -0.091          0.373   \n",
      "FIPS                 -0.375  0.368     -0.131  -0.114      0.095  -0.091  1.000         -0.414   \n",
      "Incident_Rate         0.107 -0.126      0.479   0.374      0.332   0.373 -0.414          1.000   \n",
      "People_Tested         0.067 -0.090      0.890   0.843      0.579   0.820 -0.215          0.329   \n",
      "People_Hospitalized     NaN    NaN        NaN     NaN        NaN     NaN    NaN            NaN   \n",
      "Mortality_Rate        0.147  0.153      0.118   0.541      0.031   0.077 -0.117          0.014   \n",
      "UID                   0.774 -0.527      0.198   0.179      0.148   0.131  0.058          0.373   \n",
      "Testing_Rate          0.384  0.071      0.062   0.248     -0.054   0.070 -0.213          0.254   \n",
      "Hospitalization_Rate    NaN    NaN        NaN     NaN        NaN     NaN    NaN            NaN   \n",
      "\n",
      "                      People_Tested  People_Hospitalized  Mortality_Rate    UID  Testing_Rate  \\\n",
      "Lat                           0.067                  NaN           0.147  0.774         0.384   \n",
      "Long_                        -0.090                  NaN           0.153 -0.527         0.071   \n",
      "Confirmed                     0.890                  NaN           0.118  0.198         0.062   \n",
      "Deaths                        0.843                  NaN           0.541  0.179         0.248   \n",
      "Recovered                     0.579                  NaN           0.031  0.148        -0.054   \n",
      "Active                        0.820                  NaN           0.077  0.131         0.070   \n",
      "FIPS                         -0.215                  NaN          -0.117  0.058        -0.213   \n",
      "Incident_Rate                 0.329                  NaN           0.014  0.373         0.254   \n",
      "People_Tested                 1.000                  NaN           0.275  0.212         0.228   \n",
      "People_Hospitalized             NaN                  NaN             NaN    NaN           NaN   \n",
      "Mortality_Rate                0.275                  NaN           1.000  0.116         0.332   \n",
      "UID                           0.212                  NaN           0.116  1.000         0.245   \n",
      "Testing_Rate                  0.228                  NaN           0.332  0.245         1.000   \n",
      "Hospitalization_Rate            NaN                  NaN             NaN    NaN           NaN   \n",
      "\n",
      "                      Hospitalization_Rate  \n",
      "Lat                                    NaN  \n",
      "Long_                                  NaN  \n",
      "Confirmed                              NaN  \n",
      "Deaths                                 NaN  \n",
      "Recovered                              NaN  \n",
      "Active                                 NaN  \n",
      "FIPS                                   NaN  \n",
      "Incident_Rate                          NaN  \n",
      "People_Tested                          NaN  \n",
      "People_Hospitalized                    NaN  \n",
      "Mortality_Rate                         NaN  \n",
      "UID                                    NaN  \n",
      "Testing_Rate                           NaN  \n",
      "Hospitalization_Rate                   NaN  \n"
     ]
    }
   ],
   "source": [
    "pandas.set_option('display.width', 100)\n",
    "pandas.set_option('precision', 3)\n",
    "correlations = data.corr(method='pearson')\n",
    "print(correlations)"
   ]
  },
  {
   "cell_type": "code",
   "execution_count": 11,
   "metadata": {},
   "outputs": [
    {
     "name": "stdout",
     "output_type": "stream",
     "text": [
      "Lat                    -2.213\n",
      "Long_                   3.509\n",
      "Confirmed               2.727\n",
      "Deaths                  3.298\n",
      "Recovered               4.528\n",
      "Active                  3.612\n",
      "FIPS                    5.269\n",
      "Incident_Rate          -0.029\n",
      "People_Tested           3.223\n",
      "People_Hospitalized       NaN\n",
      "Mortality_Rate          1.546\n",
      "UID                    -3.027\n",
      "Testing_Rate            1.427\n",
      "Hospitalization_Rate      NaN\n",
      "dtype: float64\n"
     ]
    }
   ],
   "source": [
    "skew = data.skew()\n",
    "print(skew)"
   ]
  },
  {
   "cell_type": "code",
   "execution_count": 14,
   "metadata": {},
   "outputs": [
    {
     "name": "stdout",
     "output_type": "stream",
     "text": [
      "    FIPS Admin2                Province_State       Country_Region          Last_Update     Lat  \\\n",
      "0    NaN    NaN                           NaN          Afghanistan  2020-09-13 04:30:52  33.939   \n",
      "1    NaN    NaN                           NaN              Albania  2020-09-13 04:30:52  41.153   \n",
      "2    NaN    NaN                           NaN              Algeria  2020-09-13 04:30:52  28.034   \n",
      "3    NaN    NaN                           NaN              Andorra  2020-09-13 04:30:52  42.506   \n",
      "4    NaN    NaN                           NaN               Angola  2020-09-13 04:30:52 -11.203   \n",
      "5    NaN    NaN                           NaN  Antigua and Barbuda  2020-09-13 04:30:52  17.061   \n",
      "6    NaN    NaN                           NaN            Argentina  2020-09-13 04:30:52 -38.416   \n",
      "7    NaN    NaN                           NaN              Armenia  2020-09-13 04:30:52  40.069   \n",
      "8    NaN    NaN  Australian Capital Territory            Australia  2020-09-13 04:30:52 -35.474   \n",
      "9    NaN    NaN               New South Wales            Australia  2020-09-13 04:30:52 -33.869   \n",
      "10   NaN    NaN            Northern Territory            Australia  2020-09-13 04:30:52 -12.463   \n",
      "11   NaN    NaN                    Queensland            Australia  2020-09-13 04:30:52 -27.470   \n",
      "12   NaN    NaN               South Australia            Australia  2020-09-13 04:30:52 -34.928   \n",
      "13   NaN    NaN                      Tasmania            Australia  2020-09-13 04:30:52 -42.882   \n",
      "14   NaN    NaN                      Victoria            Australia  2020-09-13 04:30:52 -37.814   \n",
      "15   NaN    NaN             Western Australia            Australia  2020-09-13 04:30:52 -31.951   \n",
      "16   NaN    NaN                           NaN              Austria  2020-09-13 04:30:52  47.516   \n",
      "17   NaN    NaN                           NaN           Azerbaijan  2020-09-13 04:30:52  40.143   \n",
      "18   NaN    NaN                           NaN              Bahamas  2020-09-13 04:30:52  25.026   \n",
      "19   NaN    NaN                           NaN              Bahrain  2020-09-13 04:30:52  26.027   \n",
      "\n",
      "      Long_  Confirmed  Deaths  Recovered    Active                             Combined_Key  \\\n",
      "0    67.710      38641    1420      31234    5987.0                              Afghanistan   \n",
      "1    20.168      11185     330       6494    4361.0                                  Albania   \n",
      "2     1.660      48007    1605      33875   12527.0                                  Algeria   \n",
      "3     1.522       1344      53        943     348.0                                  Andorra   \n",
      "4    17.874       3335     132       1289    1914.0                                   Angola   \n",
      "5   -61.796         95       3         91       1.0                      Antigua and Barbuda   \n",
      "6   -63.617     546481   11263     409771  125447.0                                Argentina   \n",
      "7    45.038      45675     911      41605    3159.0                                  Armenia   \n",
      "8   149.012        113       3        110       0.0  Australian Capital Territory, Australia   \n",
      "9   151.209       4166      52       2994    1120.0               New South Wales, Australia   \n",
      "10  130.846         33       0         31       2.0            Northern Territory, Australia   \n",
      "11  153.025       1149       6       1107      36.0                    Queensland, Australia   \n",
      "12  138.601        466       4        462       0.0               South Australia, Australia   \n",
      "13  147.327        230      13        217       0.0                      Tasmania, Australia   \n",
      "14  144.963      19835     723      17771    1341.0                      Victoria, Australia   \n",
      "15  115.861        659       9        646       4.0             Western Australia, Australia   \n",
      "16   14.550      32696     754      26579    5363.0                                  Austria   \n",
      "17   47.577      38172     559      35607    2006.0                               Azerbaijan   \n",
      "18  -78.036       2928      67       1319    1542.0                                  Bahamas   \n",
      "19   50.550      59586     211      53192    6183.0                                  Bahrain   \n",
      "\n",
      "    Incidence_Rate  Case-Fatality_Ratio  \n",
      "0           99.262                3.675  \n",
      "1          388.665                2.950  \n",
      "2          109.477                3.343  \n",
      "3         1739.468                3.943  \n",
      "4           10.147                3.958  \n",
      "5           97.010                3.158  \n",
      "6         1209.142                2.061  \n",
      "7         1541.390                1.995  \n",
      "8           26.396                2.655  \n",
      "9           51.318                1.248  \n",
      "10          13.436                0.000  \n",
      "11          22.461                0.522  \n",
      "12          26.530                0.858  \n",
      "13          42.951                5.652  \n",
      "14         299.175                3.645  \n",
      "15          25.051                1.366  \n",
      "16         363.031                2.306  \n",
      "17         376.480                1.464  \n",
      "18         744.568                2.288  \n",
      "19        3501.798                0.354  \n"
     ]
    }
   ],
   "source": [
    "#Sep 12 20 - Global Data\n",
    "url = \"https://raw.githubusercontent.com/CSSEGISandData/COVID-19/master/csse_covid_19_data/csse_covid_19_daily_reports/09-12-2020.csv\"\n",
    "data = pandas.read_csv(url)\n",
    "peek = data.head(20)\n",
    "print(peek)"
   ]
  },
  {
   "cell_type": "code",
   "execution_count": 15,
   "metadata": {},
   "outputs": [
    {
     "name": "stdout",
     "output_type": "stream",
     "text": [
      "(3954, 14)\n"
     ]
    }
   ],
   "source": [
    "shape = data.shape\n",
    "#Rows, Columns\n",
    "print(shape)"
   ]
  },
  {
   "cell_type": "code",
   "execution_count": 16,
   "metadata": {},
   "outputs": [
    {
     "name": "stdout",
     "output_type": "stream",
     "text": [
      "FIPS                   float64\n",
      "Admin2                  object\n",
      "Province_State          object\n",
      "Country_Region          object\n",
      "Last_Update             object\n",
      "Lat                    float64\n",
      "Long_                  float64\n",
      "Confirmed                int64\n",
      "Deaths                   int64\n",
      "Recovered                int64\n",
      "Active                 float64\n",
      "Combined_Key            object\n",
      "Incidence_Rate         float64\n",
      "Case-Fatality_Ratio    float64\n",
      "dtype: object\n"
     ]
    }
   ],
   "source": [
    "types = data.dtypes\n",
    "#Objects are Strings\n",
    "print(types)"
   ]
  },
  {
   "cell_type": "code",
   "execution_count": 17,
   "metadata": {},
   "outputs": [
    {
     "name": "stdout",
     "output_type": "stream",
     "text": [
      "            FIPS       Lat     Long_  Confirmed     Deaths  Recovered     Active  Incidence_Rate  \\\n",
      "count   3259.000  3874.000  3874.000  3.954e+03   3954.000  3.954e+03  3.951e+03        3874.000   \n",
      "mean   32394.592    35.988   -72.337  7.273e+03    232.734  4.916e+03  2.126e+03        1430.661   \n",
      "std    17963.962    12.873    53.019  3.881e+04   1426.498  4.972e+04  4.192e+04        1316.908   \n",
      "min       66.000   -52.368  -174.160  0.000e+00      0.000  0.000e+00 -2.435e+06           0.000   \n",
      "25%    19054.000    33.270   -96.611  1.260e+02      1.000  0.000e+00  1.020e+02         551.799   \n",
      "50%    30069.000    37.938   -86.878  4.650e+02      8.000  0.000e+00  3.910e+02        1085.779   \n",
      "75%    47038.000    42.159   -77.639  1.965e+03     44.000  0.000e+00  1.344e+03        1921.998   \n",
      "max    99999.000    71.707   178.065  1.038e+06  36959.000  2.435e+06  3.203e+05       14522.784   \n",
      "\n",
      "       Case-Fatality_Ratio  \n",
      "count             3905.000  \n",
      "mean                 2.360  \n",
      "std                  3.482  \n",
      "min                  0.000  \n",
      "25%                  0.626  \n",
      "50%                  1.620  \n",
      "75%                  3.017  \n",
      "max                103.682  \n"
     ]
    }
   ],
   "source": [
    "pandas.set_option('display.width', 100)\n",
    "pandas.set_option('precision', 3)\n",
    "description = data.describe()\n",
    "print(description)"
   ]
  },
  {
   "cell_type": "code",
   "execution_count": 18,
   "metadata": {},
   "outputs": [
    {
     "name": "stdout",
     "output_type": "stream",
     "text": [
      "FIPS                    0.571\n",
      "Lat                    -2.547\n",
      "Long_                   2.472\n",
      "Confirmed              13.665\n",
      "Deaths                 15.483\n",
      "Recovered              32.999\n",
      "Active                -49.920\n",
      "Incidence_Rate          2.611\n",
      "Case-Fatality_Ratio    12.371\n",
      "dtype: float64\n"
     ]
    }
   ],
   "source": [
    "skew = data.skew()\n",
    "print(skew)"
   ]
  },
  {
   "cell_type": "code",
   "execution_count": 19,
   "metadata": {},
   "outputs": [
    {
     "name": "stdout",
     "output_type": "stream",
     "text": [
      "                      FIPS    Lat  Long_  Confirmed  Deaths  Recovered  Active  Incidence_Rate  \\\n",
      "FIPS                 1.000 -0.144  0.192     -0.072  -0.042        NaN  -0.073          -0.175   \n",
      "Lat                 -0.144  1.000 -0.150     -0.255  -0.181     -0.264  -0.129          -0.110   \n",
      "Long_                0.192 -0.150  1.000      0.213   0.144      0.224   0.099          -0.257   \n",
      "Confirmed           -0.072 -0.255  0.213      1.000   0.816      0.568   0.224           0.008   \n",
      "Deaths              -0.042 -0.181  0.144      0.816   1.000      0.415   0.229          -0.004   \n",
      "Recovered              NaN -0.264  0.224      0.568   0.415      1.000  -0.674          -0.024   \n",
      "Active              -0.073 -0.129  0.099      0.224   0.229     -0.674   1.000           0.079   \n",
      "Incidence_Rate      -0.175 -0.110 -0.257      0.008  -0.004     -0.024   0.079           1.000   \n",
      "Case-Fatality_Ratio  0.030 -0.030  0.033      0.045   0.156      0.022   0.066           0.030   \n",
      "\n",
      "                     Case-Fatality_Ratio  \n",
      "FIPS                               0.030  \n",
      "Lat                               -0.030  \n",
      "Long_                              0.033  \n",
      "Confirmed                          0.045  \n",
      "Deaths                             0.156  \n",
      "Recovered                          0.022  \n",
      "Active                             0.066  \n",
      "Incidence_Rate                     0.030  \n",
      "Case-Fatality_Ratio                1.000  \n"
     ]
    }
   ],
   "source": [
    "pandas.set_option('display.width', 100)\n",
    "pandas.set_option('precision', 3)\n",
    "correlations = data.corr(method='pearson')\n",
    "print(correlations)"
   ]
  },
  {
   "cell_type": "code",
   "execution_count": null,
   "metadata": {},
   "outputs": [],
   "source": []
  }
 ],
 "metadata": {
  "kernelspec": {
   "display_name": "Python 3",
   "language": "python",
   "name": "python3"
  },
  "language_info": {
   "codemirror_mode": {
    "name": "ipython",
    "version": 3
   },
   "file_extension": ".py",
   "mimetype": "text/x-python",
   "name": "python",
   "nbconvert_exporter": "python",
   "pygments_lexer": "ipython3",
   "version": "3.7.4"
  }
 },
 "nbformat": 4,
 "nbformat_minor": 4
}
