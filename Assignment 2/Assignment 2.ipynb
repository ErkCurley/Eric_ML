{
 "cells": [
  {
   "cell_type": "code",
   "execution_count": 195,
   "metadata": {},
   "outputs": [
    {
     "name": "stdout",
     "output_type": "stream",
     "text": [
      "    ID  Age  Experience  Income  ZIP Code  Family  CCAvg  Education  Mortgage  Personal Loan  \\\n",
      "0    1   25           1      49     91107       4    1.6          1         0              0   \n",
      "1    2   45          19      34     90089       3    1.5          1         0              0   \n",
      "2    3   39          15      11     94720       1    1.0          1         0              0   \n",
      "3    4   35           9     100     94112       1    2.7          2         0              0   \n",
      "4    5   35           8      45     91330       4    1.0          2         0              0   \n",
      "5    6   37          13      29     92121       4    0.4          2       155              0   \n",
      "6    7   53          27      72     91711       2    1.5          2         0              0   \n",
      "7    8   50          24      22     93943       1    0.3          3         0              0   \n",
      "8    9   35          10      81     90089       3    0.6          2       104              0   \n",
      "9   10   34           9     180     93023       1    8.9          3         0              1   \n",
      "10  11   65          39     105     94710       4    2.4          3         0              0   \n",
      "11  12   29           5      45     90277       3    0.1          2         0              0   \n",
      "12  13   48          23     114     93106       2    3.8          3         0              0   \n",
      "13  14   59          32      40     94920       4    2.5          2         0              0   \n",
      "14  15   67          41     112     91741       1    2.0          1         0              0   \n",
      "15  16   60          30      22     95054       1    1.5          3         0              0   \n",
      "16  17   38          14     130     95010       4    4.7          3       134              1   \n",
      "17  18   42          18      81     94305       4    2.4          1         0              0   \n",
      "18  19   46          21     193     91604       2    8.1          3         0              1   \n",
      "19  20   55          28      21     94720       1    0.5          2         0              0   \n",
      "\n",
      "    Securities Account  CD Account  Online  CreditCard  \n",
      "0                    1           0       0           0  \n",
      "1                    1           0       0           0  \n",
      "2                    0           0       0           0  \n",
      "3                    0           0       0           0  \n",
      "4                    0           0       0           1  \n",
      "5                    0           0       1           0  \n",
      "6                    0           0       1           0  \n",
      "7                    0           0       0           1  \n",
      "8                    0           0       1           0  \n",
      "9                    0           0       0           0  \n",
      "10                   0           0       0           0  \n",
      "11                   0           0       1           0  \n",
      "12                   1           0       0           0  \n",
      "13                   0           0       1           0  \n",
      "14                   1           0       0           0  \n",
      "15                   0           0       1           1  \n",
      "16                   0           0       0           0  \n",
      "17                   0           0       0           0  \n",
      "18                   0           0       0           0  \n",
      "19                   1           0       0           1  \n"
     ]
    }
   ],
   "source": [
    "import pandas as pd\n",
    "import numpy as np\n",
    "import matplotlib.pyplot as plt\n",
    "from matplotlib.colors import ListedColormap\n",
    "from sklearn import neighbors, datasets\n",
    "from sklearn.metrics import confusion_matrix\n",
    "\n",
    "\n",
    "from sklearn.neighbors import NearestNeighbors, KNeighborsClassifier\n",
    "from sklearn.model_selection import train_test_split\n",
    "\n",
    "\n",
    "data = pd.read_csv(\"UniversalBank.csv\")\n",
    "\n",
    "print(data.head(20))"
   ]
  },
  {
   "cell_type": "code",
   "execution_count": 62,
   "metadata": {},
   "outputs": [
    {
     "data": {
      "text/plain": [
       "(5000, 14)"
      ]
     },
     "execution_count": 62,
     "metadata": {},
     "output_type": "execute_result"
    }
   ],
   "source": [
    "data.shape"
   ]
  },
  {
   "cell_type": "code",
   "execution_count": 63,
   "metadata": {},
   "outputs": [
    {
     "data": {
      "text/plain": [
       "ID                      int64\n",
       "Age                     int64\n",
       "Experience              int64\n",
       "Income                  int64\n",
       "ZIP Code                int64\n",
       "Family                  int64\n",
       "CCAvg                 float64\n",
       "Education               int64\n",
       "Mortgage                int64\n",
       "Personal Loan           int64\n",
       "Securities Account      int64\n",
       "CD Account              int64\n",
       "Online                  int64\n",
       "CreditCard              int64\n",
       "dtype: object"
      ]
     },
     "execution_count": 63,
     "metadata": {},
     "output_type": "execute_result"
    }
   ],
   "source": [
    "data.dtypes"
   ]
  },
  {
   "cell_type": "code",
   "execution_count": 64,
   "metadata": {},
   "outputs": [
    {
     "data": {
      "text/html": [
       "<div>\n",
       "<style scoped>\n",
       "    .dataframe tbody tr th:only-of-type {\n",
       "        vertical-align: middle;\n",
       "    }\n",
       "\n",
       "    .dataframe tbody tr th {\n",
       "        vertical-align: top;\n",
       "    }\n",
       "\n",
       "    .dataframe thead th {\n",
       "        text-align: right;\n",
       "    }\n",
       "</style>\n",
       "<table border=\"1\" class=\"dataframe\">\n",
       "  <thead>\n",
       "    <tr style=\"text-align: right;\">\n",
       "      <th></th>\n",
       "      <th>ID</th>\n",
       "      <th>Age</th>\n",
       "      <th>Experience</th>\n",
       "      <th>Income</th>\n",
       "      <th>ZIP Code</th>\n",
       "      <th>Family</th>\n",
       "      <th>CCAvg</th>\n",
       "      <th>Education</th>\n",
       "      <th>Mortgage</th>\n",
       "      <th>Personal Loan</th>\n",
       "      <th>Securities Account</th>\n",
       "      <th>CD Account</th>\n",
       "      <th>Online</th>\n",
       "      <th>CreditCard</th>\n",
       "    </tr>\n",
       "  </thead>\n",
       "  <tbody>\n",
       "    <tr>\n",
       "      <td>count</td>\n",
       "      <td>5000.00</td>\n",
       "      <td>5000.000</td>\n",
       "      <td>5000.000</td>\n",
       "      <td>5000.000</td>\n",
       "      <td>5000.000</td>\n",
       "      <td>5000.000</td>\n",
       "      <td>5000.000</td>\n",
       "      <td>5000.000</td>\n",
       "      <td>5000.000</td>\n",
       "      <td>5000.000</td>\n",
       "      <td>5000.000</td>\n",
       "      <td>5000.000</td>\n",
       "      <td>5000.000</td>\n",
       "      <td>5000.000</td>\n",
       "    </tr>\n",
       "    <tr>\n",
       "      <td>mean</td>\n",
       "      <td>2500.50</td>\n",
       "      <td>45.338</td>\n",
       "      <td>20.105</td>\n",
       "      <td>73.774</td>\n",
       "      <td>93152.503</td>\n",
       "      <td>2.396</td>\n",
       "      <td>1.938</td>\n",
       "      <td>1.881</td>\n",
       "      <td>56.499</td>\n",
       "      <td>0.096</td>\n",
       "      <td>0.104</td>\n",
       "      <td>0.060</td>\n",
       "      <td>0.597</td>\n",
       "      <td>0.294</td>\n",
       "    </tr>\n",
       "    <tr>\n",
       "      <td>std</td>\n",
       "      <td>1443.52</td>\n",
       "      <td>11.463</td>\n",
       "      <td>11.468</td>\n",
       "      <td>46.034</td>\n",
       "      <td>2121.852</td>\n",
       "      <td>1.148</td>\n",
       "      <td>1.748</td>\n",
       "      <td>0.840</td>\n",
       "      <td>101.714</td>\n",
       "      <td>0.295</td>\n",
       "      <td>0.306</td>\n",
       "      <td>0.238</td>\n",
       "      <td>0.491</td>\n",
       "      <td>0.456</td>\n",
       "    </tr>\n",
       "    <tr>\n",
       "      <td>min</td>\n",
       "      <td>1.00</td>\n",
       "      <td>23.000</td>\n",
       "      <td>-3.000</td>\n",
       "      <td>8.000</td>\n",
       "      <td>9307.000</td>\n",
       "      <td>1.000</td>\n",
       "      <td>0.000</td>\n",
       "      <td>1.000</td>\n",
       "      <td>0.000</td>\n",
       "      <td>0.000</td>\n",
       "      <td>0.000</td>\n",
       "      <td>0.000</td>\n",
       "      <td>0.000</td>\n",
       "      <td>0.000</td>\n",
       "    </tr>\n",
       "    <tr>\n",
       "      <td>25%</td>\n",
       "      <td>1250.75</td>\n",
       "      <td>35.000</td>\n",
       "      <td>10.000</td>\n",
       "      <td>39.000</td>\n",
       "      <td>91911.000</td>\n",
       "      <td>1.000</td>\n",
       "      <td>0.700</td>\n",
       "      <td>1.000</td>\n",
       "      <td>0.000</td>\n",
       "      <td>0.000</td>\n",
       "      <td>0.000</td>\n",
       "      <td>0.000</td>\n",
       "      <td>0.000</td>\n",
       "      <td>0.000</td>\n",
       "    </tr>\n",
       "    <tr>\n",
       "      <td>50%</td>\n",
       "      <td>2500.50</td>\n",
       "      <td>45.000</td>\n",
       "      <td>20.000</td>\n",
       "      <td>64.000</td>\n",
       "      <td>93437.000</td>\n",
       "      <td>2.000</td>\n",
       "      <td>1.500</td>\n",
       "      <td>2.000</td>\n",
       "      <td>0.000</td>\n",
       "      <td>0.000</td>\n",
       "      <td>0.000</td>\n",
       "      <td>0.000</td>\n",
       "      <td>1.000</td>\n",
       "      <td>0.000</td>\n",
       "    </tr>\n",
       "    <tr>\n",
       "      <td>75%</td>\n",
       "      <td>3750.25</td>\n",
       "      <td>55.000</td>\n",
       "      <td>30.000</td>\n",
       "      <td>98.000</td>\n",
       "      <td>94608.000</td>\n",
       "      <td>3.000</td>\n",
       "      <td>2.500</td>\n",
       "      <td>3.000</td>\n",
       "      <td>101.000</td>\n",
       "      <td>0.000</td>\n",
       "      <td>0.000</td>\n",
       "      <td>0.000</td>\n",
       "      <td>1.000</td>\n",
       "      <td>1.000</td>\n",
       "    </tr>\n",
       "    <tr>\n",
       "      <td>max</td>\n",
       "      <td>5000.00</td>\n",
       "      <td>67.000</td>\n",
       "      <td>43.000</td>\n",
       "      <td>224.000</td>\n",
       "      <td>96651.000</td>\n",
       "      <td>4.000</td>\n",
       "      <td>10.000</td>\n",
       "      <td>3.000</td>\n",
       "      <td>635.000</td>\n",
       "      <td>1.000</td>\n",
       "      <td>1.000</td>\n",
       "      <td>1.000</td>\n",
       "      <td>1.000</td>\n",
       "      <td>1.000</td>\n",
       "    </tr>\n",
       "  </tbody>\n",
       "</table>\n",
       "</div>"
      ],
      "text/plain": [
       "            ID       Age  Experience    Income   ZIP Code    Family     CCAvg  Education  \\\n",
       "count  5000.00  5000.000    5000.000  5000.000   5000.000  5000.000  5000.000   5000.000   \n",
       "mean   2500.50    45.338      20.105    73.774  93152.503     2.396     1.938      1.881   \n",
       "std    1443.52    11.463      11.468    46.034   2121.852     1.148     1.748      0.840   \n",
       "min       1.00    23.000      -3.000     8.000   9307.000     1.000     0.000      1.000   \n",
       "25%    1250.75    35.000      10.000    39.000  91911.000     1.000     0.700      1.000   \n",
       "50%    2500.50    45.000      20.000    64.000  93437.000     2.000     1.500      2.000   \n",
       "75%    3750.25    55.000      30.000    98.000  94608.000     3.000     2.500      3.000   \n",
       "max    5000.00    67.000      43.000   224.000  96651.000     4.000    10.000      3.000   \n",
       "\n",
       "       Mortgage  Personal Loan  Securities Account  CD Account    Online  CreditCard  \n",
       "count  5000.000       5000.000            5000.000    5000.000  5000.000    5000.000  \n",
       "mean     56.499          0.096               0.104       0.060     0.597       0.294  \n",
       "std     101.714          0.295               0.306       0.238     0.491       0.456  \n",
       "min       0.000          0.000               0.000       0.000     0.000       0.000  \n",
       "25%       0.000          0.000               0.000       0.000     0.000       0.000  \n",
       "50%       0.000          0.000               0.000       0.000     1.000       0.000  \n",
       "75%     101.000          0.000               0.000       0.000     1.000       1.000  \n",
       "max     635.000          1.000               1.000       1.000     1.000       1.000  "
      ]
     },
     "execution_count": 64,
     "metadata": {},
     "output_type": "execute_result"
    }
   ],
   "source": [
    "pd.set_option('display.width', 100)\n",
    "pd.set_option('precision', 3)\n",
    "data.describe()"
   ]
  },
  {
   "cell_type": "code",
   "execution_count": 141,
   "metadata": {},
   "outputs": [],
   "source": [
    "data_dummies = pd.get_dummies(data,['Edu'],'_',False,['Education'])\n",
    "data_dummies.set_index('ID', inplace = True)"
   ]
  },
  {
   "cell_type": "code",
   "execution_count": 158,
   "metadata": {},
   "outputs": [],
   "source": [
    "train, test = train_test_split(data_dummies, test_size=0.4, random_state=42, shuffle=True)\n",
    "\n",
    "\n",
    "train_y = train.filter(items=['Personal Loan'])\n",
    "train_x = train.drop(['Personal Loan','ZIP Code'], axis=1)\n",
    "\n",
    "test_y = test.filter(items=['Personal Loan'])\n",
    "test_x = test.drop(['Personal Loan','ZIP Code'], axis=1)"
   ]
  },
  {
   "cell_type": "code",
   "execution_count": 143,
   "metadata": {},
   "outputs": [
    {
     "name": "stdout",
     "output_type": "stream",
     "text": [
      "(3000, 13)\n",
      "(1, 13)\n",
      "      Age  Experience  Income  Family  CCAvg  Mortgage  Securities Account  CD Account  Online  \\\n",
      "ID                                                                                               \n",
      "4577   55          30      41       2   0.60         0                   0           0       1   \n",
      "1089   59          35      95       1   3.80         0                   0           0       1   \n",
      "480    60          36     132       2   6.00       470                   0           0       1   \n",
      "728    62          37      18       3   1.30         0                   0           0       1   \n",
      "3784   60          34      51       3   1.40         0                   0           0       0   \n",
      "977    54          30      24       4   0.20         0                   1           0       0   \n",
      "3785   30           6     115       4   3.80         0                   0           0       1   \n",
      "2978   35          10     161       1   4.10         0                   1           0       1   \n",
      "1929   58          34      35       1   1.20         0                   0           0       1   \n",
      "1469   45          18      78       3   2.67         0                   0           0       1   \n",
      "1225   59          35      45       1   1.80         0                   0           0       1   \n",
      "2857   36          10     172       4   1.00       295                   0           0       1   \n",
      "1953   30           5      78       1   2.60         0                   0           0       1   \n",
      "4831   37          12      60       4   2.10       217                   0           0       1   \n",
      "4501   50          26      24       4   0.50         0                   0           0       0   \n",
      "1893   55          30      55       3   1.70         0                   0           0       0   \n",
      "1300   50          25      14       2   0.70         0                   1           0       1   \n",
      "2991   49          25     163       2   0.40         0                   1           0       0   \n",
      "4600   49          25     149       2   0.40         0                   0           0       1   \n",
      "661    39          14     165       2   3.30         0                   0           0       1   \n",
      "\n",
      "      CreditCard  Edu_1  Edu_2  Edu_3  \n",
      "ID                                     \n",
      "4577           1      0      0      1  \n",
      "1089           1      1      0      0  \n",
      "480            1      1      0      0  \n",
      "728            0      0      1      0  \n",
      "3784           0      0      0      1  \n",
      "977            0      1      0      0  \n",
      "3785           0      0      1      0  \n",
      "2978           0      1      0      0  \n",
      "1929           0      0      0      1  \n",
      "1469           0      0      1      0  \n",
      "1225           0      0      0      1  \n",
      "2857           0      0      1      0  \n",
      "1953           0      0      1      0  \n",
      "4831           0      0      0      1  \n",
      "4501           1      0      1      0  \n",
      "1893           1      1      0      0  \n",
      "1300           0      0      0      1  \n",
      "2991           0      1      0      0  \n",
      "4600           0      1      0      0  \n",
      "661            0      1      0      0  \n",
      "[0]\n"
     ]
    },
    {
     "name": "stderr",
     "output_type": "stream",
     "text": [
      "C:\\Users\\EricC\\Anaconda3\\lib\\site-packages\\ipykernel_launcher.py:3: DataConversionWarning: A column-vector y was passed when a 1d array was expected. Please change the shape of y to (n_samples, ), for example using ravel().\n",
      "  This is separate from the ipykernel package so we can avoid doing imports until\n"
     ]
    }
   ],
   "source": [
    "n_neighbors = 1\n",
    "nbrs = KNeighborsClassifier(n_neighbors=n_neighbors)\n",
    "nbrs.fit(train_x,train_y)\n",
    "\n",
    "# Age = 40, Experience = 10, Income = 84, Family = 2, CCAvg = 2, Mortgage = 0, Securities Account = 0, CD Account = 0, Online = 1, and Credit Card = 1, Education_1 = 0, Education_2 = 1, Education_3 = 0,\n",
    "customer = np.array([[40, 10, 84, 2, 2, 0, 0, 0, 1, 1, 0,1,0]])\n",
    "\n",
    "print(train_x.shape)\n",
    "print(customer.shape)\n",
    "print(train_x.head(20))\n",
    "\n",
    "\n",
    "print(nbrs.predict(customer))"
   ]
  },
  {
   "cell_type": "markdown",
   "metadata": {},
   "source": [
    "The customer is predicted to not opt for the loan"
   ]
  },
  {
   "cell_type": "code",
   "execution_count": 144,
   "metadata": {},
   "outputs": [
    {
     "name": "stderr",
     "output_type": "stream",
     "text": [
      "C:\\Users\\EricC\\Anaconda3\\lib\\site-packages\\ipykernel_launcher.py:3: DataConversionWarning: A column-vector y was passed when a 1d array was expected. Please change the shape of y to (n_samples, ), for example using ravel().\n",
      "  This is separate from the ipykernel package so we can avoid doing imports until\n",
      "C:\\Users\\EricC\\Anaconda3\\lib\\site-packages\\ipykernel_launcher.py:3: DataConversionWarning: A column-vector y was passed when a 1d array was expected. Please change the shape of y to (n_samples, ), for example using ravel().\n",
      "  This is separate from the ipykernel package so we can avoid doing imports until\n",
      "C:\\Users\\EricC\\Anaconda3\\lib\\site-packages\\ipykernel_launcher.py:3: DataConversionWarning: A column-vector y was passed when a 1d array was expected. Please change the shape of y to (n_samples, ), for example using ravel().\n",
      "  This is separate from the ipykernel package so we can avoid doing imports until\n",
      "C:\\Users\\EricC\\Anaconda3\\lib\\site-packages\\ipykernel_launcher.py:3: DataConversionWarning: A column-vector y was passed when a 1d array was expected. Please change the shape of y to (n_samples, ), for example using ravel().\n",
      "  This is separate from the ipykernel package so we can avoid doing imports until\n"
     ]
    },
    {
     "name": "stdout",
     "output_type": "stream",
     "text": [
      "K=1 0.896\n",
      "K=2 0.907\n",
      "K=3 0.901\n",
      "K=4 0.9085\n"
     ]
    },
    {
     "name": "stderr",
     "output_type": "stream",
     "text": [
      "C:\\Users\\EricC\\Anaconda3\\lib\\site-packages\\ipykernel_launcher.py:3: DataConversionWarning: A column-vector y was passed when a 1d array was expected. Please change the shape of y to (n_samples, ), for example using ravel().\n",
      "  This is separate from the ipykernel package so we can avoid doing imports until\n",
      "C:\\Users\\EricC\\Anaconda3\\lib\\site-packages\\ipykernel_launcher.py:3: DataConversionWarning: A column-vector y was passed when a 1d array was expected. Please change the shape of y to (n_samples, ), for example using ravel().\n",
      "  This is separate from the ipykernel package so we can avoid doing imports until\n",
      "C:\\Users\\EricC\\Anaconda3\\lib\\site-packages\\ipykernel_launcher.py:3: DataConversionWarning: A column-vector y was passed when a 1d array was expected. Please change the shape of y to (n_samples, ), for example using ravel().\n",
      "  This is separate from the ipykernel package so we can avoid doing imports until\n",
      "C:\\Users\\EricC\\Anaconda3\\lib\\site-packages\\ipykernel_launcher.py:3: DataConversionWarning: A column-vector y was passed when a 1d array was expected. Please change the shape of y to (n_samples, ), for example using ravel().\n",
      "  This is separate from the ipykernel package so we can avoid doing imports until\n"
     ]
    },
    {
     "name": "stdout",
     "output_type": "stream",
     "text": [
      "K=5 0.9035\n",
      "K=6 0.905\n",
      "K=7 0.903\n",
      "K=8 0.9045\n"
     ]
    },
    {
     "name": "stderr",
     "output_type": "stream",
     "text": [
      "C:\\Users\\EricC\\Anaconda3\\lib\\site-packages\\ipykernel_launcher.py:3: DataConversionWarning: A column-vector y was passed when a 1d array was expected. Please change the shape of y to (n_samples, ), for example using ravel().\n",
      "  This is separate from the ipykernel package so we can avoid doing imports until\n",
      "C:\\Users\\EricC\\Anaconda3\\lib\\site-packages\\ipykernel_launcher.py:3: DataConversionWarning: A column-vector y was passed when a 1d array was expected. Please change the shape of y to (n_samples, ), for example using ravel().\n",
      "  This is separate from the ipykernel package so we can avoid doing imports until\n",
      "C:\\Users\\EricC\\Anaconda3\\lib\\site-packages\\ipykernel_launcher.py:3: DataConversionWarning: A column-vector y was passed when a 1d array was expected. Please change the shape of y to (n_samples, ), for example using ravel().\n",
      "  This is separate from the ipykernel package so we can avoid doing imports until\n"
     ]
    },
    {
     "name": "stdout",
     "output_type": "stream",
     "text": [
      "K=9 0.899\n",
      "K=10 0.9025\n",
      "K=11 0.903\n",
      "K=12 0.907\n",
      "K=13 0.904\n",
      "K=14 0.902\n"
     ]
    },
    {
     "name": "stderr",
     "output_type": "stream",
     "text": [
      "C:\\Users\\EricC\\Anaconda3\\lib\\site-packages\\ipykernel_launcher.py:3: DataConversionWarning: A column-vector y was passed when a 1d array was expected. Please change the shape of y to (n_samples, ), for example using ravel().\n",
      "  This is separate from the ipykernel package so we can avoid doing imports until\n",
      "C:\\Users\\EricC\\Anaconda3\\lib\\site-packages\\ipykernel_launcher.py:3: DataConversionWarning: A column-vector y was passed when a 1d array was expected. Please change the shape of y to (n_samples, ), for example using ravel().\n",
      "  This is separate from the ipykernel package so we can avoid doing imports until\n",
      "C:\\Users\\EricC\\Anaconda3\\lib\\site-packages\\ipykernel_launcher.py:3: DataConversionWarning: A column-vector y was passed when a 1d array was expected. Please change the shape of y to (n_samples, ), for example using ravel().\n",
      "  This is separate from the ipykernel package so we can avoid doing imports until\n"
     ]
    }
   ],
   "source": [
    "for i in range(1,15):\n",
    "    nbrs = KNeighborsClassifier(n_neighbors=i)\n",
    "    nbrs.fit(train_x, train_y)\n",
    "    print(\"K=\"+str(i)+\" \"+str(nbrs.score(test_x,test_y)))\n",
    "    "
   ]
  },
  {
   "cell_type": "markdown",
   "metadata": {},
   "source": [
    "K=12 has the highest score\n",
    "\n",
    "12 neighbors is best because it gives the highest accuracy over the validation set"
   ]
  },
  {
   "cell_type": "code",
   "execution_count": 198,
   "metadata": {},
   "outputs": [
    {
     "name": "stderr",
     "output_type": "stream",
     "text": [
      "C:\\Users\\EricC\\Anaconda3\\lib\\site-packages\\ipykernel_launcher.py:3: DataConversionWarning: A column-vector y was passed when a 1d array was expected. Please change the shape of y to (n_samples, ), for example using ravel().\n",
      "  This is separate from the ipykernel package so we can avoid doing imports until\n"
     ]
    },
    {
     "data": {
      "text/plain": [
       "KNeighborsClassifier(algorithm='auto', leaf_size=30, metric='minkowski',\n",
       "                     metric_params=None, n_jobs=None, n_neighbors=12, p=2,\n",
       "                     weights='uniform')"
      ]
     },
     "execution_count": 198,
     "metadata": {},
     "output_type": "execute_result"
    }
   ],
   "source": [
    "n_neighbors = 12\n",
    "nbrs = KNeighborsClassifier(n_neighbors=n_neighbors)\n",
    "nbrs.fit(train_x,train_y)"
   ]
  },
  {
   "cell_type": "code",
   "execution_count": 199,
   "metadata": {},
   "outputs": [],
   "source": [
    "test_values = test_x.to_dict('index')\n",
    "test_list = []\n",
    "\n",
    "# print(test_values)\n",
    "\n",
    "for index, rows in test_y.iterrows():\n",
    "    test_values[index]['Personal Loan'] = rows['Personal Loan']\n",
    "\n",
    "pred = []\n",
    "actual = []\n",
    "for x in test_values:\n",
    "    cust = list(test_values[x].values())\n",
    "    test_list.append(cust)\n",
    "    pred.append(nbrs.predict([cust[:-1]])[0])\n",
    "    actual.append(cust[-1:][0])\n"
   ]
  },
  {
   "cell_type": "code",
   "execution_count": 200,
   "metadata": {},
   "outputs": [
    {
     "data": {
      "text/plain": [
       "array([[1771,   28],\n",
       "       [ 158,   43]], dtype=int64)"
      ]
     },
     "execution_count": 200,
     "metadata": {},
     "output_type": "execute_result"
    }
   ],
   "source": [
    "confusion_matrix(actual,pred)"
   ]
  },
  {
   "cell_type": "markdown",
   "metadata": {},
   "source": [
    "This means that\n",
    "rows are actual columns are predictions\n",
    "\n",
    "1771 predictions were 0 and actual 0\n",
    "28   predictions were 1 and acutal 0\n",
    "158  predictions were 0 and actual 1\n",
    "43   predictions were 1 and actual 1\n",
    "\n",
    "This means that the algorithm still highly favors inaccuratly predicting 0 for loan aplicants who would have accepted\n",
    "False Negative Ratio = .0819\n",
    "\n",
    "This is a false negative, and represents missed opportunities for the bank"
   ]
  },
  {
   "cell_type": "code",
   "execution_count": 201,
   "metadata": {},
   "outputs": [
    {
     "name": "stdout",
     "output_type": "stream",
     "text": [
      "[0]\n"
     ]
    }
   ],
   "source": [
    "customer = np.array([[40, 10, 84, 2, 2, 1, 0, 0, 1, 1, 0,1,0]])\n",
    "\n",
    "print(nbrs.predict(customer))"
   ]
  },
  {
   "cell_type": "code",
   "execution_count": 202,
   "metadata": {},
   "outputs": [],
   "source": [
    "train, temp = train_test_split(data_dummies, test_size=0.5, random_state=42, shuffle=True)\n",
    "val, test = train_test_split(temp, test_size=0.4, random_state=42, shuffle=True)\n",
    "\n",
    "train_y = train.filter(items=['Personal Loan'])\n",
    "train_x = train.drop(['Personal Loan','ZIP Code'], axis=1)\n",
    "\n",
    "val_y = val.filter(items=['Personal Loan'])\n",
    "val_x = val.drop(['Personal Loan','ZIP Code'], axis=1)\n",
    "\n",
    "test_y = test.filter(items=['Personal Loan'])\n",
    "test_x = test.drop(['Personal Loan','ZIP Code'], axis=1)"
   ]
  },
  {
   "cell_type": "code",
   "execution_count": 204,
   "metadata": {},
   "outputs": [
    {
     "name": "stderr",
     "output_type": "stream",
     "text": [
      "C:\\Users\\EricC\\Anaconda3\\lib\\site-packages\\ipykernel_launcher.py:3: DataConversionWarning: A column-vector y was passed when a 1d array was expected. Please change the shape of y to (n_samples, ), for example using ravel().\n",
      "  This is separate from the ipykernel package so we can avoid doing imports until\n",
      "C:\\Users\\EricC\\Anaconda3\\lib\\site-packages\\ipykernel_launcher.py:3: DataConversionWarning: A column-vector y was passed when a 1d array was expected. Please change the shape of y to (n_samples, ), for example using ravel().\n",
      "  This is separate from the ipykernel package so we can avoid doing imports until\n",
      "C:\\Users\\EricC\\Anaconda3\\lib\\site-packages\\ipykernel_launcher.py:3: DataConversionWarning: A column-vector y was passed when a 1d array was expected. Please change the shape of y to (n_samples, ), for example using ravel().\n",
      "  This is separate from the ipykernel package so we can avoid doing imports until\n",
      "C:\\Users\\EricC\\Anaconda3\\lib\\site-packages\\ipykernel_launcher.py:3: DataConversionWarning: A column-vector y was passed when a 1d array was expected. Please change the shape of y to (n_samples, ), for example using ravel().\n",
      "  This is separate from the ipykernel package so we can avoid doing imports until\n",
      "C:\\Users\\EricC\\Anaconda3\\lib\\site-packages\\ipykernel_launcher.py:3: DataConversionWarning: A column-vector y was passed when a 1d array was expected. Please change the shape of y to (n_samples, ), for example using ravel().\n",
      "  This is separate from the ipykernel package so we can avoid doing imports until\n"
     ]
    },
    {
     "name": "stdout",
     "output_type": "stream",
     "text": [
      "K=1 0.882\n",
      "K=2 0.8946666666666667\n",
      "K=3 0.8893333333333333\n",
      "K=4 0.8953333333333333\n",
      "K=5 0.8906666666666667\n",
      "K=6 0.892"
     ]
    },
    {
     "name": "stderr",
     "output_type": "stream",
     "text": [
      "C:\\Users\\EricC\\Anaconda3\\lib\\site-packages\\ipykernel_launcher.py:3: DataConversionWarning: A column-vector y was passed when a 1d array was expected. Please change the shape of y to (n_samples, ), for example using ravel().\n",
      "  This is separate from the ipykernel package so we can avoid doing imports until\n",
      "C:\\Users\\EricC\\Anaconda3\\lib\\site-packages\\ipykernel_launcher.py:3: DataConversionWarning: A column-vector y was passed when a 1d array was expected. Please change the shape of y to (n_samples, ), for example using ravel().\n",
      "  This is separate from the ipykernel package so we can avoid doing imports until\n",
      "C:\\Users\\EricC\\Anaconda3\\lib\\site-packages\\ipykernel_launcher.py:3: DataConversionWarning: A column-vector y was passed when a 1d array was expected. Please change the shape of y to (n_samples, ), for example using ravel().\n",
      "  This is separate from the ipykernel package so we can avoid doing imports until\n",
      "C:\\Users\\EricC\\Anaconda3\\lib\\site-packages\\ipykernel_launcher.py:3: DataConversionWarning: A column-vector y was passed when a 1d array was expected. Please change the shape of y to (n_samples, ), for example using ravel().\n",
      "  This is separate from the ipykernel package so we can avoid doing imports until\n",
      "C:\\Users\\EricC\\Anaconda3\\lib\\site-packages\\ipykernel_launcher.py:3: DataConversionWarning: A column-vector y was passed when a 1d array was expected. Please change the shape of y to (n_samples, ), for example using ravel().\n",
      "  This is separate from the ipykernel package so we can avoid doing imports until\n"
     ]
    },
    {
     "name": "stdout",
     "output_type": "stream",
     "text": [
      "\n",
      "K=7 0.89\n",
      "K=8 0.888\n",
      "K=9 0.8853333333333333\n",
      "K=10 0.8906666666666667\n",
      "K=11 0.8906666666666667\n",
      "K=12 0.8926666666666667\n",
      "K=13 0.8886666666666667\n",
      "K=14 0.8933333333333333\n"
     ]
    },
    {
     "name": "stderr",
     "output_type": "stream",
     "text": [
      "C:\\Users\\EricC\\Anaconda3\\lib\\site-packages\\ipykernel_launcher.py:3: DataConversionWarning: A column-vector y was passed when a 1d array was expected. Please change the shape of y to (n_samples, ), for example using ravel().\n",
      "  This is separate from the ipykernel package so we can avoid doing imports until\n",
      "C:\\Users\\EricC\\Anaconda3\\lib\\site-packages\\ipykernel_launcher.py:3: DataConversionWarning: A column-vector y was passed when a 1d array was expected. Please change the shape of y to (n_samples, ), for example using ravel().\n",
      "  This is separate from the ipykernel package so we can avoid doing imports until\n",
      "C:\\Users\\EricC\\Anaconda3\\lib\\site-packages\\ipykernel_launcher.py:3: DataConversionWarning: A column-vector y was passed when a 1d array was expected. Please change the shape of y to (n_samples, ), for example using ravel().\n",
      "  This is separate from the ipykernel package so we can avoid doing imports until\n",
      "C:\\Users\\EricC\\Anaconda3\\lib\\site-packages\\ipykernel_launcher.py:3: DataConversionWarning: A column-vector y was passed when a 1d array was expected. Please change the shape of y to (n_samples, ), for example using ravel().\n",
      "  This is separate from the ipykernel package so we can avoid doing imports until\n"
     ]
    }
   ],
   "source": [
    "for i in range(1,15):\n",
    "    nbrs = KNeighborsClassifier(n_neighbors=i)\n",
    "    nbrs.fit(train_x, train_y)\n",
    "    print(\"K=\"+str(i)+\" \"+str(nbrs.score(val_x,val_y)))"
   ]
  },
  {
   "cell_type": "markdown",
   "metadata": {},
   "source": [
    "K = 14 is the best score"
   ]
  },
  {
   "cell_type": "code",
   "execution_count": 205,
   "metadata": {},
   "outputs": [
    {
     "name": "stderr",
     "output_type": "stream",
     "text": [
      "C:\\Users\\EricC\\Anaconda3\\lib\\site-packages\\ipykernel_launcher.py:3: DataConversionWarning: A column-vector y was passed when a 1d array was expected. Please change the shape of y to (n_samples, ), for example using ravel().\n",
      "  This is separate from the ipykernel package so we can avoid doing imports until\n"
     ]
    },
    {
     "data": {
      "text/plain": [
       "KNeighborsClassifier(algorithm='auto', leaf_size=30, metric='minkowski',\n",
       "                     metric_params=None, n_jobs=None, n_neighbors=14, p=2,\n",
       "                     weights='uniform')"
      ]
     },
     "execution_count": 205,
     "metadata": {},
     "output_type": "execute_result"
    }
   ],
   "source": [
    "n_neighbors = 14\n",
    "nbrs = KNeighborsClassifier(n_neighbors=n_neighbors)\n",
    "nbrs.fit(train_x,train_y)"
   ]
  },
  {
   "cell_type": "code",
   "execution_count": 206,
   "metadata": {},
   "outputs": [],
   "source": [
    "test_values = test_x.to_dict('index')\n",
    "test_list = []\n",
    "\n",
    "# print(test_values)\n",
    "\n",
    "for index, rows in test_y.iterrows():\n",
    "    test_values[index]['Personal Loan'] = rows['Personal Loan']\n",
    "\n",
    "pred = []\n",
    "actual = []\n",
    "for x in test_values:\n",
    "    cust = list(test_values[x].values())\n",
    "    test_list.append(cust)\n",
    "    pred.append(nbrs.predict([cust[:-1]])[0])\n",
    "    actual.append(cust[-1:][0])"
   ]
  },
  {
   "cell_type": "code",
   "execution_count": 207,
   "metadata": {},
   "outputs": [
    {
     "data": {
      "text/plain": [
       "array([[898,  11],\n",
       "       [ 77,  14]], dtype=int64)"
      ]
     },
     "execution_count": 207,
     "metadata": {},
     "output_type": "execute_result"
    }
   ],
   "source": [
    "confusion_matrix(actual,pred)"
   ]
  },
  {
   "cell_type": "markdown",
   "metadata": {},
   "source": [
    "This means that\n",
    "rows are actual columns are predictions\n",
    "\n",
    "898  predictions were 0 and actual 0\n",
    "11   predictions were 1 and acutal 0\n",
    "77   predictions were 0 and actual 1\n",
    "14   predictions were 1 and actual 1\n",
    "\n",
    "This means that the algorithm still highly favors inaccuratly predicting 0 for loan aplicants who would have accepted\n",
    "False Negative Ratio = .0790\n",
    "\n",
    "This is a false negative, and represents missed opportunities for the bank but because the data used a training/validation/test split the false negative ratio went down slightly. This happens because the test data has never been seen by the algorithm and the validation data was used to select the K value for the algorithm. The results are more robust because the data used to select the K value was different from the data used to test the algorithm."
   ]
  }
 ],
 "metadata": {
  "kernelspec": {
   "display_name": "Python 3",
   "language": "python",
   "name": "python3"
  },
  "language_info": {
   "codemirror_mode": {
    "name": "ipython",
    "version": 3
   },
   "file_extension": ".py",
   "mimetype": "text/x-python",
   "name": "python",
   "nbconvert_exporter": "python",
   "pygments_lexer": "ipython3",
   "version": "3.7.9"
  }
 },
 "nbformat": 4,
 "nbformat_minor": 4
}
